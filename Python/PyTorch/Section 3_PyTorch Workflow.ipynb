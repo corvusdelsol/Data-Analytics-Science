{
 "cells": [
  {
   "cell_type": "code",
   "execution_count": 1,
   "id": "a02d60f7",
   "metadata": {},
   "outputs": [],
   "source": [
    "import torch\n",
    "import numpy as np\n",
    "import pandas as pd\n",
    "import matplotlib.pyplot as plt\n",
    "%matplotlib inline\n",
    "import seaborn as sns"
   ]
  },
  {
   "cell_type": "code",
   "execution_count": 2,
   "id": "caea0adf",
   "metadata": {},
   "outputs": [],
   "source": [
    "#Steps include:\n",
    "#1. Prepare data into tensors\n",
    "#2. Build or pick a pre-trained model (select loss function & optimizer, build training loop)\n",
    "#3. Fit the model to the data and make a prediction\n",
    "#4. Evaluate the model\n",
    "#5. Improve through experimentation\n",
    "#6. Save and reload your trained model"
   ]
  },
  {
   "cell_type": "code",
   "execution_count": 3,
   "id": "427b0eb6",
   "metadata": {},
   "outputs": [],
   "source": [
    "#Load in PyTorch's building blocks for neural networks\n",
    "from torch import nn"
   ]
  },
  {
   "cell_type": "code",
   "execution_count": 4,
   "id": "1b20e0b1",
   "metadata": {},
   "outputs": [
    {
     "name": "stdout",
     "output_type": "stream",
     "text": [
      "2.1.0\n"
     ]
    }
   ],
   "source": [
    "print(torch.__version__)"
   ]
  },
  {
   "cell_type": "markdown",
   "id": "8d74e951",
   "metadata": {},
   "source": [
    "# Creating a Simple Dataset Using the Linear Regression Formula"
   ]
  },
  {
   "cell_type": "code",
   "execution_count": 5,
   "id": "e11e740b",
   "metadata": {},
   "outputs": [
    {
     "data": {
      "text/plain": [
       "tensor([[0.0000],\n",
       "        [0.0200],\n",
       "        [0.0400],\n",
       "        [0.0600],\n",
       "        [0.0800],\n",
       "        [0.1000],\n",
       "        [0.1200],\n",
       "        [0.1400],\n",
       "        [0.1600],\n",
       "        [0.1800]])"
      ]
     },
     "execution_count": 5,
     "metadata": {},
     "output_type": "execute_result"
    }
   ],
   "source": [
    "weight = 0.7\n",
    "bias   = 0.3\n",
    "\n",
    "start = 0\n",
    "end = 1\n",
    "step = 0.02\n",
    "X = torch.arange(start,end,step).unsqueeze(dim=1)\n",
    "y = weight * X + bias\n",
    "\n",
    "X[:10]"
   ]
  },
  {
   "cell_type": "code",
   "execution_count": 6,
   "id": "37ba69cb",
   "metadata": {},
   "outputs": [
    {
     "data": {
      "text/plain": [
       "tensor([[0.3000],\n",
       "        [0.3140],\n",
       "        [0.3280],\n",
       "        [0.3420],\n",
       "        [0.3560],\n",
       "        [0.3700],\n",
       "        [0.3840],\n",
       "        [0.3980],\n",
       "        [0.4120],\n",
       "        [0.4260]])"
      ]
     },
     "execution_count": 6,
     "metadata": {},
     "output_type": "execute_result"
    }
   ],
   "source": [
    "y[:10]"
   ]
  },
  {
   "cell_type": "code",
   "execution_count": 7,
   "id": "1d261f4e",
   "metadata": {},
   "outputs": [
    {
     "data": {
      "text/plain": [
       "(50, 50)"
      ]
     },
     "execution_count": 7,
     "metadata": {},
     "output_type": "execute_result"
    }
   ],
   "source": [
    "len(X), len(y)"
   ]
  },
  {
   "cell_type": "markdown",
   "id": "be477a49",
   "metadata": {},
   "source": [
    "# Splitting Our Data into Training and Test Sets"
   ]
  },
  {
   "cell_type": "code",
   "execution_count": 8,
   "id": "6037b0d3",
   "metadata": {},
   "outputs": [],
   "source": [
    "#Training, validation, and test sets"
   ]
  },
  {
   "cell_type": "code",
   "execution_count": 9,
   "id": "a3c6c94a",
   "metadata": {},
   "outputs": [
    {
     "data": {
      "text/plain": [
       "40"
      ]
     },
     "execution_count": 9,
     "metadata": {},
     "output_type": "execute_result"
    }
   ],
   "source": [
    "train_split = int(0.8 * len(X))\n",
    "train_split"
   ]
  },
  {
   "cell_type": "code",
   "execution_count": 10,
   "id": "c68084c5",
   "metadata": {},
   "outputs": [],
   "source": [
    "X_train, y_train = X[:train_split], y[:train_split]\n",
    "X_test, y_test = X[train_split:], y[train_split:]"
   ]
  },
  {
   "cell_type": "code",
   "execution_count": 11,
   "id": "f155fd18",
   "metadata": {},
   "outputs": [
    {
     "data": {
      "text/plain": [
       "(40, 40, 10, 10)"
      ]
     },
     "execution_count": 11,
     "metadata": {},
     "output_type": "execute_result"
    }
   ],
   "source": [
    "len(X_train), len(y_train), len(X_test), len(y_test)"
   ]
  },
  {
   "cell_type": "markdown",
   "id": "e0d5a61a",
   "metadata": {},
   "source": [
    "# Building a Function to Visualize our Data"
   ]
  },
  {
   "cell_type": "code",
   "execution_count": 83,
   "id": "6d46eb74",
   "metadata": {},
   "outputs": [],
   "source": [
    "def plot_predictions(train_data=X_train,\n",
    "                     train_labels=y_train,\n",
    "                     test_data=X_test,\n",
    "                     test_labels=y_test,\n",
    "                     predictions=None):\n",
    "    \"\"\"\n",
    "    Plots training data, test data, and compares predictions.\n",
    "    \"\"\"\n",
    "    \n",
    "    plt.figure(figsize=(10,7))\n",
    "    \n",
    "    #Plot training data in blue\n",
    "    plt.scatter(train_data, train_labels, c=\"b\", s=4, label=\"Training Data\")\n",
    "    \n",
    "    #Plot test data in red\n",
    "    plt.scatter(test_data, test_labels, c=\"g\", s=4, label=\"Testing Data\")\n",
    "    \n",
    "    #Are there predictions?\n",
    "    if predictions is not None: \n",
    "        #Plot the predictions if they exist\n",
    "        plt.scatter(test_data,predictions, c=\"r\", s=4, label=\"Predictions\")\n",
    "    \n",
    "    #Show the legend\n",
    "    plt.legend(prop={\"size\": 14});"
   ]
  },
  {
   "cell_type": "code",
   "execution_count": 13,
   "id": "1df39ed3",
   "metadata": {},
   "outputs": [
    {
     "data": {
      "image/png": "[encoded data removed]",
      "text/plain": [
       "<Figure size 1000x700 with 1 Axes>"
      ]
     },
     "metadata": {},
     "output_type": "display_data"
    }
   ],
   "source": [
    "plot_predictions();"
   ]
  },
  {
   "cell_type": "markdown",
   "id": "d819bcf2",
   "metadata": {},
   "source": [
    "# Creating our First PyTorch Model for Linear Regression"
   ]
  },
  {
   "cell_type": "code",
   "execution_count": 14,
   "id": "e2399e8f",
   "metadata": {},
   "outputs": [],
   "source": [
    "#Our model is trained via gradient descent and backpropagation"
   ]
  },
  {
   "cell_type": "code",
   "execution_count": 15,
   "id": "22886c4b",
   "metadata": {},
   "outputs": [],
   "source": [
    "class LinearRegressionModel(nn.Module): #almost everything in PyTorch inherits from nn.Module\n",
    "    def __init__(self):\n",
    "        super().__init__()\n",
    "        self.weights = nn.Parameter(torch.randn(1,\n",
    "                                               requires_grad=True,\n",
    "                                               dtype=torch.float))\n",
    "        \n",
    "        self.bias = nn.Parameter(torch.randn(1,\n",
    "                                            requires_grad=True,\n",
    "                                            dtype=torch.float))\n",
    "        \n",
    "        #Forward method to define the computation in the model\n",
    "    def forward(self, x: torch.Tensor) -> torch.Tensor: #x is the input data\n",
    "        return self.weights * x + self.bias"
   ]
  },
  {
   "cell_type": "markdown",
   "id": "086576e3",
   "metadata": {},
   "source": [
    "# Breaking Down What's Happening in Our PyTorch Linear Regression Model"
   ]
  },
  {
   "cell_type": "markdown",
   "id": "2ce6cfb0",
   "metadata": {},
   "source": [
    "*Looking at the above chunk of code:\n",
    "\n",
    "*nn.Module is the subclass.\n",
    "\n",
    "*We initialize the parameters(weights and bias) as random values to be used in various computations.\n",
    "\n",
    "*requires_grad=True activates gradient descent (True by default) so PyTorch tracks the gradient of that parameter to be \n",
    "used with torch.autograd.\n",
    "\n",
    "*Any subclass of nn.Module needs to override forward(). Forward method defines the forward computations in the model."
   ]
  },
  {
   "cell_type": "markdown",
   "id": "d1b32471",
   "metadata": {},
   "source": [
    "# Discussing Some of the Most Important PyTorch Model Building Classes"
   ]
  },
  {
   "cell_type": "markdown",
   "id": "4d21d015",
   "metadata": {},
   "source": [
    "*torch.nn - contains all of the building blocks for computational graphs(neural networks).\n",
    "\n",
    "*torch.nn.Parameter - what parameters our model should try to learn. \n",
    "Often a layer from torch.nn will set these for us.\n",
    "\n",
    "*torch.nn.Module - the base class for all neural network modules. \n",
    "If you subclass it, you should overwrite forward().\n",
    "\n",
    "*torch.optim - this is where the optimizers in PyTorch live, which help with gradient descent.\n",
    "\n",
    "*def forward() - All nn.Module subclasses require you to overwrite forward().\n",
    "This method defines what happens in the forward computation.\n",
    "\n",
    "*torch.utils.data.Dataset - represents a map between key(label) and sample(features) pairs of your data.\n",
    "Such as images and their associated labels.\n",
    "\n",
    "*torch.utils.data.Dataloader - Creates a Python iterable over a torch dataset (allows you to iterate over your data)."
   ]
  },
  {
   "cell_type": "markdown",
   "id": "675ddf01",
   "metadata": {},
   "source": [
    "# Checking Out the Internals of Our PyTorch Model"
   ]
  },
  {
   "cell_type": "code",
   "execution_count": 16,
   "id": "c2d9e093",
   "metadata": {},
   "outputs": [],
   "source": [
    "#Remember our Workflow:\n",
    "\n",
    "#1. Get data ready (turn into tensors)\n",
    "# (torchvision.transforms, torch.utils.data.Dataset, torch.utils.data.DataLoader)\n",
    "\n",
    "#2. Build or pick a pre-trained model\n",
    "# (for loss function: torch.nn, torch.nn.Module, torchvision.models)\n",
    "# (for optimizers: torch.optim)\n",
    "\n",
    "#3. Fit the model to the data and make a prediction\n",
    "\n",
    "#4. Evaluate the model\n",
    "# (torchmetrics)\n",
    "\n",
    "#5. Improve through experimentation\n",
    "# (torch.utils.tensorboard)\n",
    "\n",
    "#6. Save and reload your trained model"
   ]
  },
  {
   "cell_type": "code",
   "execution_count": 17,
   "id": "9a117ef6",
   "metadata": {},
   "outputs": [
    {
     "data": {
      "text/plain": [
       "[Parameter containing:\n",
       " tensor([0.3367], requires_grad=True),\n",
       " Parameter containing:\n",
       " tensor([0.1288], requires_grad=True)]"
      ]
     },
     "execution_count": 17,
     "metadata": {},
     "output_type": "execute_result"
    }
   ],
   "source": [
    "#Check contents of our PyTorch model\n",
    "torch.manual_seed(42) #optional random seed setting for reproducability\n",
    "\n",
    "#Create an instance of the model (subclass of nn.Module)\n",
    "model_0 = LinearRegressionModel()\n",
    "\n",
    "#Check parameter values\n",
    "list(model_0.parameters())"
   ]
  },
  {
   "cell_type": "code",
   "execution_count": 18,
   "id": "43cda566",
   "metadata": {},
   "outputs": [
    {
     "data": {
      "text/plain": [
       "OrderedDict([('weights', tensor([0.3367])), ('bias', tensor([0.1288]))])"
      ]
     },
     "execution_count": 18,
     "metadata": {},
     "output_type": "execute_result"
    }
   ],
   "source": [
    "#List named parameters\n",
    "model_0.state_dict()"
   ]
  },
  {
   "cell_type": "code",
   "execution_count": 19,
   "id": "7fbbe0b3",
   "metadata": {},
   "outputs": [
    {
     "data": {
      "text/plain": [
       "(0.7, 0.3)"
      ]
     },
     "execution_count": 19,
     "metadata": {},
     "output_type": "execute_result"
    }
   ],
   "source": [
    "#set known parameter values (see above)\n",
    "weight, bias"
   ]
  },
  {
   "cell_type": "markdown",
   "id": "0e6792cf",
   "metadata": {},
   "source": [
    "# Making Predictions with our Random Model Using Inference Mode"
   ]
  },
  {
   "cell_type": "code",
   "execution_count": 20,
   "id": "588ba75f",
   "metadata": {},
   "outputs": [
    {
     "data": {
      "text/plain": [
       "tensor([[0.3982],\n",
       "        [0.4049],\n",
       "        [0.4116],\n",
       "        [0.4184],\n",
       "        [0.4251],\n",
       "        [0.4318],\n",
       "        [0.4386],\n",
       "        [0.4453],\n",
       "        [0.4520],\n",
       "        [0.4588]])"
      ]
     },
     "execution_count": 20,
     "metadata": {},
     "output_type": "execute_result"
    }
   ],
   "source": [
    "#Predict using torch.inference_mode()\n",
    "#inference_mode() does not track the gradient since we only need to do so during training, not making predictions\n",
    "#Data passed through our model is run through the forward() method\n",
    "\n",
    "with torch.inference_mode():\n",
    "    y_preds = model_0(X_test)\n",
    "    \n",
    "y_preds\n",
    "\n",
    "#If you get NotImplementedError, make sure the defined __init__ and forward methods are in line with each other\n",
    "#with regards to indentation. "
   ]
  },
  {
   "cell_type": "code",
   "execution_count": 21,
   "id": "915bbf0a",
   "metadata": {},
   "outputs": [
    {
     "data": {
      "text/plain": [
       "tensor([[0.8600],\n",
       "        [0.8740],\n",
       "        [0.8880],\n",
       "        [0.9020],\n",
       "        [0.9160],\n",
       "        [0.9300],\n",
       "        [0.9440],\n",
       "        [0.9580],\n",
       "        [0.9720],\n",
       "        [0.9860]])"
      ]
     },
     "execution_count": 21,
     "metadata": {},
     "output_type": "execute_result"
    }
   ],
   "source": [
    "y_test"
   ]
  },
  {
   "cell_type": "code",
   "execution_count": 22,
   "id": "d61092fa",
   "metadata": {},
   "outputs": [
    {
     "data": {
      "image/png": "[encoded data removed]",
      "text/plain": [
       "<Figure size 1000x700 with 1 Axes>"
      ]
     },
     "metadata": {},
     "output_type": "display_data"
    }
   ],
   "source": [
    "plot_predictions(predictions=y_preds)\n",
    "#Note predictions in bottom right of graph, very bad predictions"
   ]
  },
  {
   "cell_type": "markdown",
   "id": "e0a83b49",
   "metadata": {},
   "source": [
    "# Training a Model Intuition (The Things We Need)"
   ]
  },
  {
   "cell_type": "code",
   "execution_count": 23,
   "id": "cc173de6",
   "metadata": {},
   "outputs": [],
   "source": [
    "#We use loss functions to measure how poorly our predictions fit to the test data (squared error, cross-entropy,etc.)\n",
    "\n",
    "#We use optimizers to take into account the loss of a model and adjusts the model's parameters so as to minimize the loss,\n",
    "#or equivalently by maximizing the likelihood.\n",
    "\n",
    "#Common loss functions:\n",
    "#Mean absolute error (MAE) for regression torch.nn.L1Loss()\n",
    "#Squared error loss (MSE) for regression torch.nn.MSELoss()\n",
    "#Binary cross-entropy for binary classification torch.nn.BCELoss()\n",
    "#Cross entropy torch.nn.CrossEntropyLoss()\n",
    "\n",
    "#Common optimizers:\n",
    "#Stochastic gradient descent torch.optim.SGD()\n",
    "#Adam optimizer torch.optim.Adam() (high-performance adaptive gradient descent)"
   ]
  },
  {
   "cell_type": "code",
   "execution_count": 24,
   "id": "9f84e1b7",
   "metadata": {},
   "outputs": [],
   "source": [
    "#For PyTorch, we need a training loop and a testing loop."
   ]
  },
  {
   "cell_type": "markdown",
   "id": "8f4f779b",
   "metadata": {},
   "source": [
    "# Setting Up an Optimizer and a Loss Function"
   ]
  },
  {
   "cell_type": "code",
   "execution_count": 25,
   "id": "16cfdaea",
   "metadata": {},
   "outputs": [],
   "source": [
    "#Setup a loss function\n",
    "loss_fn = nn.L1Loss() #MAE L1 norm loss function\n",
    "\n",
    "#Setup an optimizer\n",
    "optimizer = torch.optim.SGD(params=model_0.parameters(), #Stochastic gradient descent\n",
    "                           lr=0.01)                      #lr = learning rate"
   ]
  },
  {
   "cell_type": "markdown",
   "id": "624c6493",
   "metadata": {},
   "source": [
    "# PyTorch Training Loop Steps and Intuition"
   ]
  },
  {
   "cell_type": "code",
   "execution_count": 26,
   "id": "5e49aa49",
   "metadata": {},
   "outputs": [],
   "source": [
    "#Things needed to set up a training loop:\n",
    "#0. Loop through the data and do steps 1-5:\n",
    "#1. Forward pass (moving data through our model's forward() functions to make predictions)\n",
    "#2. Calculate the loss\n",
    "#3. Optimizer zero grad\n",
    "#4. Loss backward (move backwards through the network to calculate each parameter's gradient wrt the loss) **backpropagation**\n",
    "#5. Optimizer step (optimizer adjusts parameters via learning rate) **gradient descent**"
   ]
  },
  {
   "cell_type": "markdown",
   "id": "9e8c7cd2",
   "metadata": {},
   "source": [
    "# Writing Code for a PyTorch Training Loop"
   ]
  },
  {
   "cell_type": "code",
   "execution_count": 27,
   "id": "9c1045c0",
   "metadata": {},
   "outputs": [
    {
     "name": "stdout",
     "output_type": "stream",
     "text": [
      "Loss: 0.31288138031959534\n",
      "OrderedDict([('weights', tensor([0.3406])), ('bias', tensor([0.1388]))])\n"
     ]
    }
   ],
   "source": [
    "torch.manual_seed(42)\n",
    "epochs = 1 #an epoch is one loop through the data\n",
    "\n",
    "#0.\n",
    "for epoch in range(epochs):\n",
    "    #set model to training mode\n",
    "    model_0.train() #train mode in PyTorch sets all parameters that require gradients to require gradients\n",
    "    \n",
    "    #1. Forward Pass\n",
    "    y_pred = model_0(X_train)\n",
    "    \n",
    "    #2. Calculate loss\n",
    "    loss = loss_fn(y_pred, y_train)\n",
    "    print(f\"Loss: {loss}\")\n",
    "    \n",
    "    #3. Optimizer zero grad\n",
    "    optimizer.zero_grad()\n",
    "    \n",
    "    #4. Backpropagation on the loss to calculate gradients\n",
    "    loss.backward()\n",
    "    \n",
    "    #5. Optimizer step (gradient descent)\n",
    "    optimizer.step()\n",
    "    \n",
    "    ##Testing\n",
    "    model_0.eval() #turns off gradient tracking\n",
    "    \n",
    "    #Print current parameter values\n",
    "    print(model_0.state_dict())"
   ]
  },
  {
   "cell_type": "markdown",
   "id": "42e41900",
   "metadata": {},
   "source": [
    "# Reviewing the Steps in a Training Loop Step by Step"
   ]
  },
  {
   "cell_type": "markdown",
   "id": "53e7bd2d",
   "metadata": {},
   "source": [
    "# Running Our Training Loop Epoch by Epoch & Seeing What Happens"
   ]
  },
  {
   "cell_type": "code",
   "execution_count": 28,
   "id": "95d7405f",
   "metadata": {},
   "outputs": [],
   "source": [
    "#Run above training loop repeatedly to see loss decrease and parameter values approach \"true\" values"
   ]
  },
  {
   "cell_type": "code",
   "execution_count": 29,
   "id": "c707f94b",
   "metadata": {},
   "outputs": [
    {
     "data": {
      "text/plain": [
       "(0.7, 0.3)"
      ]
     },
     "execution_count": 29,
     "metadata": {},
     "output_type": "execute_result"
    }
   ],
   "source": [
    "weight, bias #pre-set \"true\" parameter values"
   ]
  },
  {
   "cell_type": "code",
   "execution_count": 30,
   "id": "93985480",
   "metadata": {},
   "outputs": [
    {
     "data": {
      "image/png": "[encoded data removed]",
      "text/plain": [
       "<Figure size 1000x700 with 1 Axes>"
      ]
     },
     "metadata": {},
     "output_type": "display_data"
    }
   ],
   "source": [
    "#Make some predictions with model_0 as is\n",
    "with torch.inference_mode():\n",
    "    y_preds_new = model_0(X_test)\n",
    "plot_predictions(predictions=y_preds_new)"
   ]
  },
  {
   "cell_type": "markdown",
   "id": "3a23716e",
   "metadata": {},
   "source": [
    "# Writing Testing Loop Code & Discussing What's Happening Step by Step"
   ]
  },
  {
   "cell_type": "code",
   "execution_count": 31,
   "id": "a7523792",
   "metadata": {},
   "outputs": [],
   "source": [
    "#See ###Testing section of training/testing loop below"
   ]
  },
  {
   "cell_type": "code",
   "execution_count": 32,
   "id": "37a271df",
   "metadata": {},
   "outputs": [
    {
     "data": {
      "text/plain": [
       "OrderedDict([('weights', tensor([0.3367])), ('bias', tensor([0.1288]))])"
      ]
     },
     "execution_count": 32,
     "metadata": {},
     "output_type": "execute_result"
    }
   ],
   "source": [
    "#Reset model to initial values\n",
    "torch.manual_seed(42)\n",
    "model_0 = LinearRegressionModel()\n",
    "loss_fn = nn.L1Loss() \n",
    "optimizer = torch.optim.SGD(params=model_0.parameters(), lr=0.01)  \n",
    "model_0.state_dict()"
   ]
  },
  {
   "cell_type": "code",
   "execution_count": 33,
   "id": "9e29e73e",
   "metadata": {},
   "outputs": [
    {
     "name": "stdout",
     "output_type": "stream",
     "text": [
      "Epoch: 0 | Loss: 0.31288138031959534 | Test loss: 0.48106518387794495\n",
      "Epoch: 10 | Loss: 0.1976713240146637 | Test loss: 0.3463551998138428\n",
      "Epoch: 20 | Loss: 0.08908725529909134 | Test loss: 0.21729660034179688\n",
      "Epoch: 30 | Loss: 0.053148526698350906 | Test loss: 0.14464017748832703\n",
      "Epoch: 40 | Loss: 0.04543796554207802 | Test loss: 0.11360953003168106\n",
      "Epoch: 50 | Loss: 0.04167863354086876 | Test loss: 0.09919948130846024\n",
      "Epoch: 60 | Loss: 0.03818932920694351 | Test loss: 0.08886633068323135\n",
      "Epoch: 70 | Loss: 0.03476089984178543 | Test loss: 0.0805937647819519\n",
      "Epoch: 80 | Loss: 0.03132382780313492 | Test loss: 0.07232122868299484\n",
      "Epoch: 90 | Loss: 0.02788739837706089 | Test loss: 0.06473556160926819\n",
      "Epoch: 100 | Loss: 0.024458957836031914 | Test loss: 0.05646304413676262\n",
      "Epoch: 110 | Loss: 0.021020207554101944 | Test loss: 0.04819049686193466\n",
      "Epoch: 120 | Loss: 0.01758546568453312 | Test loss: 0.04060482233762741\n",
      "Epoch: 130 | Loss: 0.014155393466353416 | Test loss: 0.03233227878808975\n",
      "Epoch: 140 | Loss: 0.010716589167714119 | Test loss: 0.024059748277068138\n",
      "Epoch: 150 | Loss: 0.0072835334576666355 | Test loss: 0.016474086791276932\n",
      "Epoch: 160 | Loss: 0.0038517764769494534 | Test loss: 0.008201557211577892\n",
      "Epoch: 170 | Loss: 0.008932482451200485 | Test loss: 0.005023092031478882\n",
      "Epoch: 180 | Loss: 0.008932482451200485 | Test loss: 0.005023092031478882\n",
      "Epoch: 190 | Loss: 0.008932482451200485 | Test loss: 0.005023092031478882\n"
     ]
    }
   ],
   "source": [
    "torch.manual_seed(42)\n",
    "epochs = 200 #an epoch is one loop through the data\n",
    "\n",
    "#Create empty lists for storing loss values\n",
    "epoch_count = []\n",
    "train_loss_values = []\n",
    "test_loss_values = []\n",
    "\n",
    "#0.\n",
    "for epoch in range(epochs):\n",
    "    #set model to training mode\n",
    "    model_0.train() #train mode in PyTorch sets all parameters that require gradients to require gradients\n",
    "    \n",
    "    #1. Forward Pass\n",
    "    y_pred = model_0(X_train)\n",
    "    \n",
    "    #2. Calculate loss\n",
    "    loss = loss_fn(y_pred, y_train)\n",
    "    \n",
    "    #3. Optimizer zero grad\n",
    "    optimizer.zero_grad()\n",
    "    \n",
    "    #4. Backpropagation on the loss to calculate gradients\n",
    "    loss.backward()\n",
    "    \n",
    "    #5. Optimizer step (gradient descent)\n",
    "    optimizer.step()\n",
    "    \n",
    "    ###Testing\n",
    "    model_0.eval() #turns off model settings not needed for evaluation/testing (dropout, batchnorm)\n",
    "    with torch.inference_mode(): #turns off gradient tracking\n",
    "        #1. Forward Pass\n",
    "        test_pred = model_0(X_test)\n",
    "        \n",
    "        #2. Calculate loss\n",
    "        test_loss = loss_fn(test_pred, y_test)\n",
    "        \n",
    "    #Print current values every 10 epochs\n",
    "    if epoch % 10 == 0:\n",
    "        epoch_count.append(epoch)\n",
    "        train_loss_values.append(loss)\n",
    "        test_loss_values.append(test_loss)\n",
    "        print(f\"Epoch: {epoch} | Loss: {loss} | Test loss: {test_loss}\")"
   ]
  },
  {
   "cell_type": "code",
   "execution_count": 34,
   "id": "51f3811e",
   "metadata": {},
   "outputs": [
    {
     "data": {
      "text/plain": [
       "OrderedDict([('weights', tensor([0.6990])), ('bias', tensor([0.3093]))])"
      ]
     },
     "execution_count": 34,
     "metadata": {},
     "output_type": "execute_result"
    }
   ],
   "source": [
    "model_0.state_dict()"
   ]
  },
  {
   "cell_type": "code",
   "execution_count": 35,
   "id": "64e27e02",
   "metadata": {},
   "outputs": [
    {
     "data": {
      "image/png": "[encoded data removed]",
      "text/plain": [
       "<Figure size 1000x700 with 1 Axes>"
      ]
     },
     "metadata": {},
     "output_type": "display_data"
    }
   ],
   "source": [
    "#Make some predictions with model_0\n",
    "with torch.inference_mode():\n",
    "    y_preds_new = model_0(X_test)\n",
    "plot_predictions(predictions=y_preds_new)"
   ]
  },
  {
   "cell_type": "markdown",
   "id": "b715ea28",
   "metadata": {},
   "source": [
    "# Reviewing What Happens in a Testing Loop Step by Step"
   ]
  },
  {
   "cell_type": "code",
   "execution_count": 36,
   "id": "16af9c6a",
   "metadata": {},
   "outputs": [
    {
     "data": {
      "image/png": "[encoded data removed]",
      "text/plain": [
       "<Figure size 640x480 with 1 Axes>"
      ]
     },
     "metadata": {},
     "output_type": "display_data"
    }
   ],
   "source": [
    "#Plot the loss curves\n",
    "plt.plot(epoch_count, np.array(torch.tensor(train_loss_values).numpy()), label=\"Training Loss\")\n",
    "plt.plot(epoch_count, np.array(torch.tensor(test_loss_values).numpy()), label=\"Testing Loss\")\n",
    "plt.title(\"Training and Test Loss Curves\")\n",
    "plt.ylabel(\"Loss\")\n",
    "plt.xlabel(\"Epochs\")\n",
    "plt.legend();"
   ]
  },
  {
   "cell_type": "markdown",
   "id": "86f403bd",
   "metadata": {},
   "source": [
    "# Writing Code to Save a PyTorch Model"
   ]
  },
  {
   "cell_type": "code",
   "execution_count": 37,
   "id": "48a766d3",
   "metadata": {},
   "outputs": [],
   "source": [
    "#Three main methods\n",
    "\n",
    "#1. torch.save() - save a PyTorch object in Python's pickle format\n",
    "#2. torch.load() - load a saved PyTorch object\n",
    "#3. torch.nn.Module.load_state_dict() - load a model's saved state dictionary"
   ]
  },
  {
   "cell_type": "code",
   "execution_count": 38,
   "id": "c71b61d5",
   "metadata": {},
   "outputs": [
    {
     "name": "stdout",
     "output_type": "stream",
     "text": [
      "Saving model to: models\\section3_model_0.pth\n"
     ]
    }
   ],
   "source": [
    "#Save our PyTorch model\n",
    "from pathlib import Path\n",
    "\n",
    "#1. Create model's directory\n",
    "MODEL_PATH = Path(\"models\")\n",
    "MODEL_PATH.mkdir(parents=True, exist_ok=True)\n",
    "\n",
    "#2. Create model save path\n",
    "MODEL_NAME = \"section3_model_0.pth\" #PyTorch objects usually have .pth or .pt extensions\n",
    "MODEL_SAVE_PATH = MODEL_PATH / MODEL_NAME\n",
    "\n",
    "#3. Save the model state dict\n",
    "print(f\"Saving model to: {MODEL_SAVE_PATH}\")\n",
    "torch.save(obj=model_0.state_dict(),\n",
    "          f=MODEL_SAVE_PATH)"
   ]
  },
  {
   "cell_type": "markdown",
   "id": "f2304492",
   "metadata": {},
   "source": [
    "# Writing Code to Load a PyTorch Model"
   ]
  },
  {
   "cell_type": "code",
   "execution_count": null,
   "id": "816849bf",
   "metadata": {},
   "outputs": [],
   "source": [
    "#Since we saved the model's state_dict(), we create a new instance of the model class and load the save \n",
    "#state_dict() into that."
   ]
  },
  {
   "cell_type": "code",
   "execution_count": 39,
   "id": "83af3e8b",
   "metadata": {},
   "outputs": [
    {
     "data": {
      "text/plain": [
       "OrderedDict([('weights', tensor([0.6990])), ('bias', tensor([0.3093]))])"
      ]
     },
     "execution_count": 39,
     "metadata": {},
     "output_type": "execute_result"
    }
   ],
   "source": [
    "model_0.state_dict()"
   ]
  },
  {
   "cell_type": "code",
   "execution_count": 40,
   "id": "a241e8ed",
   "metadata": {},
   "outputs": [
    {
     "data": {
      "text/plain": [
       "<All keys matched successfully>"
      ]
     },
     "execution_count": 40,
     "metadata": {},
     "output_type": "execute_result"
    }
   ],
   "source": [
    "#New instance of the model class\n",
    "loaded_model_0 = LinearRegressionModel()\n",
    "\n",
    "#Load saved state_dict into this new instance\n",
    "loaded_model_0.load_state_dict(torch.load(f=MODEL_SAVE_PATH))"
   ]
  },
  {
   "cell_type": "code",
   "execution_count": 41,
   "id": "6886f0da",
   "metadata": {},
   "outputs": [
    {
     "data": {
      "text/plain": [
       "OrderedDict([('weights', tensor([0.6990])), ('bias', tensor([0.3093]))])"
      ]
     },
     "execution_count": 41,
     "metadata": {},
     "output_type": "execute_result"
    }
   ],
   "source": [
    "loaded_model_0.state_dict()"
   ]
  },
  {
   "cell_type": "code",
   "execution_count": 42,
   "id": "e48a281b",
   "metadata": {},
   "outputs": [],
   "source": [
    "#Predict with the loaded model\n",
    "loaded_model_0.eval()\n",
    "with torch.inference_mode():\n",
    "    loaded_model_preds = loaded_model_0(X_test)"
   ]
  },
  {
   "cell_type": "code",
   "execution_count": 47,
   "id": "7d1bd7cd",
   "metadata": {},
   "outputs": [
    {
     "data": {
      "text/plain": [
       "tensor([[True],\n",
       "        [True],\n",
       "        [True],\n",
       "        [True],\n",
       "        [True],\n",
       "        [True],\n",
       "        [True],\n",
       "        [True],\n",
       "        [True],\n",
       "        [True]])"
      ]
     },
     "execution_count": 47,
     "metadata": {},
     "output_type": "execute_result"
    }
   ],
   "source": [
    "#Compare loaded model predictions with original predictions\n",
    "loaded_model_preds == y_preds_new"
   ]
  },
  {
   "cell_type": "markdown",
   "id": "0bfd2e33",
   "metadata": {},
   "source": [
    "# Setting Up to Practice Everything We Have Done Using Device Agnostic Code"
   ]
  },
  {
   "cell_type": "code",
   "execution_count": 48,
   "id": "1c21927e",
   "metadata": {},
   "outputs": [
    {
     "data": {
      "text/plain": [
       "'2.1.0'"
      ]
     },
     "execution_count": 48,
     "metadata": {},
     "output_type": "execute_result"
    }
   ],
   "source": [
    "#Load packages\n",
    "import torch\n",
    "from torch import nn\n",
    "import numpy as np\n",
    "import matplotlib.pyplot as plt\n",
    "%matplotlib inline\n",
    "#Check PyTorch version\n",
    "torch.__version__"
   ]
  },
  {
   "cell_type": "code",
   "execution_count": 49,
   "id": "a683b7b1",
   "metadata": {},
   "outputs": [
    {
     "name": "stdout",
     "output_type": "stream",
     "text": [
      "Using Device: cpu\n"
     ]
    }
   ],
   "source": [
    "#Create Device Agnostic Code\n",
    "device = 'cuda' if torch.cuda.is_available() else 'cpu'\n",
    "print(f\"Using Device: {device}\")"
   ]
  },
  {
   "cell_type": "markdown",
   "id": "88a9b89c",
   "metadata": {},
   "source": [
    "# Putting Everything Together (Part 1): Data"
   ]
  },
  {
   "cell_type": "code",
   "execution_count": 54,
   "id": "d56883e2",
   "metadata": {},
   "outputs": [],
   "source": [
    "#Theoretical pre-set \"true\" parameter values\n",
    "weight = 0.875\n",
    "bias = 0.18\n",
    "\n",
    "#Range values\n",
    "start = 0\n",
    "end = 1\n",
    "step = 0.01\n",
    "\n",
    "#Create features and supervisor\n",
    "X = torch.arange(start, end, step).unsqueeze(dim=1)\n",
    "y = weight * X + bias"
   ]
  },
  {
   "cell_type": "code",
   "execution_count": 55,
   "id": "7377779c",
   "metadata": {},
   "outputs": [
    {
     "data": {
      "text/plain": [
       "(80, 20)"
      ]
     },
     "execution_count": 55,
     "metadata": {},
     "output_type": "execute_result"
    }
   ],
   "source": [
    "#Training Testing Splits\n",
    "train_split = int(0.8 * len(X))\n",
    "X_train, y_train = X[:train_split], y[:train_split]\n",
    "X_test, y_test = X[train_split:], y[train_split:]\n",
    "len(X_train), len(X_test)"
   ]
  },
  {
   "cell_type": "code",
   "execution_count": 62,
   "id": "01dc7019",
   "metadata": {},
   "outputs": [
    {
     "data": {
      "image/png": "[encoded data removed]",
      "text/plain": [
       "<Figure size 1000x700 with 1 Axes>"
      ]
     },
     "metadata": {},
     "output_type": "display_data"
    }
   ],
   "source": [
    "#Plot data using saved plot_predictions() function defined above\n",
    "plot_predictions(X_train, y_train, X_test, y_test)"
   ]
  },
  {
   "cell_type": "markdown",
   "id": "ae33b396",
   "metadata": {},
   "source": [
    "# Putting Everything Together (Part 2): Building a Model"
   ]
  },
  {
   "cell_type": "code",
   "execution_count": 77,
   "id": "66b2e1f4",
   "metadata": {},
   "outputs": [
    {
     "data": {
      "text/plain": [
       "(LinearRegressionModelV2(\n",
       "   (linear_layer): Linear(in_features=1, out_features=1, bias=True)\n",
       " ),\n",
       " OrderedDict([('linear_layer.weight', tensor([[0.7645]])),\n",
       "              ('linear_layer.bias', tensor([0.8300]))]))"
      ]
     },
     "execution_count": 77,
     "metadata": {},
     "output_type": "execute_result"
    }
   ],
   "source": [
    "#Create linear model by subclassing nn.Module\n",
    "class LinearRegressionModelV2(nn.Module):\n",
    "    def __init__(self):\n",
    "        super().__init__()\n",
    "        #Use nn.Linear() to instantiate model parameters\n",
    "        self.linear_layer = nn.Linear(in_features=1, out_features=1) #One feature variable & one supervisor\n",
    "        \n",
    "    def forward(self, x: torch.Tensor) -> torch.Tensor:\n",
    "        return self.linear_layer(x)\n",
    "    \n",
    "#Set manual seed for reproducability\n",
    "torch.manual_seed(42)\n",
    "model_1 = LinearRegressionModelV2()\n",
    "model_1, model_1.state_dict()"
   ]
  },
  {
   "cell_type": "markdown",
   "id": "5675006e",
   "metadata": {},
   "source": [
    "# Putting Everything Together (Part 3): Training a Model"
   ]
  },
  {
   "cell_type": "code",
   "execution_count": 59,
   "id": "ad8641a8",
   "metadata": {},
   "outputs": [
    {
     "data": {
      "text/plain": [
       "device(type='cpu')"
      ]
     },
     "execution_count": 59,
     "metadata": {},
     "output_type": "execute_result"
    }
   ],
   "source": [
    "#Check the model's device\n",
    "next(model_1.parameters()).device"
   ]
  },
  {
   "cell_type": "code",
   "execution_count": 60,
   "id": "a6162e12",
   "metadata": {},
   "outputs": [
    {
     "data": {
      "text/plain": [
       "device(type='cpu')"
      ]
     },
     "execution_count": 60,
     "metadata": {},
     "output_type": "execute_result"
    }
   ],
   "source": [
    "#Move the model to GPU if available\n",
    "model_1.to(device)\n",
    "next(model_1.parameters()).device"
   ]
  },
  {
   "cell_type": "code",
   "execution_count": 78,
   "id": "167aee84",
   "metadata": {},
   "outputs": [
    {
     "name": "stdout",
     "output_type": "stream",
     "text": [
      "Epoch: 0 | Loss: 0.6063755750656128 | Test loss: 0.5376096367835999\n",
      "Epoch: 10 | Loss: 0.49077320098876953 | Test loss: 0.4022572636604309\n",
      "Epoch: 20 | Loss: 0.3751707971096039 | Test loss: 0.2669048607349396\n",
      "Epoch: 30 | Loss: 0.25956839323043823 | Test loss: 0.13155241310596466\n",
      "Epoch: 40 | Loss: 0.14396601915359497 | Test loss: 0.013864373788237572\n",
      "Epoch: 50 | Loss: 0.07126406580209732 | Test loss: 0.09737241268157959\n",
      "Epoch: 60 | Loss: 0.06014809012413025 | Test loss: 0.12140550464391708\n",
      "Epoch: 70 | Loss: 0.05584251880645752 | Test loss: 0.12422238290309906\n",
      "Epoch: 80 | Loss: 0.05229474976658821 | Test loss: 0.12003876268863678\n",
      "Epoch: 90 | Loss: 0.04886773228645325 | Test loss: 0.11239117383956909\n",
      "Epoch: 100 | Loss: 0.04544071853160858 | Test loss: 0.1047435775399208\n",
      "Epoch: 110 | Loss: 0.04201370105147362 | Test loss: 0.09709599614143372\n",
      "Epoch: 120 | Loss: 0.03858668729662895 | Test loss: 0.08944840729236603\n",
      "Epoch: 130 | Loss: 0.03515966609120369 | Test loss: 0.08180081844329834\n",
      "Epoch: 140 | Loss: 0.03173265606164932 | Test loss: 0.07415322959423065\n",
      "Epoch: 150 | Loss: 0.028306612744927406 | Test loss: 0.0661616325378418\n",
      "Epoch: 160 | Loss: 0.024881551042199135 | Test loss: 0.05782604217529297\n",
      "Epoch: 170 | Loss: 0.02145550772547722 | Test loss: 0.04983443394303322\n",
      "Epoch: 180 | Loss: 0.01802946627140045 | Test loss: 0.04184284061193466\n",
      "Epoch: 190 | Loss: 0.014604397118091583 | Test loss: 0.03350723162293434\n",
      "Epoch: 200 | Loss: 0.011178362183272839 | Test loss: 0.025515630841255188\n",
      "Epoch: 210 | Loss: 0.007752323057502508 | Test loss: 0.01752403751015663\n",
      "Epoch: 220 | Loss: 0.004327958449721336 | Test loss: 0.009534627199172974\n",
      "Epoch: 230 | Loss: 0.001688692718744278 | Test loss: 0.013832801952958107\n",
      "Epoch: 240 | Loss: 0.001688692718744278 | Test loss: 0.013832801952958107\n"
     ]
    }
   ],
   "source": [
    "#Training (loss function, optimizer, training loop, testing loop)\n",
    "\n",
    "#Setup loss function\n",
    "loss_fn = nn.L1Loss() #squared error loss\n",
    "\n",
    "#Setup optimizer\n",
    "optimizer = torch.optim.SGD(params=model_1.parameters(), lr=0.01)\n",
    "\n",
    "###Training Loop###################################################\n",
    "torch.manual_seed(42)\n",
    "\n",
    "epochs = 250\n",
    "\n",
    "#Put data on the target device\n",
    "X_train = X_train.to(device)\n",
    "y_train = y_train.to(device)\n",
    "X_test = X_test.to(device)\n",
    "y_test = y_test.to(device)\n",
    "\n",
    "for epoch in range(epochs):\n",
    "    model_1.train()\n",
    "    \n",
    "    #1. Forward pass\n",
    "    y_pred = model_1(X_train)\n",
    "    \n",
    "    #2. Calculate loss\n",
    "    loss = loss_fn(y_pred, y_train)\n",
    "    \n",
    "    #3. Optimizer zero grad\n",
    "    optimizer.zero_grad()\n",
    "    \n",
    "    #4. Perform backpropagation\n",
    "    loss.backward()\n",
    "    \n",
    "    #5. Optimizer step\n",
    "    optimizer.step()\n",
    "    \n",
    "    ###Testing Loop################################################\n",
    "    model_1.eval()\n",
    "    with torch.inference_mode():\n",
    "        test_pred = model_1(X_test)\n",
    "        \n",
    "        test_loss = loss_fn(test_pred, y_test)\n",
    "        \n",
    "    #Print current values\n",
    "    if epoch % 10 == 0:\n",
    "        print(f\"Epoch: {epoch} | Loss: {loss} | Test loss: {test_loss}\")"
   ]
  },
  {
   "cell_type": "code",
   "execution_count": 79,
   "id": "d5999419",
   "metadata": {},
   "outputs": [
    {
     "data": {
      "text/plain": [
       "OrderedDict([('linear_layer.weight', tensor([[0.8710]])),\n",
       "             ('linear_layer.bias', tensor([0.1833]))])"
      ]
     },
     "execution_count": 79,
     "metadata": {},
     "output_type": "execute_result"
    }
   ],
   "source": [
    "model_1.state_dict()"
   ]
  },
  {
   "cell_type": "code",
   "execution_count": 80,
   "id": "2438d5c5",
   "metadata": {},
   "outputs": [
    {
     "data": {
      "text/plain": [
       "(0.875, 0.18)"
      ]
     },
     "execution_count": 80,
     "metadata": {},
     "output_type": "execute_result"
    }
   ],
   "source": [
    "#\"True\" parameter values\n",
    "weight, bias"
   ]
  },
  {
   "cell_type": "markdown",
   "id": "a6ce8972",
   "metadata": {},
   "source": [
    "# Putting Everything Together (Part 4): Making Predictions with a Trained Model"
   ]
  },
  {
   "cell_type": "code",
   "execution_count": 81,
   "id": "40ca4470",
   "metadata": {},
   "outputs": [],
   "source": [
    "#Turn on eval mode\n",
    "model_1.eval()\n",
    "\n",
    "#Make predictions on test data\n",
    "with torch.inference_mode():\n",
    "    y_preds = model_1(X_test)"
   ]
  },
  {
   "cell_type": "code",
   "execution_count": 86,
   "id": "ebf497ff",
   "metadata": {},
   "outputs": [
    {
     "data": {
      "image/png": "[encoded data removed]",
      "text/plain": [
       "<Figure size 1000x700 with 1 Axes>"
      ]
     },
     "metadata": {},
     "output_type": "display_data"
    }
   ],
   "source": [
    "#Plot predictions\n",
    "plot_predictions(predictions=y_preds.cpu())"
   ]
  },
  {
   "cell_type": "markdown",
   "id": "47cd48d3",
   "metadata": {},
   "source": [
    "# Putting Everything Together (Part 5): Saving & Loading a Trained Model"
   ]
  },
  {
   "cell_type": "code",
   "execution_count": 87,
   "id": "c2689e87",
   "metadata": {},
   "outputs": [
    {
     "name": "stdout",
     "output_type": "stream",
     "text": [
      "Saving model to: models\\section3_model_1.pth\n"
     ]
    }
   ],
   "source": [
    "##############################Saving our PyTorch model#################################\n",
    "from pathlib import Path\n",
    "\n",
    "#1. Create models directory\n",
    "MODEL_PATH = Path(\"models\")\n",
    "MODEL_PATH.mkdir(parents=True, exist_ok=True)\n",
    "\n",
    "#2. Create model save path\n",
    "MODEL_NAME = \"section3_model_1.pth\" #PyTorch objects usually have .pth or .pt extensions\n",
    "MODEL_SAVE_PATH = MODEL_PATH / MODEL_NAME\n",
    "\n",
    "#3. Save the model state dict\n",
    "print(f\"Saving model to: {MODEL_SAVE_PATH}\")\n",
    "torch.save(obj=model_1.state_dict(),\n",
    "          f=MODEL_SAVE_PATH)"
   ]
  },
  {
   "cell_type": "code",
   "execution_count": 89,
   "id": "79165a51",
   "metadata": {},
   "outputs": [
    {
     "data": {
      "text/plain": [
       "LinearRegressionModelV2(\n",
       "  (linear_layer): Linear(in_features=1, out_features=1, bias=True)\n",
       ")"
      ]
     },
     "execution_count": 89,
     "metadata": {},
     "output_type": "execute_result"
    }
   ],
   "source": [
    "##############################Loading our PyTorch model#################################\n",
    "\n",
    "#Create new instance of our model\n",
    "loaded_model_1 = LinearRegressionModelV2()\n",
    "\n",
    "#Load the saved model_1 state_dict()\n",
    "loaded_model_1.load_state_dict(torch.load(MODEL_SAVE_PATH))\n",
    "\n",
    "#Put the loaded model to the device\n",
    "loaded_model_1.to(device)"
   ]
  },
  {
   "cell_type": "code",
   "execution_count": 90,
   "id": "e64baa70",
   "metadata": {},
   "outputs": [
    {
     "data": {
      "text/plain": [
       "device(type='cpu')"
      ]
     },
     "execution_count": 90,
     "metadata": {},
     "output_type": "execute_result"
    }
   ],
   "source": [
    "next(loaded_model_1.parameters()).device"
   ]
  },
  {
   "cell_type": "code",
   "execution_count": 91,
   "id": "1bc28b22",
   "metadata": {},
   "outputs": [
    {
     "data": {
      "text/plain": [
       "OrderedDict([('linear_layer.weight', tensor([[0.8710]])),\n",
       "             ('linear_layer.bias', tensor([0.1833]))])"
      ]
     },
     "execution_count": 91,
     "metadata": {},
     "output_type": "execute_result"
    }
   ],
   "source": [
    "loaded_model_1.state_dict()"
   ]
  },
  {
   "cell_type": "code",
   "execution_count": 92,
   "id": "9a9b17be",
   "metadata": {},
   "outputs": [
    {
     "data": {
      "text/plain": [
       "OrderedDict([('linear_layer.weight', tensor([[0.8710]])),\n",
       "             ('linear_layer.bias', tensor([0.1833]))])"
      ]
     },
     "execution_count": 92,
     "metadata": {},
     "output_type": "execute_result"
    }
   ],
   "source": [
    "model_1.state_dict()"
   ]
  },
  {
   "cell_type": "code",
   "execution_count": 93,
   "id": "6b1cb271",
   "metadata": {},
   "outputs": [
    {
     "data": {
      "text/plain": [
       "tensor([[True],\n",
       "        [True],\n",
       "        [True],\n",
       "        [True],\n",
       "        [True],\n",
       "        [True],\n",
       "        [True],\n",
       "        [True],\n",
       "        [True],\n",
       "        [True],\n",
       "        [True],\n",
       "        [True],\n",
       "        [True],\n",
       "        [True],\n",
       "        [True],\n",
       "        [True],\n",
       "        [True],\n",
       "        [True],\n",
       "        [True],\n",
       "        [True]])"
      ]
     },
     "execution_count": 93,
     "metadata": {},
     "output_type": "execute_result"
    }
   ],
   "source": [
    "#Evaluate loaded model\n",
    "loaded_model_1.eval()\n",
    "with torch.inference_mode():\n",
    "    loaded_model_1_preds = loaded_model_1(X_test)\n",
    "    \n",
    "y_preds == loaded_model_1_preds"
   ]
  },
  {
   "cell_type": "code",
   "execution_count": null,
   "id": "331859e7",
   "metadata": {},
   "outputs": [],
   "source": []
  },
  {
   "cell_type": "code",
   "execution_count": null,
   "id": "b5ae4446",
   "metadata": {},
   "outputs": [],
   "source": []
  },
  {
   "cell_type": "code",
   "execution_count": null,
   "id": "909c930c",
   "metadata": {},
   "outputs": [],
   "source": []
  }
 ],
 "metadata": {
  "kernelspec": {
   "display_name": "Python 3 (ipykernel)",
   "language": "python",
   "name": "python3"
  },
  "language_info": {
   "codemirror_mode": {
    "name": "ipython",
    "version": 3
   },
   "file_extension": ".py",
   "mimetype": "text/x-python",
   "name": "python",
   "nbconvert_exporter": "python",
   "pygments_lexer": "ipython3",
   "version": "3.10.13"
  }
 },
 "nbformat": 4,
 "nbformat_minor": 5
}
