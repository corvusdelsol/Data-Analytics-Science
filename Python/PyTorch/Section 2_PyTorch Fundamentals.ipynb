{
 "cells": [
  {
   "cell_type": "code",
   "execution_count": 2,
   "id": "fc3c6ce8",
   "metadata": {},
   "outputs": [],
   "source": [
    "import torch"
   ]
  },
  {
   "cell_type": "code",
   "execution_count": 3,
   "id": "0439bf84",
   "metadata": {},
   "outputs": [],
   "source": [
    "import pandas as pd\n",
    "import numpy as np\n",
    "import matplotlib.pyplot as plt\n",
    "%matplotlib inline\n",
    "import seaborn as sns"
   ]
  },
  {
   "cell_type": "code",
   "execution_count": 4,
   "id": "7454a1a5",
   "metadata": {},
   "outputs": [
    {
     "name": "stdout",
     "output_type": "stream",
     "text": [
      "1.12.1\n"
     ]
    }
   ],
   "source": [
    "print(torch.__version__)"
   ]
  },
  {
   "cell_type": "markdown",
   "id": "13f748a7",
   "metadata": {},
   "source": [
    "# Introduction to PyTorch Tensors"
   ]
  },
  {
   "cell_type": "markdown",
   "id": "8d80c745",
   "metadata": {},
   "source": [
    "# Creating Tensors"
   ]
  },
  {
   "cell_type": "code",
   "execution_count": 5,
   "id": "58b66492",
   "metadata": {},
   "outputs": [
    {
     "data": {
      "text/plain": [
       "tensor(7)"
      ]
     },
     "execution_count": 5,
     "metadata": {},
     "output_type": "execute_result"
    }
   ],
   "source": [
    "#Scalar\n",
    "scalar = torch.tensor(7)\n",
    "scalar"
   ]
  },
  {
   "cell_type": "code",
   "execution_count": 6,
   "id": "7433f321",
   "metadata": {},
   "outputs": [
    {
     "data": {
      "text/plain": [
       "0"
      ]
     },
     "execution_count": 6,
     "metadata": {},
     "output_type": "execute_result"
    }
   ],
   "source": [
    "scalar.ndim"
   ]
  },
  {
   "cell_type": "code",
   "execution_count": 7,
   "id": "aa1fe88b",
   "metadata": {},
   "outputs": [
    {
     "data": {
      "text/plain": [
       "7"
      ]
     },
     "execution_count": 7,
     "metadata": {},
     "output_type": "execute_result"
    }
   ],
   "source": [
    "#Get tensor back as Python int\n",
    "scalar.item()"
   ]
  },
  {
   "cell_type": "code",
   "execution_count": 8,
   "id": "eae036e1",
   "metadata": {},
   "outputs": [
    {
     "data": {
      "text/plain": [
       "tensor([7, 7])"
      ]
     },
     "execution_count": 8,
     "metadata": {},
     "output_type": "execute_result"
    }
   ],
   "source": [
    "#Vector\n",
    "vector = torch.tensor([7,7])\n",
    "vector"
   ]
  },
  {
   "cell_type": "code",
   "execution_count": 9,
   "id": "d95e7bcc",
   "metadata": {},
   "outputs": [
    {
     "data": {
      "text/plain": [
       "1"
      ]
     },
     "execution_count": 9,
     "metadata": {},
     "output_type": "execute_result"
    }
   ],
   "source": [
    "vector.ndim"
   ]
  },
  {
   "cell_type": "code",
   "execution_count": 10,
   "id": "942341a2",
   "metadata": {},
   "outputs": [
    {
     "data": {
      "text/plain": [
       "torch.Size([2])"
      ]
     },
     "execution_count": 10,
     "metadata": {},
     "output_type": "execute_result"
    }
   ],
   "source": [
    "vector.shape"
   ]
  },
  {
   "cell_type": "code",
   "execution_count": 11,
   "id": "ce39f6ad",
   "metadata": {},
   "outputs": [
    {
     "data": {
      "text/plain": [
       "tensor([[ 7,  8],\n",
       "        [ 9, 10]])"
      ]
     },
     "execution_count": 11,
     "metadata": {},
     "output_type": "execute_result"
    }
   ],
   "source": [
    "#MATRIX\n",
    "MATRIX = torch.tensor([[7,8],[9,10]])\n",
    "MATRIX"
   ]
  },
  {
   "cell_type": "code",
   "execution_count": 12,
   "id": "0183b3f1",
   "metadata": {},
   "outputs": [
    {
     "data": {
      "text/plain": [
       "2"
      ]
     },
     "execution_count": 12,
     "metadata": {},
     "output_type": "execute_result"
    }
   ],
   "source": [
    "MATRIX.ndim"
   ]
  },
  {
   "cell_type": "code",
   "execution_count": 13,
   "id": "e57b0a37",
   "metadata": {},
   "outputs": [
    {
     "data": {
      "text/plain": [
       "tensor([7, 8])"
      ]
     },
     "execution_count": 13,
     "metadata": {},
     "output_type": "execute_result"
    }
   ],
   "source": [
    "MATRIX[0]"
   ]
  },
  {
   "cell_type": "code",
   "execution_count": 14,
   "id": "adff7e7b",
   "metadata": {},
   "outputs": [
    {
     "data": {
      "text/plain": [
       "tensor([ 9, 10])"
      ]
     },
     "execution_count": 14,
     "metadata": {},
     "output_type": "execute_result"
    }
   ],
   "source": [
    "MATRIX[1]"
   ]
  },
  {
   "cell_type": "code",
   "execution_count": 15,
   "id": "96c01275",
   "metadata": {},
   "outputs": [
    {
     "data": {
      "text/plain": [
       "torch.Size([2, 2])"
      ]
     },
     "execution_count": 15,
     "metadata": {},
     "output_type": "execute_result"
    }
   ],
   "source": [
    "MATRIX.shape"
   ]
  },
  {
   "cell_type": "code",
   "execution_count": 16,
   "id": "0a2c2178",
   "metadata": {},
   "outputs": [
    {
     "data": {
      "text/plain": [
       "tensor([[[1, 2, 3],\n",
       "         [4, 5, 6],\n",
       "         [7, 8, 9]]])"
      ]
     },
     "execution_count": 16,
     "metadata": {},
     "output_type": "execute_result"
    }
   ],
   "source": [
    "#TENSOR\n",
    "TENSOR = torch.tensor([[[1,2,3],[4,5,6],[7,8,9]]])\n",
    "TENSOR"
   ]
  },
  {
   "cell_type": "code",
   "execution_count": 17,
   "id": "1603adce",
   "metadata": {},
   "outputs": [
    {
     "data": {
      "text/plain": [
       "3"
      ]
     },
     "execution_count": 17,
     "metadata": {},
     "output_type": "execute_result"
    }
   ],
   "source": [
    "TENSOR.ndim"
   ]
  },
  {
   "cell_type": "code",
   "execution_count": 18,
   "id": "92da30d0",
   "metadata": {},
   "outputs": [
    {
     "data": {
      "text/plain": [
       "torch.Size([1, 3, 3])"
      ]
     },
     "execution_count": 18,
     "metadata": {},
     "output_type": "execute_result"
    }
   ],
   "source": [
    "TENSOR.shape"
   ]
  },
  {
   "cell_type": "code",
   "execution_count": 19,
   "id": "3d790ce5",
   "metadata": {},
   "outputs": [
    {
     "data": {
      "text/plain": [
       "tensor([[1, 2, 3],\n",
       "        [4, 5, 6],\n",
       "        [7, 8, 9]])"
      ]
     },
     "execution_count": 19,
     "metadata": {},
     "output_type": "execute_result"
    }
   ],
   "source": [
    "TENSOR[0]"
   ]
  },
  {
   "cell_type": "code",
   "execution_count": 20,
   "id": "f8fec255",
   "metadata": {},
   "outputs": [
    {
     "data": {
      "text/plain": [
       "tensor([4, 5, 6])"
      ]
     },
     "execution_count": 20,
     "metadata": {},
     "output_type": "execute_result"
    }
   ],
   "source": [
    "TENSOR[0,1]"
   ]
  },
  {
   "cell_type": "code",
   "execution_count": 21,
   "id": "b3ee58eb",
   "metadata": {},
   "outputs": [
    {
     "data": {
      "text/plain": [
       "tensor(7)"
      ]
     },
     "execution_count": 21,
     "metadata": {},
     "output_type": "execute_result"
    }
   ],
   "source": [
    "TENSOR[0,2,0]"
   ]
  },
  {
   "cell_type": "code",
   "execution_count": 22,
   "id": "cc318f31",
   "metadata": {},
   "outputs": [
    {
     "data": {
      "text/plain": [
       "tensor([[[[ 1,  2,  3],\n",
       "          [ 4,  5,  6],\n",
       "          [ 7,  8,  9]]],\n",
       "\n",
       "\n",
       "        [[[10, 11, 12],\n",
       "          [13, 14, 15],\n",
       "          [16, 17, 18]]]])"
      ]
     },
     "execution_count": 22,
     "metadata": {},
     "output_type": "execute_result"
    }
   ],
   "source": [
    "TENSOR = torch.tensor([[[[1,2,3],[4,5,6],[7,8,9]]],[[[10,11,12],[13,14,15],[16,17,18]]]])\n",
    "TENSOR"
   ]
  },
  {
   "cell_type": "code",
   "execution_count": 23,
   "id": "a07734ef",
   "metadata": {},
   "outputs": [
    {
     "data": {
      "text/plain": [
       "4"
      ]
     },
     "execution_count": 23,
     "metadata": {},
     "output_type": "execute_result"
    }
   ],
   "source": [
    "TENSOR.ndim"
   ]
  },
  {
   "cell_type": "code",
   "execution_count": 24,
   "id": "9dd1b3d0",
   "metadata": {},
   "outputs": [
    {
     "data": {
      "text/plain": [
       "torch.Size([2, 1, 3, 3])"
      ]
     },
     "execution_count": 24,
     "metadata": {},
     "output_type": "execute_result"
    }
   ],
   "source": [
    "TENSOR.shape"
   ]
  },
  {
   "cell_type": "code",
   "execution_count": null,
   "id": "25d5a487",
   "metadata": {},
   "outputs": [],
   "source": []
  },
  {
   "cell_type": "code",
   "execution_count": 25,
   "id": "9e65094d",
   "metadata": {},
   "outputs": [
    {
     "data": {
      "text/plain": [
       "tensor([[[10, 11, 12],\n",
       "         [13, 14, 15],\n",
       "         [16, 17, 18]]])"
      ]
     },
     "execution_count": 25,
     "metadata": {},
     "output_type": "execute_result"
    }
   ],
   "source": [
    "TENSOR[1]\n",
    "#3 sets of square brackets"
   ]
  },
  {
   "cell_type": "code",
   "execution_count": 26,
   "id": "15cfd7e7",
   "metadata": {},
   "outputs": [
    {
     "data": {
      "text/plain": [
       "tensor([[10, 11, 12],\n",
       "        [13, 14, 15],\n",
       "        [16, 17, 18]])"
      ]
     },
     "execution_count": 26,
     "metadata": {},
     "output_type": "execute_result"
    }
   ],
   "source": [
    "TENSOR[1,0]\n",
    "#2 sets of square brackets"
   ]
  },
  {
   "cell_type": "code",
   "execution_count": 27,
   "id": "a60478ab",
   "metadata": {},
   "outputs": [
    {
     "data": {
      "text/plain": [
       "tensor([13, 14, 15])"
      ]
     },
     "execution_count": 27,
     "metadata": {},
     "output_type": "execute_result"
    }
   ],
   "source": [
    "TENSOR[1,0,1]\n",
    "#1 set of square brackets"
   ]
  },
  {
   "cell_type": "code",
   "execution_count": 28,
   "id": "f5f1a5e5",
   "metadata": {},
   "outputs": [
    {
     "data": {
      "text/plain": [
       "tensor(15)"
      ]
     },
     "execution_count": 28,
     "metadata": {},
     "output_type": "execute_result"
    }
   ],
   "source": [
    "TENSOR[1,0,1,2]\n",
    "#No square brackets (scalar)"
   ]
  },
  {
   "cell_type": "markdown",
   "id": "58f0c1f2",
   "metadata": {},
   "source": [
    "# Creating Random Tensors in PyTorch"
   ]
  },
  {
   "cell_type": "code",
   "execution_count": 29,
   "id": "a4b014fb",
   "metadata": {},
   "outputs": [
    {
     "data": {
      "text/plain": [
       "tensor([[0.2529, 0.5421, 0.7290, 0.3667],\n",
       "        [0.6138, 0.8184, 0.2894, 0.0709],\n",
       "        [0.5791, 0.2525, 0.3949, 0.5173]])"
      ]
     },
     "execution_count": 29,
     "metadata": {},
     "output_type": "execute_result"
    }
   ],
   "source": [
    "random_tensor = torch.rand(3,4)\n",
    "random_tensor"
   ]
  },
  {
   "cell_type": "code",
   "execution_count": 30,
   "id": "e20442f6",
   "metadata": {},
   "outputs": [
    {
     "data": {
      "text/plain": [
       "2"
      ]
     },
     "execution_count": 30,
     "metadata": {},
     "output_type": "execute_result"
    }
   ],
   "source": [
    "random_tensor.ndim"
   ]
  },
  {
   "cell_type": "code",
   "execution_count": 31,
   "id": "77d1ae80",
   "metadata": {},
   "outputs": [
    {
     "data": {
      "text/plain": [
       "tensor([[[0.2456, 0.9323, 0.8200],\n",
       "         [0.1271, 0.8187, 0.9719],\n",
       "         [0.9754, 0.5560, 0.2112],\n",
       "         ...,\n",
       "         [0.2051, 0.6015, 0.7365],\n",
       "         [0.7834, 0.2099, 0.9551],\n",
       "         [0.3808, 0.5078, 0.8090]],\n",
       "\n",
       "        [[0.9713, 0.7376, 0.9352],\n",
       "         [0.5230, 0.8038, 0.8025],\n",
       "         [0.2146, 0.3833, 0.8348],\n",
       "         ...,\n",
       "         [0.2363, 0.5748, 0.9587],\n",
       "         [0.7618, 0.9325, 0.6859],\n",
       "         [0.3696, 0.1900, 0.4857]],\n",
       "\n",
       "        [[0.2152, 0.2239, 0.5257],\n",
       "         [0.8437, 0.2566, 0.7787],\n",
       "         [0.0067, 0.3890, 0.5080],\n",
       "         ...,\n",
       "         [0.7191, 0.9244, 0.7484],\n",
       "         [0.6606, 0.2635, 0.2962],\n",
       "         [0.0457, 0.5802, 0.9869]],\n",
       "\n",
       "        ...,\n",
       "\n",
       "        [[0.0098, 0.9445, 0.0904],\n",
       "         [0.5872, 0.0860, 0.7133],\n",
       "         [0.2230, 0.7777, 0.3608],\n",
       "         ...,\n",
       "         [0.3216, 0.1623, 0.4390],\n",
       "         [0.1976, 0.3764, 0.1714],\n",
       "         [0.1166, 0.0828, 0.9859]],\n",
       "\n",
       "        [[0.2924, 0.1591, 0.7317],\n",
       "         [0.8972, 0.9404, 0.7328],\n",
       "         [0.3161, 0.5985, 0.7509],\n",
       "         ...,\n",
       "         [0.2196, 0.3850, 0.9374],\n",
       "         [0.8595, 0.8042, 0.5355],\n",
       "         [0.6567, 0.2660, 0.8566]],\n",
       "\n",
       "        [[0.0342, 0.3976, 0.7790],\n",
       "         [0.8666, 0.8258, 0.3947],\n",
       "         [0.6275, 0.3139, 0.6554],\n",
       "         ...,\n",
       "         [0.4045, 0.7033, 0.1953],\n",
       "         [0.0463, 0.7284, 0.7155],\n",
       "         [0.8139, 0.8650, 0.7709]]])"
      ]
     },
     "execution_count": 31,
     "metadata": {},
     "output_type": "execute_result"
    }
   ],
   "source": [
    "random_image_size_tensor = torch.rand(size=(224,224,3)) #height,width,color channels(RGB)\n",
    "random_image_size_tensor"
   ]
  },
  {
   "cell_type": "code",
   "execution_count": 32,
   "id": "ed58dd32",
   "metadata": {},
   "outputs": [
    {
     "data": {
      "text/plain": [
       "torch.Size([224, 224, 3])"
      ]
     },
     "execution_count": 32,
     "metadata": {},
     "output_type": "execute_result"
    }
   ],
   "source": [
    "random_image_size_tensor.shape"
   ]
  },
  {
   "cell_type": "code",
   "execution_count": 33,
   "id": "340397c5",
   "metadata": {},
   "outputs": [
    {
     "data": {
      "text/plain": [
       "3"
      ]
     },
     "execution_count": 33,
     "metadata": {},
     "output_type": "execute_result"
    }
   ],
   "source": [
    "random_image_size_tensor.ndim"
   ]
  },
  {
   "cell_type": "markdown",
   "id": "35d506a2",
   "metadata": {},
   "source": [
    "# Creating Tensors with Zeros and Ones in PyTorch"
   ]
  },
  {
   "cell_type": "code",
   "execution_count": 34,
   "id": "7cf7c150",
   "metadata": {},
   "outputs": [
    {
     "data": {
      "text/plain": [
       "tensor([[0., 0., 0., 0.],\n",
       "        [0., 0., 0., 0.],\n",
       "        [0., 0., 0., 0.]])"
      ]
     },
     "execution_count": 34,
     "metadata": {},
     "output_type": "execute_result"
    }
   ],
   "source": [
    "zeros = torch.zeros(size=(3,4))\n",
    "zeros"
   ]
  },
  {
   "cell_type": "code",
   "execution_count": 35,
   "id": "d040d263",
   "metadata": {},
   "outputs": [
    {
     "data": {
      "text/plain": [
       "tensor([[1., 1., 1., 1.],\n",
       "        [1., 1., 1., 1.],\n",
       "        [1., 1., 1., 1.]])"
      ]
     },
     "execution_count": 35,
     "metadata": {},
     "output_type": "execute_result"
    }
   ],
   "source": [
    "ones = torch.ones(size=(3,4))\n",
    "ones"
   ]
  },
  {
   "cell_type": "code",
   "execution_count": 36,
   "id": "9da9c947",
   "metadata": {},
   "outputs": [
    {
     "data": {
      "text/plain": [
       "torch.float32"
      ]
     },
     "execution_count": 36,
     "metadata": {},
     "output_type": "execute_result"
    }
   ],
   "source": [
    "ones.dtype"
   ]
  },
  {
   "cell_type": "markdown",
   "id": "02899ff3",
   "metadata": {},
   "source": [
    "# Creating a Tensor Range and Tensors Like Other Tensors"
   ]
  },
  {
   "cell_type": "code",
   "execution_count": 37,
   "id": "8ee41248",
   "metadata": {},
   "outputs": [
    {
     "data": {
      "text/plain": [
       "tensor([ 1,  2,  3,  4,  5,  6,  7,  8,  9, 10])"
      ]
     },
     "execution_count": 37,
     "metadata": {},
     "output_type": "execute_result"
    }
   ],
   "source": [
    "one_to_ten = torch.arange(1,11)\n",
    "one_to_ten"
   ]
  },
  {
   "cell_type": "code",
   "execution_count": 38,
   "id": "40a7f96f",
   "metadata": {},
   "outputs": [
    {
     "data": {
      "text/plain": [
       "tensor([0.0000e+00, 1.0000e-04, 2.0000e-04,  ..., 9.9970e-01, 9.9980e-01,\n",
       "        9.9990e-01])"
      ]
     },
     "execution_count": 38,
     "metadata": {},
     "output_type": "execute_result"
    }
   ],
   "source": [
    "one_to_ten = torch.arange(start=0,end=1,step=0.0001) #default step size is 1\n",
    "one_to_ten"
   ]
  },
  {
   "cell_type": "code",
   "execution_count": 39,
   "id": "0714930b",
   "metadata": {},
   "outputs": [
    {
     "data": {
      "text/plain": [
       "tensor([0., 0., 0.,  ..., 0., 0., 0.])"
      ]
     },
     "execution_count": 39,
     "metadata": {},
     "output_type": "execute_result"
    }
   ],
   "source": [
    "one_to_ten_zeros = torch.zeros_like(input=one_to_ten)\n",
    "one_to_ten_zeros"
   ]
  },
  {
   "cell_type": "code",
   "execution_count": 40,
   "id": "5b6ea16a",
   "metadata": {},
   "outputs": [
    {
     "data": {
      "text/plain": [
       "1"
      ]
     },
     "execution_count": 40,
     "metadata": {},
     "output_type": "execute_result"
    }
   ],
   "source": [
    "one_to_ten_zeros.ndim"
   ]
  },
  {
   "cell_type": "code",
   "execution_count": 41,
   "id": "fc3d5c00",
   "metadata": {},
   "outputs": [
    {
     "data": {
      "text/plain": [
       "torch.Size([10000])"
      ]
     },
     "execution_count": 41,
     "metadata": {},
     "output_type": "execute_result"
    }
   ],
   "source": [
    "one_to_ten_zeros.shape"
   ]
  },
  {
   "cell_type": "code",
   "execution_count": 42,
   "id": "0b0f8ef2",
   "metadata": {},
   "outputs": [
    {
     "data": {
      "text/plain": [
       "1"
      ]
     },
     "execution_count": 42,
     "metadata": {},
     "output_type": "execute_result"
    }
   ],
   "source": [
    "one_to_ten.ndim"
   ]
  },
  {
   "cell_type": "code",
   "execution_count": 43,
   "id": "b1061243",
   "metadata": {},
   "outputs": [
    {
     "data": {
      "text/plain": [
       "torch.Size([10000])"
      ]
     },
     "execution_count": 43,
     "metadata": {},
     "output_type": "execute_result"
    }
   ],
   "source": [
    "one_to_ten.shape"
   ]
  },
  {
   "cell_type": "markdown",
   "id": "1a4eef1f",
   "metadata": {},
   "source": [
    "# Dealing With Tensor Data Types"
   ]
  },
  {
   "cell_type": "code",
   "execution_count": 44,
   "id": "1b338088",
   "metadata": {},
   "outputs": [
    {
     "data": {
      "text/plain": [
       "tensor([3., 6., 9.])"
      ]
     },
     "execution_count": 44,
     "metadata": {},
     "output_type": "execute_result"
    }
   ],
   "source": [
    "#Float 32 Tensor\n",
    "float_32_tensor = torch.tensor([3.0,6.0,9.0],dtype=None) #default dtype is float32\n",
    "float_32_tensor"
   ]
  },
  {
   "cell_type": "code",
   "execution_count": 45,
   "id": "a2a2e4be",
   "metadata": {},
   "outputs": [
    {
     "data": {
      "text/plain": [
       "torch.float32"
      ]
     },
     "execution_count": 45,
     "metadata": {},
     "output_type": "execute_result"
    }
   ],
   "source": [
    "float_32_tensor.dtype"
   ]
  },
  {
   "cell_type": "code",
   "execution_count": null,
   "id": "1bc4e420",
   "metadata": {},
   "outputs": [],
   "source": []
  },
  {
   "cell_type": "code",
   "execution_count": 46,
   "id": "c8369927",
   "metadata": {},
   "outputs": [],
   "source": [
    "float_32_tensor = torch.tensor([3.0,6.0,9.0],\n",
    "                               dtype=None, #datatype\n",
    "                               device=None, #What device is tensor on (GPU, CPU, cuda)\n",
    "                               requires_grad=False) #does PyTorch track the gradients"
   ]
  },
  {
   "cell_type": "code",
   "execution_count": 47,
   "id": "9f3a883e",
   "metadata": {},
   "outputs": [
    {
     "data": {
      "text/plain": [
       "tensor([3., 6., 9.], dtype=torch.float16)"
      ]
     },
     "execution_count": 47,
     "metadata": {},
     "output_type": "execute_result"
    }
   ],
   "source": [
    "#change datatype of a tensor with .type()\n",
    "float_16_tensor = float_32_tensor.type(torch.float16)\n",
    "float_16_tensor"
   ]
  },
  {
   "cell_type": "markdown",
   "id": "5a97de1f",
   "metadata": {},
   "source": [
    "# Getting Tensor Attributes"
   ]
  },
  {
   "cell_type": "code",
   "execution_count": 48,
   "id": "91dfa601",
   "metadata": {},
   "outputs": [
    {
     "name": "stdout",
     "output_type": "stream",
     "text": [
      "tensor([3., 6., 9.])\n",
      "Datatype of Tensor: torch.float32\n",
      "Shape of Tensor: torch.Size([3])\n",
      "Device of Tensor: cpu\n"
     ]
    }
   ],
   "source": [
    "print(float_32_tensor)\n",
    "print(f\"Datatype of Tensor: {float_32_tensor.dtype}\")\n",
    "print(f\"Shape of Tensor: {float_32_tensor.shape}\")\n",
    "print(f\"Device of Tensor: {float_32_tensor.device}\")"
   ]
  },
  {
   "cell_type": "code",
   "execution_count": 49,
   "id": "7caa094c",
   "metadata": {},
   "outputs": [
    {
     "name": "stdout",
     "output_type": "stream",
     "text": [
      "tensor([0.0000e+00, 1.0000e-04, 2.0000e-04,  ..., 9.9970e-01, 9.9980e-01,\n",
      "        9.9990e-01])\n",
      "Datatype of Tensor: torch.float32\n",
      "Shape of Tensor: torch.Size([10000])\n",
      "Device of Tensor: cpu\n"
     ]
    }
   ],
   "source": [
    "print(one_to_ten)\n",
    "print(f\"Datatype of Tensor: {one_to_ten.dtype}\")\n",
    "print(f\"Shape of Tensor: {one_to_ten.shape}\")\n",
    "print(f\"Device of Tensor: {one_to_ten.device}\")"
   ]
  },
  {
   "cell_type": "markdown",
   "id": "5ecca05c",
   "metadata": {},
   "source": [
    "# Manipulating Tensors (Tensor Operations)"
   ]
  },
  {
   "cell_type": "code",
   "execution_count": 50,
   "id": "6ba3703a",
   "metadata": {},
   "outputs": [
    {
     "data": {
      "text/plain": [
       "tensor([11, 12, 13])"
      ]
     },
     "execution_count": 50,
     "metadata": {},
     "output_type": "execute_result"
    }
   ],
   "source": [
    "tensor = torch.tensor([1,2,3])\n",
    "#addition\n",
    "tensor + 10"
   ]
  },
  {
   "cell_type": "code",
   "execution_count": 51,
   "id": "ab6eeb96",
   "metadata": {},
   "outputs": [
    {
     "data": {
      "text/plain": [
       "tensor([10, 20, 30])"
      ]
     },
     "execution_count": 51,
     "metadata": {},
     "output_type": "execute_result"
    }
   ],
   "source": [
    "#multiplication\n",
    "tensor * 10"
   ]
  },
  {
   "cell_type": "code",
   "execution_count": 52,
   "id": "110d1712",
   "metadata": {},
   "outputs": [
    {
     "data": {
      "text/plain": [
       "tensor([-9, -8, -7])"
      ]
     },
     "execution_count": 52,
     "metadata": {},
     "output_type": "execute_result"
    }
   ],
   "source": [
    "#subtraction\n",
    "tensor - 10"
   ]
  },
  {
   "cell_type": "code",
   "execution_count": 53,
   "id": "1d82c058",
   "metadata": {},
   "outputs": [
    {
     "data": {
      "text/plain": [
       "tensor([0.5000, 1.0000, 1.5000])"
      ]
     },
     "execution_count": 53,
     "metadata": {},
     "output_type": "execute_result"
    }
   ],
   "source": [
    "#division\n",
    "tensor/2"
   ]
  },
  {
   "cell_type": "code",
   "execution_count": 54,
   "id": "de9058b5",
   "metadata": {},
   "outputs": [
    {
     "data": {
      "text/plain": [
       "tensor([10, 20, 30])"
      ]
     },
     "execution_count": 54,
     "metadata": {},
     "output_type": "execute_result"
    }
   ],
   "source": [
    "#PyTorch inbuilt functions\n",
    "torch.mul(tensor,10)"
   ]
  },
  {
   "cell_type": "code",
   "execution_count": 55,
   "id": "4f49ad56",
   "metadata": {},
   "outputs": [
    {
     "data": {
      "text/plain": [
       "tensor([11, 12, 13])"
      ]
     },
     "execution_count": 55,
     "metadata": {},
     "output_type": "execute_result"
    }
   ],
   "source": [
    "torch.add(tensor,10)"
   ]
  },
  {
   "cell_type": "markdown",
   "id": "2389e600",
   "metadata": {},
   "source": [
    "# Matrix Multiplication (Part 1)"
   ]
  },
  {
   "cell_type": "code",
   "execution_count": 56,
   "id": "7ccd2d17",
   "metadata": {},
   "outputs": [],
   "source": [
    "#Matrix multiplication <=> Dot product\n",
    "# The @ symbol can be used to perform matrix multiplication"
   ]
  },
  {
   "cell_type": "code",
   "execution_count": 57,
   "id": "a1f89712",
   "metadata": {},
   "outputs": [
    {
     "data": {
      "text/plain": [
       "tensor([1, 2, 3])"
      ]
     },
     "execution_count": 57,
     "metadata": {},
     "output_type": "execute_result"
    }
   ],
   "source": [
    "tensor"
   ]
  },
  {
   "cell_type": "code",
   "execution_count": 58,
   "id": "62334b23",
   "metadata": {},
   "outputs": [
    {
     "data": {
      "text/plain": [
       "tensor([1, 4, 9])"
      ]
     },
     "execution_count": 58,
     "metadata": {},
     "output_type": "execute_result"
    }
   ],
   "source": [
    "#element-wise\n",
    "tensor * tensor"
   ]
  },
  {
   "cell_type": "code",
   "execution_count": 59,
   "id": "c089ff9f",
   "metadata": {},
   "outputs": [
    {
     "data": {
      "text/plain": [
       "tensor(14)"
      ]
     },
     "execution_count": 59,
     "metadata": {},
     "output_type": "execute_result"
    }
   ],
   "source": [
    "#matrix multiplication\n",
    "torch.matmul(tensor,tensor)"
   ]
  },
  {
   "cell_type": "code",
   "execution_count": 60,
   "id": "252f8e9a",
   "metadata": {},
   "outputs": [
    {
     "data": {
      "text/plain": [
       "tensor(14)"
      ]
     },
     "execution_count": 60,
     "metadata": {},
     "output_type": "execute_result"
    }
   ],
   "source": [
    "tensor @ tensor"
   ]
  },
  {
   "cell_type": "markdown",
   "id": "bb9ebdcd",
   "metadata": {},
   "source": [
    "# Matrix Multiplication (Part 2): Two Main Rules"
   ]
  },
  {
   "cell_type": "code",
   "execution_count": 61,
   "id": "3cbaf0a6",
   "metadata": {},
   "outputs": [],
   "source": [
    "#1. Inner dimensions must match (number of columns of first matrix = number of rows of 2nd matrix)\n",
    "#ex: 3x4 multiplied by a 4x1 is okay\n",
    "#ex: 3x4 multiplied by a 3x4 is not okay"
   ]
  },
  {
   "cell_type": "code",
   "execution_count": 62,
   "id": "ac61b382",
   "metadata": {},
   "outputs": [],
   "source": [
    "#2. The resulting matrix will be the outer dimensions\n",
    "#ex: 3x4 multiplied by a 4x1 results in a 3x1 matrix\n",
    "#ex: 5x8 multiplied by a 8x2 results in a 5x2 matrix"
   ]
  },
  {
   "cell_type": "markdown",
   "id": "aac89f0b",
   "metadata": {},
   "source": [
    "# Matrix Multiplication (Part 3): Dealing With Tensor Shape Errors"
   ]
  },
  {
   "cell_type": "code",
   "execution_count": 63,
   "id": "2dc867d4",
   "metadata": {},
   "outputs": [],
   "source": [
    "tensorA = torch.tensor([[1,2],\n",
    "                        [3,4],\n",
    "                        [5,6]])\n",
    "\n",
    "tensorB = torch.tensor([[7,10],\n",
    "                        [8,11],\n",
    "                        [9,12]])"
   ]
  },
  {
   "cell_type": "code",
   "execution_count": 64,
   "id": "4718ed55",
   "metadata": {},
   "outputs": [
    {
     "data": {
      "text/plain": [
       "tensor([[ 76, 103],\n",
       "        [100, 136]])"
      ]
     },
     "execution_count": 64,
     "metadata": {},
     "output_type": "execute_result"
    }
   ],
   "source": [
    "torch.mm(tensorA.T,tensorB) #torch.mm is the same as torch.matmul"
   ]
  },
  {
   "cell_type": "code",
   "execution_count": 65,
   "id": "bb80e113",
   "metadata": {},
   "outputs": [],
   "source": [
    "#Transpose operation"
   ]
  },
  {
   "cell_type": "code",
   "execution_count": 66,
   "id": "a8b80b27",
   "metadata": {},
   "outputs": [
    {
     "data": {
      "text/plain": [
       "tensor([[1, 2],\n",
       "        [3, 4],\n",
       "        [5, 6]])"
      ]
     },
     "execution_count": 66,
     "metadata": {},
     "output_type": "execute_result"
    }
   ],
   "source": [
    "tensorA"
   ]
  },
  {
   "cell_type": "code",
   "execution_count": 67,
   "id": "c5b1ac8b",
   "metadata": {},
   "outputs": [
    {
     "data": {
      "text/plain": [
       "tensor([[1, 3, 5],\n",
       "        [2, 4, 6]])"
      ]
     },
     "execution_count": 67,
     "metadata": {},
     "output_type": "execute_result"
    }
   ],
   "source": [
    "tensorA.T"
   ]
  },
  {
   "cell_type": "markdown",
   "id": "a122d88b",
   "metadata": {},
   "source": [
    "# Finding the Min, Max, Mean, & Sum of Tensors (Tensor Aggregation)"
   ]
  },
  {
   "cell_type": "code",
   "execution_count": 68,
   "id": "87e7b753",
   "metadata": {},
   "outputs": [
    {
     "data": {
      "text/plain": [
       "tensor([[0.2676, 0.5802, 0.2697, 0.1070, 0.3050],\n",
       "        [0.2881, 0.7149, 0.1844, 0.8904, 0.1011],\n",
       "        [0.1043, 0.2481, 0.2268, 0.1154, 0.3373],\n",
       "        [0.7565, 0.6117, 0.6652, 0.6936, 0.5134],\n",
       "        [0.9727, 0.8119, 0.4073, 0.6839, 0.1439]])"
      ]
     },
     "execution_count": 68,
     "metadata": {},
     "output_type": "execute_result"
    }
   ],
   "source": [
    "tensor = torch.rand(size=(5,5))\n",
    "tensor"
   ]
  },
  {
   "cell_type": "code",
   "execution_count": 69,
   "id": "0c9a58e3",
   "metadata": {},
   "outputs": [
    {
     "data": {
      "text/plain": [
       "tensor(0.1011)"
      ]
     },
     "execution_count": 69,
     "metadata": {},
     "output_type": "execute_result"
    }
   ],
   "source": [
    "#min\n",
    "torch.min(tensor) #also can use tensor.min()"
   ]
  },
  {
   "cell_type": "code",
   "execution_count": 70,
   "id": "9b4e2d3f",
   "metadata": {},
   "outputs": [
    {
     "data": {
      "text/plain": [
       "tensor(0.9727)"
      ]
     },
     "execution_count": 70,
     "metadata": {},
     "output_type": "execute_result"
    }
   ],
   "source": [
    "#max\n",
    "torch.max(tensor) #also can use tensor.max()"
   ]
  },
  {
   "cell_type": "code",
   "execution_count": 71,
   "id": "585f1c19",
   "metadata": {},
   "outputs": [
    {
     "data": {
      "text/plain": [
       "tensor(0.4400)"
      ]
     },
     "execution_count": 71,
     "metadata": {},
     "output_type": "execute_result"
    }
   ],
   "source": [
    "#mean\n",
    "torch.mean(tensor) #also can use tensor.mean()\n",
    "#torch.mean cannot work with datatypes long/int64 (integers)"
   ]
  },
  {
   "cell_type": "code",
   "execution_count": 72,
   "id": "e17eef1d",
   "metadata": {},
   "outputs": [
    {
     "data": {
      "text/plain": [
       "tensor(11.0004)"
      ]
     },
     "execution_count": 72,
     "metadata": {},
     "output_type": "execute_result"
    }
   ],
   "source": [
    "#sum\n",
    "torch.sum(tensor) #also can use tensor.sum()"
   ]
  },
  {
   "cell_type": "markdown",
   "id": "b2da50a5",
   "metadata": {},
   "source": [
    "# Finding the Positional Min and Max of Tensors (argmin and argmax)"
   ]
  },
  {
   "cell_type": "code",
   "execution_count": 73,
   "id": "595b0f1a",
   "metadata": {},
   "outputs": [
    {
     "data": {
      "text/plain": [
       "tensor([[0.2676, 0.5802, 0.2697, 0.1070, 0.3050],\n",
       "        [0.2881, 0.7149, 0.1844, 0.8904, 0.1011],\n",
       "        [0.1043, 0.2481, 0.2268, 0.1154, 0.3373],\n",
       "        [0.7565, 0.6117, 0.6652, 0.6936, 0.5134],\n",
       "        [0.9727, 0.8119, 0.4073, 0.6839, 0.1439]])"
      ]
     },
     "execution_count": 73,
     "metadata": {},
     "output_type": "execute_result"
    }
   ],
   "source": [
    "tensor"
   ]
  },
  {
   "cell_type": "code",
   "execution_count": 74,
   "id": "6f0bb9e1",
   "metadata": {},
   "outputs": [
    {
     "data": {
      "text/plain": [
       "(tensor(9), tensor(0.1011))"
      ]
     },
     "execution_count": 74,
     "metadata": {},
     "output_type": "execute_result"
    }
   ],
   "source": [
    "tensor.argmin(), tensor.min()"
   ]
  },
  {
   "cell_type": "code",
   "execution_count": 75,
   "id": "c60ca32a",
   "metadata": {},
   "outputs": [
    {
     "data": {
      "text/plain": [
       "(tensor(20), tensor(0.9727))"
      ]
     },
     "execution_count": 75,
     "metadata": {},
     "output_type": "execute_result"
    }
   ],
   "source": [
    "tensor.argmax(), tensor.max()"
   ]
  },
  {
   "cell_type": "markdown",
   "id": "5ba2d41d",
   "metadata": {},
   "source": [
    "# Reshaping, Viewing, & Stacking Tensors"
   ]
  },
  {
   "cell_type": "code",
   "execution_count": 76,
   "id": "3cbceb62",
   "metadata": {},
   "outputs": [],
   "source": [
    "#Reshaping reshapes an input tensor to a defined shape\n",
    "#Viewing returns a view of an input tensor of certain shape but keep the same memory as the original tensor\n",
    "#Stacking combines multiple tensors on top of each other (vstack) or side-by-side (hstack)\n",
    "#Squeezing removes all '1' dimensions from a tensor\n",
    "#Unsqueezing adds a '1' dimension to a target tensor\n",
    "#Permuting returns a view of the input with dimensions permuted in a certain way"
   ]
  },
  {
   "cell_type": "code",
   "execution_count": 77,
   "id": "851d75aa",
   "metadata": {},
   "outputs": [
    {
     "data": {
      "text/plain": [
       "(tensor([[0.6115, 0.4119, 0.0997, 0.0065],\n",
       "         [0.3551, 0.3265, 0.3202, 0.8197],\n",
       "         [0.8802, 0.2977, 0.4559, 0.0910]]),\n",
       " torch.Size([3, 4]))"
      ]
     },
     "execution_count": 77,
     "metadata": {},
     "output_type": "execute_result"
    }
   ],
   "source": [
    "tensor = torch.rand(size=(3,4))\n",
    "tensor, tensor.shape"
   ]
  },
  {
   "cell_type": "code",
   "execution_count": 78,
   "id": "d5497ea3",
   "metadata": {},
   "outputs": [
    {
     "data": {
      "text/plain": [
       "(tensor([[0.6115, 0.4119, 0.0997, 0.0065, 0.3551, 0.3265],\n",
       "         [0.3202, 0.8197, 0.8802, 0.2977, 0.4559, 0.0910]]),\n",
       " torch.Size([2, 6]))"
      ]
     },
     "execution_count": 78,
     "metadata": {},
     "output_type": "execute_result"
    }
   ],
   "source": [
    "#Add an extra dimension\n",
    "tensor_reshaped = tensor.reshape(2,6)\n",
    "tensor_reshaped, tensor_reshaped.shape"
   ]
  },
  {
   "cell_type": "code",
   "execution_count": 79,
   "id": "c065d183",
   "metadata": {},
   "outputs": [
    {
     "data": {
      "text/plain": [
       "tensor([[0.6115, 0.4119],\n",
       "        [0.0997, 0.0065],\n",
       "        [0.3551, 0.3265],\n",
       "        [0.3202, 0.8197],\n",
       "        [0.8802, 0.2977],\n",
       "        [0.4559, 0.0910]])"
      ]
     },
     "execution_count": 79,
     "metadata": {},
     "output_type": "execute_result"
    }
   ],
   "source": [
    "#Change the view\n",
    "tensor_view = tensor.view(6,2)\n",
    "tensor_view"
   ]
  },
  {
   "cell_type": "code",
   "execution_count": 80,
   "id": "371a039f",
   "metadata": {},
   "outputs": [],
   "source": [
    "#Changing tensor_view changes tensor, because a view of a tensor shares the same memory as the original input"
   ]
  },
  {
   "cell_type": "code",
   "execution_count": 81,
   "id": "469cfad9",
   "metadata": {},
   "outputs": [
    {
     "data": {
      "text/plain": [
       "(tensor([[0.0010, 0.4119],\n",
       "         [0.0997, 0.0065],\n",
       "         [0.3551, 0.3265],\n",
       "         [0.3202, 0.8197],\n",
       "         [0.8802, 0.2977],\n",
       "         [0.4559, 0.0910]]),\n",
       " tensor([[0.0010, 0.4119, 0.0997, 0.0065],\n",
       "         [0.3551, 0.3265, 0.3202, 0.8197],\n",
       "         [0.8802, 0.2977, 0.4559, 0.0910]]))"
      ]
     },
     "execution_count": 81,
     "metadata": {},
     "output_type": "execute_result"
    }
   ],
   "source": [
    "tensor_view[0][0] = 0.001\n",
    "tensor_view, tensor #Note the first element of tensor_view and tensor is now 0.0010"
   ]
  },
  {
   "cell_type": "code",
   "execution_count": 82,
   "id": "3580ade6",
   "metadata": {},
   "outputs": [
    {
     "data": {
      "text/plain": [
       "tensor([[[0.0010, 0.4119, 0.0997, 0.0065],\n",
       "         [0.3551, 0.3265, 0.3202, 0.8197],\n",
       "         [0.8802, 0.2977, 0.4559, 0.0910]],\n",
       "\n",
       "        [[0.0010, 0.4119, 0.0997, 0.0065],\n",
       "         [0.3551, 0.3265, 0.3202, 0.8197],\n",
       "         [0.8802, 0.2977, 0.4559, 0.0910]],\n",
       "\n",
       "        [[0.0010, 0.4119, 0.0997, 0.0065],\n",
       "         [0.3551, 0.3265, 0.3202, 0.8197],\n",
       "         [0.8802, 0.2977, 0.4559, 0.0910]],\n",
       "\n",
       "        [[0.0010, 0.4119, 0.0997, 0.0065],\n",
       "         [0.3551, 0.3265, 0.3202, 0.8197],\n",
       "         [0.8802, 0.2977, 0.4559, 0.0910]]])"
      ]
     },
     "execution_count": 82,
     "metadata": {},
     "output_type": "execute_result"
    }
   ],
   "source": [
    "#Stack tensors on top of each other\n",
    "tensor_stacked = torch.stack([tensor,tensor,tensor,tensor],dim=0) #dim=0 by default\n",
    "tensor_stacked"
   ]
  },
  {
   "cell_type": "code",
   "execution_count": 83,
   "id": "df6fab54",
   "metadata": {},
   "outputs": [
    {
     "data": {
      "text/plain": [
       "tensor([[[0.0010, 0.4119, 0.0997, 0.0065],\n",
       "         [0.0010, 0.4119, 0.0997, 0.0065],\n",
       "         [0.0010, 0.4119, 0.0997, 0.0065],\n",
       "         [0.0010, 0.4119, 0.0997, 0.0065]],\n",
       "\n",
       "        [[0.3551, 0.3265, 0.3202, 0.8197],\n",
       "         [0.3551, 0.3265, 0.3202, 0.8197],\n",
       "         [0.3551, 0.3265, 0.3202, 0.8197],\n",
       "         [0.3551, 0.3265, 0.3202, 0.8197]],\n",
       "\n",
       "        [[0.8802, 0.2977, 0.4559, 0.0910],\n",
       "         [0.8802, 0.2977, 0.4559, 0.0910],\n",
       "         [0.8802, 0.2977, 0.4559, 0.0910],\n",
       "         [0.8802, 0.2977, 0.4559, 0.0910]]])"
      ]
     },
     "execution_count": 83,
     "metadata": {},
     "output_type": "execute_result"
    }
   ],
   "source": [
    "tensor_stacked = torch.stack([tensor,tensor,tensor,tensor],dim=1)\n",
    "tensor_stacked"
   ]
  },
  {
   "cell_type": "code",
   "execution_count": 84,
   "id": "8919e9ff",
   "metadata": {},
   "outputs": [
    {
     "data": {
      "text/plain": [
       "tensor([[[0.0010, 0.0010, 0.0010, 0.0010],\n",
       "         [0.4119, 0.4119, 0.4119, 0.4119],\n",
       "         [0.0997, 0.0997, 0.0997, 0.0997],\n",
       "         [0.0065, 0.0065, 0.0065, 0.0065]],\n",
       "\n",
       "        [[0.3551, 0.3551, 0.3551, 0.3551],\n",
       "         [0.3265, 0.3265, 0.3265, 0.3265],\n",
       "         [0.3202, 0.3202, 0.3202, 0.3202],\n",
       "         [0.8197, 0.8197, 0.8197, 0.8197]],\n",
       "\n",
       "        [[0.8802, 0.8802, 0.8802, 0.8802],\n",
       "         [0.2977, 0.2977, 0.2977, 0.2977],\n",
       "         [0.4559, 0.4559, 0.4559, 0.4559],\n",
       "         [0.0910, 0.0910, 0.0910, 0.0910]]])"
      ]
     },
     "execution_count": 84,
     "metadata": {},
     "output_type": "execute_result"
    }
   ],
   "source": [
    "tensor_stacked = torch.stack([tensor,tensor,tensor,tensor],dim=2)\n",
    "tensor_stacked"
   ]
  },
  {
   "cell_type": "markdown",
   "id": "b29dabf2",
   "metadata": {},
   "source": [
    "# Squeezing, Unsqueezing, & Permuting Tensors"
   ]
  },
  {
   "cell_type": "code",
   "execution_count": 85,
   "id": "710f8db2",
   "metadata": {},
   "outputs": [
    {
     "data": {
      "text/plain": [
       "(tensor([[0.9048, 0.3940, 0.8545, 0.0291, 0.2634, 0.3782, 0.9366, 0.3362, 0.8466,\n",
       "          0.4876, 0.4433, 0.1516]]),\n",
       " torch.Size([1, 12]))"
      ]
     },
     "execution_count": 85,
     "metadata": {},
     "output_type": "execute_result"
    }
   ],
   "source": [
    "new_tensor = torch.rand(1,12)\n",
    "new_tensor, new_tensor.shape"
   ]
  },
  {
   "cell_type": "code",
   "execution_count": 86,
   "id": "55180a0b",
   "metadata": {},
   "outputs": [
    {
     "data": {
      "text/plain": [
       "tensor([0.9048, 0.3940, 0.8545, 0.0291, 0.2634, 0.3782, 0.9366, 0.3362, 0.8466,\n",
       "        0.4876, 0.4433, 0.1516])"
      ]
     },
     "execution_count": 86,
     "metadata": {},
     "output_type": "execute_result"
    }
   ],
   "source": [
    "#Squeeze function\n",
    "squeezed_tensor = new_tensor.squeeze()\n",
    "squeezed_tensor #Note there is now only one set of brackets []"
   ]
  },
  {
   "cell_type": "code",
   "execution_count": 87,
   "id": "17ed5b2f",
   "metadata": {},
   "outputs": [
    {
     "data": {
      "text/plain": [
       "torch.Size([12])"
      ]
     },
     "execution_count": 87,
     "metadata": {},
     "output_type": "execute_result"
    }
   ],
   "source": [
    "squeezed_tensor.shape"
   ]
  },
  {
   "cell_type": "code",
   "execution_count": 88,
   "id": "5dc9a7c2",
   "metadata": {},
   "outputs": [
    {
     "data": {
      "text/plain": [
       "tensor([[0.9048, 0.3940, 0.8545, 0.0291, 0.2634, 0.3782, 0.9366, 0.3362, 0.8466,\n",
       "         0.4876, 0.4433, 0.1516]])"
      ]
     },
     "execution_count": 88,
     "metadata": {},
     "output_type": "execute_result"
    }
   ],
   "source": [
    "#Unsqueeze function\n",
    "unsqueezed_tensor = squeezed_tensor.unsqueeze(dim=0)\n",
    "unsqueezed_tensor"
   ]
  },
  {
   "cell_type": "code",
   "execution_count": 89,
   "id": "472c7c4d",
   "metadata": {},
   "outputs": [
    {
     "data": {
      "text/plain": [
       "torch.Size([1, 12])"
      ]
     },
     "execution_count": 89,
     "metadata": {},
     "output_type": "execute_result"
    }
   ],
   "source": [
    "unsqueezed_tensor.shape"
   ]
  },
  {
   "cell_type": "code",
   "execution_count": 90,
   "id": "3d3daf73",
   "metadata": {},
   "outputs": [
    {
     "data": {
      "text/plain": [
       "tensor([[0.9048],\n",
       "        [0.3940],\n",
       "        [0.8545],\n",
       "        [0.0291],\n",
       "        [0.2634],\n",
       "        [0.3782],\n",
       "        [0.9366],\n",
       "        [0.3362],\n",
       "        [0.8466],\n",
       "        [0.4876],\n",
       "        [0.4433],\n",
       "        [0.1516]])"
      ]
     },
     "execution_count": 90,
     "metadata": {},
     "output_type": "execute_result"
    }
   ],
   "source": [
    "squeezed_tensor.unsqueeze(dim=1)"
   ]
  },
  {
   "cell_type": "code",
   "execution_count": 91,
   "id": "d46d5749",
   "metadata": {},
   "outputs": [
    {
     "data": {
      "text/plain": [
       "torch.Size([12, 1])"
      ]
     },
     "execution_count": 91,
     "metadata": {},
     "output_type": "execute_result"
    }
   ],
   "source": [
    "squeezed_tensor.unsqueeze(dim=1).shape"
   ]
  },
  {
   "cell_type": "code",
   "execution_count": 92,
   "id": "750abfe0",
   "metadata": {},
   "outputs": [],
   "source": [
    "#Permute function\n",
    "image_tensor = torch.rand(size=(224,224,3)) #height, width, color channels"
   ]
  },
  {
   "cell_type": "code",
   "execution_count": 93,
   "id": "980a59f3",
   "metadata": {},
   "outputs": [
    {
     "data": {
      "text/plain": [
       "torch.Size([224, 224, 3])"
      ]
     },
     "execution_count": 93,
     "metadata": {},
     "output_type": "execute_result"
    }
   ],
   "source": [
    "image_tensor.shape"
   ]
  },
  {
   "cell_type": "code",
   "execution_count": 94,
   "id": "cbfd046c",
   "metadata": {},
   "outputs": [],
   "source": [
    "image_permuted = image_tensor.permute(2,0,1)"
   ]
  },
  {
   "cell_type": "code",
   "execution_count": 95,
   "id": "bdc0f71a",
   "metadata": {},
   "outputs": [
    {
     "data": {
      "text/plain": [
       "torch.Size([3, 224, 224])"
      ]
     },
     "execution_count": 95,
     "metadata": {},
     "output_type": "execute_result"
    }
   ],
   "source": [
    "image_permuted.shape"
   ]
  },
  {
   "cell_type": "markdown",
   "id": "401b30d3",
   "metadata": {},
   "source": [
    "# Selecting Data From Tensors (Indexing)"
   ]
  },
  {
   "cell_type": "code",
   "execution_count": 96,
   "id": "8f5aedfb",
   "metadata": {},
   "outputs": [
    {
     "data": {
      "text/plain": [
       "(tensor([[[1, 2, 3],\n",
       "          [4, 5, 6],\n",
       "          [7, 8, 9]]]),\n",
       " torch.Size([1, 3, 3]))"
      ]
     },
     "execution_count": 96,
     "metadata": {},
     "output_type": "execute_result"
    }
   ],
   "source": [
    "x = torch.arange(1,10).reshape(1,3,3)\n",
    "x, x.shape"
   ]
  },
  {
   "cell_type": "code",
   "execution_count": 97,
   "id": "8c7d697d",
   "metadata": {},
   "outputs": [
    {
     "data": {
      "text/plain": [
       "tensor([[1, 2, 3],\n",
       "        [4, 5, 6],\n",
       "        [7, 8, 9]])"
      ]
     },
     "execution_count": 97,
     "metadata": {},
     "output_type": "execute_result"
    }
   ],
   "source": [
    "x[0]"
   ]
  },
  {
   "cell_type": "code",
   "execution_count": 98,
   "id": "06f232d5",
   "metadata": {},
   "outputs": [
    {
     "data": {
      "text/plain": [
       "(tensor([1, 2, 3]), tensor([1, 2, 3]))"
      ]
     },
     "execution_count": 98,
     "metadata": {},
     "output_type": "execute_result"
    }
   ],
   "source": [
    "x[0][0], x[0,0] #both are equivalent"
   ]
  },
  {
   "cell_type": "code",
   "execution_count": 99,
   "id": "e505fba6",
   "metadata": {},
   "outputs": [
    {
     "data": {
      "text/plain": [
       "(tensor(1), tensor(1))"
      ]
     },
     "execution_count": 99,
     "metadata": {},
     "output_type": "execute_result"
    }
   ],
   "source": [
    "x[0][0][0], x[0,0,0]"
   ]
  },
  {
   "cell_type": "code",
   "execution_count": 100,
   "id": "b3eb83c7",
   "metadata": {},
   "outputs": [
    {
     "data": {
      "text/plain": [
       "tensor([[1, 2, 3]])"
      ]
     },
     "execution_count": 100,
     "metadata": {},
     "output_type": "execute_result"
    }
   ],
   "source": [
    "#You can use : to select all of a target dimension\n",
    "x[:,0]"
   ]
  },
  {
   "cell_type": "code",
   "execution_count": 101,
   "id": "8ec2f72c",
   "metadata": {},
   "outputs": [
    {
     "data": {
      "text/plain": [
       "tensor([[2, 5, 8]])"
      ]
     },
     "execution_count": 101,
     "metadata": {},
     "output_type": "execute_result"
    }
   ],
   "source": [
    "x[:,:,1]"
   ]
  },
  {
   "cell_type": "code",
   "execution_count": 102,
   "id": "9a812872",
   "metadata": {},
   "outputs": [
    {
     "data": {
      "text/plain": [
       "tensor([[4, 5, 6]])"
      ]
     },
     "execution_count": 102,
     "metadata": {},
     "output_type": "execute_result"
    }
   ],
   "source": [
    "x[:,1,:]"
   ]
  },
  {
   "cell_type": "code",
   "execution_count": 103,
   "id": "2a746953",
   "metadata": {},
   "outputs": [
    {
     "data": {
      "text/plain": [
       "tensor([[3, 6, 9]])"
      ]
     },
     "execution_count": 103,
     "metadata": {},
     "output_type": "execute_result"
    }
   ],
   "source": [
    "x[:,:,2]"
   ]
  },
  {
   "cell_type": "markdown",
   "id": "db7e5ddd",
   "metadata": {},
   "source": [
    "# PyTorch Tensors & Numpy"
   ]
  },
  {
   "cell_type": "code",
   "execution_count": 104,
   "id": "e804bfc4",
   "metadata": {},
   "outputs": [],
   "source": [
    "#You can change data in NumPy to PyTorch tensor (torch.from_numpy(ndarray))\n",
    "#You can also change PyTorch tensor to NumPy (torch.Tensor.numpy())"
   ]
  },
  {
   "cell_type": "code",
   "execution_count": 105,
   "id": "f69e1228",
   "metadata": {},
   "outputs": [
    {
     "data": {
      "text/plain": [
       "(array([1., 2., 3., 4., 5., 6., 7.]),\n",
       " tensor([1., 2., 3., 4., 5., 6., 7.], dtype=torch.float64))"
      ]
     },
     "execution_count": 105,
     "metadata": {},
     "output_type": "execute_result"
    }
   ],
   "source": [
    "#NumPy array to tensor\n",
    "array = np.arange(1.0,8.0) #default dtype for NumPy array is float64\n",
    "tensor = torch.from_numpy(array) #default dtype for tensor is float32\n",
    "array, tensor"
   ]
  },
  {
   "cell_type": "code",
   "execution_count": 106,
   "id": "b2d952a9",
   "metadata": {},
   "outputs": [
    {
     "data": {
      "text/plain": [
       "(tensor([1., 1., 1., 1., 1., 1., 1.]),\n",
       " array([1., 1., 1., 1., 1., 1., 1.], dtype=float32))"
      ]
     },
     "execution_count": 106,
     "metadata": {},
     "output_type": "execute_result"
    }
   ],
   "source": [
    "#tensor to NumPy\n",
    "tensor = torch.ones(7)\n",
    "numpy_tensor = tensor.numpy()\n",
    "tensor, numpy_tensor"
   ]
  },
  {
   "cell_type": "markdown",
   "id": "44b2d08a",
   "metadata": {},
   "source": [
    "# PyTorch Reproducability (Taking the Random out of Random)"
   ]
  },
  {
   "cell_type": "code",
   "execution_count": 107,
   "id": "d73cdb71",
   "metadata": {},
   "outputs": [],
   "source": [
    "#we can use a random seed here to reproduce results"
   ]
  },
  {
   "cell_type": "code",
   "execution_count": 108,
   "id": "2f224d47",
   "metadata": {},
   "outputs": [],
   "source": [
    "RandA = torch.rand(3,4)\n",
    "RandB = torch.rand(3,4)"
   ]
  },
  {
   "cell_type": "code",
   "execution_count": 109,
   "id": "7873955a",
   "metadata": {},
   "outputs": [
    {
     "data": {
      "text/plain": [
       "(tensor([[0.4970, 0.3740, 0.9690, 0.4341],\n",
       "         [0.3365, 0.1118, 0.1751, 0.0538],\n",
       "         [0.0552, 0.0833, 0.7495, 0.7264]]),\n",
       " tensor([[0.4268, 0.4484, 0.4574, 0.0539],\n",
       "         [0.7210, 0.5344, 0.0615, 0.4177],\n",
       "         [0.2234, 0.1173, 0.7687, 0.9477]]),\n",
       " tensor([[False, False, False, False],\n",
       "         [False, False, False, False],\n",
       "         [False, False, False, False]]))"
      ]
     },
     "execution_count": 109,
     "metadata": {},
     "output_type": "execute_result"
    }
   ],
   "source": [
    "RandA, RandB, RandA == RandB"
   ]
  },
  {
   "cell_type": "code",
   "execution_count": null,
   "id": "75a0d9dc",
   "metadata": {},
   "outputs": [],
   "source": []
  },
  {
   "cell_type": "code",
   "execution_count": 110,
   "id": "2f4af52e",
   "metadata": {},
   "outputs": [],
   "source": [
    "#Set the random seed\n",
    "torch.manual_seed(420)\n",
    "RandC = torch.rand(3,4)\n",
    "torch.manual_seed(420)\n",
    "RandD = torch.rand(3,4)"
   ]
  },
  {
   "cell_type": "code",
   "execution_count": 111,
   "id": "6f92ec11",
   "metadata": {},
   "outputs": [
    {
     "data": {
      "text/plain": [
       "(tensor([[0.8054, 0.1990, 0.9759, 0.1028],\n",
       "         [0.3475, 0.1554, 0.8856, 0.6876],\n",
       "         [0.2506, 0.1133, 0.2105, 0.4035]]),\n",
       " tensor([[0.8054, 0.1990, 0.9759, 0.1028],\n",
       "         [0.3475, 0.1554, 0.8856, 0.6876],\n",
       "         [0.2506, 0.1133, 0.2105, 0.4035]]),\n",
       " tensor([[True, True, True, True],\n",
       "         [True, True, True, True],\n",
       "         [True, True, True, True]]))"
      ]
     },
     "execution_count": 111,
     "metadata": {},
     "output_type": "execute_result"
    }
   ],
   "source": [
    "RandC, RandD, RandC == RandD"
   ]
  },
  {
   "cell_type": "markdown",
   "id": "f6a839b7",
   "metadata": {},
   "source": [
    "# Different Ways of Accessing a GPU in PyTorch"
   ]
  },
  {
   "cell_type": "code",
   "execution_count": 112,
   "id": "e67cf1f6",
   "metadata": {},
   "outputs": [],
   "source": [
    "#GPUs = faster computations thanks to CUDA, NVIDIA hardware, and PyTorch under the hood processes"
   ]
  },
  {
   "cell_type": "code",
   "execution_count": 113,
   "id": "fb2ac183",
   "metadata": {},
   "outputs": [],
   "source": [
    "#Options are use Google Colab which allows access to GPUs, purchase your own GPU, or use Cloud computing (GCP, AWS, Azure)"
   ]
  },
  {
   "cell_type": "code",
   "execution_count": 114,
   "id": "36cb9aa6",
   "metadata": {},
   "outputs": [
    {
     "data": {
      "text/plain": [
       "False"
      ]
     },
     "execution_count": 114,
     "metadata": {},
     "output_type": "execute_result"
    }
   ],
   "source": [
    "#Check for GPU access with PyTorch\n",
    "torch.cuda.is_available()"
   ]
  },
  {
   "cell_type": "code",
   "execution_count": 115,
   "id": "64bdb274",
   "metadata": {},
   "outputs": [
    {
     "data": {
      "text/plain": [
       "'cpu'"
      ]
     },
     "execution_count": 115,
     "metadata": {},
     "output_type": "execute_result"
    }
   ],
   "source": [
    "#Setup device agnostic code\n",
    "device = \"cuda\" if torch.cuda.is_available() else \"cpu\"\n",
    "device"
   ]
  },
  {
   "cell_type": "code",
   "execution_count": 116,
   "id": "db59978d",
   "metadata": {},
   "outputs": [
    {
     "data": {
      "text/plain": [
       "0"
      ]
     },
     "execution_count": 116,
     "metadata": {},
     "output_type": "execute_result"
    }
   ],
   "source": [
    "#Count number of devices(GPUs)\n",
    "torch.cuda.device_count()"
   ]
  },
  {
   "cell_type": "markdown",
   "id": "16310960",
   "metadata": {},
   "source": [
    "# Setting Up Device-Agnostic Code & Putting Tensors On & Off the GPU"
   ]
  },
  {
   "cell_type": "code",
   "execution_count": 118,
   "id": "78401356",
   "metadata": {},
   "outputs": [
    {
     "data": {
      "text/plain": [
       "(tensor([1, 2, 3]), device(type='cpu'))"
      ]
     },
     "execution_count": 118,
     "metadata": {},
     "output_type": "execute_result"
    }
   ],
   "source": [
    "#Putting tensors and models on the GPU\n",
    "tensor = torch.tensor([1,2,3]) #default is on the CPU\n",
    "tensor, tensor.device"
   ]
  },
  {
   "cell_type": "code",
   "execution_count": 121,
   "id": "f47fad1c",
   "metadata": {},
   "outputs": [
    {
     "data": {
      "text/plain": [
       "(tensor([1, 2, 3]), device(type='cpu'))"
      ]
     },
     "execution_count": 121,
     "metadata": {},
     "output_type": "execute_result"
    }
   ],
   "source": [
    "#Move tensor to GPU if available\n",
    "tensor_GPU = tensor.to(device) #device object defined above\n",
    "tensor_GPU, tensor_GPU.device"
   ]
  },
  {
   "cell_type": "code",
   "execution_count": 122,
   "id": "3eed2ba9",
   "metadata": {},
   "outputs": [],
   "source": [
    "#The above code will run error-free whether or not there is a GPU available (device-agnostic)"
   ]
  },
  {
   "cell_type": "code",
   "execution_count": 123,
   "id": "e3289467",
   "metadata": {},
   "outputs": [
    {
     "data": {
      "text/plain": [
       "array([1, 2, 3], dtype=int64)"
      ]
     },
     "execution_count": 123,
     "metadata": {},
     "output_type": "execute_result"
    }
   ],
   "source": [
    "#NumPy only works with the CPU\n",
    "#Move tensors from GPU to CPU\n",
    "tensor_GPU.numpy() #will get error if tensor object is on the GPU"
   ]
  },
  {
   "cell_type": "code",
   "execution_count": 125,
   "id": "04116675",
   "metadata": {},
   "outputs": [
    {
     "data": {
      "text/plain": [
       "tensor([1, 2, 3])"
      ]
     },
     "execution_count": 125,
     "metadata": {},
     "output_type": "execute_result"
    }
   ],
   "source": [
    "tensor_GPU.cpu() # copies tensor to the CPU"
   ]
  },
  {
   "cell_type": "markdown",
   "id": "889b289d",
   "metadata": {},
   "source": [
    "# Exercises and Extra-Curriculum"
   ]
  },
  {
   "cell_type": "code",
   "execution_count": 128,
   "id": "3bae816d",
   "metadata": {},
   "outputs": [
    {
     "data": {
      "text/plain": [
       "tensor([[0.9659, 0.9114, 0.3016, 0.3314, 0.8997, 0.3720, 0.4452],\n",
       "        [0.4736, 0.0931, 0.9430, 0.4508, 0.9885, 0.9117, 0.7173],\n",
       "        [0.4887, 0.4945, 0.5115, 0.0140, 0.3807, 0.2687, 0.4703],\n",
       "        [0.5612, 0.1082, 0.8800, 0.9083, 0.8110, 0.7245, 0.5791],\n",
       "        [0.1397, 0.7014, 0.6772, 0.9833, 0.0285, 0.9340, 0.8926],\n",
       "        [0.5927, 0.6665, 0.5598, 0.4600, 0.6007, 0.7895, 0.5570],\n",
       "        [0.4546, 0.4835, 0.1149, 0.2606, 0.9070, 0.5295, 0.5525]])"
      ]
     },
     "execution_count": 128,
     "metadata": {},
     "output_type": "execute_result"
    }
   ],
   "source": [
    "#2.\n",
    "tensor1 = torch.rand(size=(7,7))\n",
    "tensor1"
   ]
  },
  {
   "cell_type": "code",
   "execution_count": 129,
   "id": "80219c4b",
   "metadata": {},
   "outputs": [
    {
     "data": {
      "text/plain": [
       "tensor([[0.0625, 0.8653, 0.5179, 0.4332, 0.0107, 0.8012, 0.4354]])"
      ]
     },
     "execution_count": 129,
     "metadata": {},
     "output_type": "execute_result"
    }
   ],
   "source": [
    "#3.\n",
    "tensor2 = torch.rand(size=(1,7))\n",
    "tensor2"
   ]
  },
  {
   "cell_type": "code",
   "execution_count": 130,
   "id": "3568c350",
   "metadata": {},
   "outputs": [
    {
     "data": {
      "text/plain": [
       "tensor([[1.6406, 1.1925, 1.9867, 1.3040, 2.3365, 2.1382, 1.8392]])"
      ]
     },
     "execution_count": 130,
     "metadata": {},
     "output_type": "execute_result"
    }
   ],
   "source": [
    "torch.mm(tensor2,tensor1)"
   ]
  },
  {
   "cell_type": "code",
   "execution_count": 131,
   "id": "5c5b226e",
   "metadata": {},
   "outputs": [
    {
     "data": {
      "text/plain": [
       "tensor([[1.6503],\n",
       "        [1.8472],\n",
       "        [1.1535],\n",
       "        [1.8192],\n",
       "        [2.5296],\n",
       "        [1.9845],\n",
       "        [1.2936]])"
      ]
     },
     "execution_count": 131,
     "metadata": {},
     "output_type": "execute_result"
    }
   ],
   "source": [
    "torch.mm(tensor1,tensor2.T)"
   ]
  },
  {
   "cell_type": "code",
   "execution_count": 132,
   "id": "65b84f99",
   "metadata": {},
   "outputs": [
    {
     "data": {
      "text/plain": [
       "(tensor([[0.4963, 0.7682, 0.0885, 0.1320, 0.3074, 0.6341, 0.4901],\n",
       "         [0.8964, 0.4556, 0.6323, 0.3489, 0.4017, 0.0223, 0.1689],\n",
       "         [0.2939, 0.5185, 0.6977, 0.8000, 0.1610, 0.2823, 0.6816],\n",
       "         [0.9152, 0.3971, 0.8742, 0.4194, 0.5529, 0.9527, 0.0362],\n",
       "         [0.1852, 0.3734, 0.3051, 0.9320, 0.1759, 0.2698, 0.1507],\n",
       "         [0.0317, 0.2081, 0.9298, 0.7231, 0.7423, 0.5263, 0.2437],\n",
       "         [0.5846, 0.0332, 0.1387, 0.2422, 0.8155, 0.7932, 0.2783]]),\n",
       " tensor([[0.4963, 0.7682, 0.0885, 0.1320, 0.3074, 0.6341, 0.4901]]))"
      ]
     },
     "execution_count": 132,
     "metadata": {},
     "output_type": "execute_result"
    }
   ],
   "source": [
    "#4.\n",
    "torch.manual_seed(0)\n",
    "tensor1 = torch.rand(size=(7,7))\n",
    "torch.manual_seed(0)\n",
    "tensor2 = torch.rand(size=(1,7))\n",
    "tensor1,tensor2"
   ]
  },
  {
   "cell_type": "code",
   "execution_count": 133,
   "id": "64a8d036",
   "metadata": {},
   "outputs": [
    {
     "data": {
      "text/plain": [
       "tensor([[1.4453, 1.0926, 1.4581, 1.3235, 1.4729, 1.2880, 0.7752]])"
      ]
     },
     "execution_count": 133,
     "metadata": {},
     "output_type": "execute_result"
    }
   ],
   "source": [
    "torch.mm(tensor2,tensor1)"
   ]
  },
  {
   "cell_type": "code",
   "execution_count": 134,
   "id": "27864b2f",
   "metadata": {},
   "outputs": [
    {
     "data": {
      "text/plain": [
       "tensor([[1.5985],\n",
       "        [1.1173],\n",
       "        [1.2741],\n",
       "        [1.6838],\n",
       "        [0.8279],\n",
       "        [1.0347],\n",
       "        [1.2498]])"
      ]
     },
     "execution_count": 134,
     "metadata": {},
     "output_type": "execute_result"
    }
   ],
   "source": [
    "torch.mm(tensor1,tensor2.T)"
   ]
  },
  {
   "cell_type": "code",
   "execution_count": 136,
   "id": "fdcd3603",
   "metadata": {},
   "outputs": [],
   "source": [
    "#5.\n",
    "#To set the random seed on the GPU, use set_rng_state\n",
    "#Note that this function is only available on PyTorch 2"
   ]
  },
  {
   "cell_type": "code",
   "execution_count": 138,
   "id": "1a164e07",
   "metadata": {},
   "outputs": [],
   "source": [
    "#6.\n",
    "torch.manual_seed(1234)\n",
    "tensor1 = torch.rand(size=(2,3))\n",
    "torch.manual_seed(1234)\n",
    "tensor2 = torch.rand(size=(2,3))\n",
    "tensor1_GPU = tensor1.to(device) \n",
    "tensor2_GPU = tensor2.to(device)"
   ]
  },
  {
   "cell_type": "code",
   "execution_count": 139,
   "id": "b562a79b",
   "metadata": {},
   "outputs": [
    {
     "data": {
      "text/plain": [
       "tensor([[0.2299, 0.2161],\n",
       "        [0.2161, 0.6287]])"
      ]
     },
     "execution_count": 139,
     "metadata": {},
     "output_type": "execute_result"
    }
   ],
   "source": [
    "#7.\n",
    "torch.mm(tensor1_GPU, tensor2_GPU.T)"
   ]
  },
  {
   "cell_type": "code",
   "execution_count": 142,
   "id": "74d3e4d8",
   "metadata": {},
   "outputs": [
    {
     "data": {
      "text/plain": [
       "tensor([[0.1353, 0.0330, 0.2644],\n",
       "        [0.0330, 0.1649, 0.1453],\n",
       "        [0.2644, 0.1453, 0.5584]])"
      ]
     },
     "execution_count": 142,
     "metadata": {},
     "output_type": "execute_result"
    }
   ],
   "source": [
    "output = torch.mm(tensor1_GPU.T, tensor2_GPU)\n",
    "output"
   ]
  },
  {
   "cell_type": "code",
   "execution_count": 145,
   "id": "b4825703",
   "metadata": {},
   "outputs": [
    {
     "data": {
      "text/plain": [
       "tensor(0.5584)"
      ]
     },
     "execution_count": 145,
     "metadata": {},
     "output_type": "execute_result"
    }
   ],
   "source": [
    "#8.\n",
    "torch.max(output)"
   ]
  },
  {
   "cell_type": "code",
   "execution_count": 146,
   "id": "732b3c9c",
   "metadata": {},
   "outputs": [
    {
     "data": {
      "text/plain": [
       "tensor(0.0330)"
      ]
     },
     "execution_count": 146,
     "metadata": {},
     "output_type": "execute_result"
    }
   ],
   "source": [
    "torch.min(output)"
   ]
  },
  {
   "cell_type": "code",
   "execution_count": 147,
   "id": "7e7b4c15",
   "metadata": {},
   "outputs": [
    {
     "data": {
      "text/plain": [
       "tensor(8)"
      ]
     },
     "execution_count": 147,
     "metadata": {},
     "output_type": "execute_result"
    }
   ],
   "source": [
    "#9.\n",
    "torch.argmax(output)"
   ]
  },
  {
   "cell_type": "code",
   "execution_count": 148,
   "id": "0b4aee4b",
   "metadata": {},
   "outputs": [
    {
     "data": {
      "text/plain": [
       "tensor(1)"
      ]
     },
     "execution_count": 148,
     "metadata": {},
     "output_type": "execute_result"
    }
   ],
   "source": [
    "torch.argmin(output)"
   ]
  },
  {
   "cell_type": "code",
   "execution_count": 153,
   "id": "4c3cac3a",
   "metadata": {},
   "outputs": [
    {
     "name": "stdout",
     "output_type": "stream",
     "text": [
      "Original tensor is tensor([[[[0.5349, 0.1988, 0.6592, 0.6569, 0.2328, 0.4251, 0.2071, 0.6297,\n",
      "           0.3653, 0.8513]]]]) with shape torch.Size([1, 1, 1, 10])\n",
      "\n",
      "\n",
      "Squeezed tensor is tensor([0.5349, 0.1988, 0.6592, 0.6569, 0.2328, 0.4251, 0.2071, 0.6297, 0.3653,\n",
      "        0.8513]) with shape torch.Size([10])\n"
     ]
    }
   ],
   "source": [
    "#10.\n",
    "torch.manual_seed(7)\n",
    "rand_tensor = torch.rand(size=(1,1,1,10))\n",
    "rand_tensor_squeezed = torch.squeeze(rand_tensor)\n",
    "print(f\"Original tensor is {rand_tensor} with shape {rand_tensor.shape}\")\n",
    "print(f\"\\n\")\n",
    "print(f\"Squeezed tensor is {rand_tensor_squeezed} with shape {rand_tensor_squeezed.shape}\")"
   ]
  },
  {
   "cell_type": "code",
   "execution_count": null,
   "id": "4ab36015",
   "metadata": {},
   "outputs": [],
   "source": []
  }
 ],
 "metadata": {
  "kernelspec": {
   "display_name": "Python 3 (ipykernel)",
   "language": "python",
   "name": "python3"
  },
  "language_info": {
   "codemirror_mode": {
    "name": "ipython",
    "version": 3
   },
   "file_extension": ".py",
   "mimetype": "text/x-python",
   "name": "python",
   "nbconvert_exporter": "python",
   "pygments_lexer": "ipython3",
   "version": "3.10.9"
  }
 },
 "nbformat": 4,
 "nbformat_minor": 5
}
