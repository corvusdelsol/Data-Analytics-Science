{
 "cells": [
  {
   "cell_type": "code",
   "execution_count": 2,
   "id": "92c8a0d2",
   "metadata": {},
   "outputs": [],
   "source": [
    "import pandas as pd\n",
    "import numpy as np\n",
    "import seaborn as sns\n",
    "import matplotlib.pyplot as plt\n",
    "%matplotlib inline"
   ]
  },
  {
   "cell_type": "code",
   "execution_count": 3,
   "id": "6d684af5",
   "metadata": {},
   "outputs": [],
   "source": [
    "#Exploratory Data Analysis\n",
    "###########################################################################################################################"
   ]
  },
  {
   "cell_type": "code",
   "execution_count": 4,
   "id": "a52b1e6e",
   "metadata": {},
   "outputs": [],
   "source": [
    "df = pd.read_csv('Loan_Default.csv')"
   ]
  },
  {
   "cell_type": "code",
   "execution_count": 5,
   "id": "d9f2aee3",
   "metadata": {},
   "outputs": [
    {
     "data": {
      "text/html": [
       "<div>\n",
       "<style scoped>\n",
       "    .dataframe tbody tr th:only-of-type {\n",
       "        vertical-align: middle;\n",
       "    }\n",
       "\n",
       "    .dataframe tbody tr th {\n",
       "        vertical-align: top;\n",
       "    }\n",
       "\n",
       "    .dataframe thead th {\n",
       "        text-align: right;\n",
       "    }\n",
       "</style>\n",
       "<table border=\"1\" class=\"dataframe\">\n",
       "  <thead>\n",
       "    <tr style=\"text-align: right;\">\n",
       "      <th></th>\n",
       "      <th>ID</th>\n",
       "      <th>year</th>\n",
       "      <th>loan_limit</th>\n",
       "      <th>Gender</th>\n",
       "      <th>approv_in_adv</th>\n",
       "      <th>loan_type</th>\n",
       "      <th>loan_purpose</th>\n",
       "      <th>Credit_Worthiness</th>\n",
       "      <th>open_credit</th>\n",
       "      <th>business_or_commercial</th>\n",
       "      <th>...</th>\n",
       "      <th>credit_type</th>\n",
       "      <th>Credit_Score</th>\n",
       "      <th>co-applicant_credit_type</th>\n",
       "      <th>age</th>\n",
       "      <th>submission_of_application</th>\n",
       "      <th>LTV</th>\n",
       "      <th>Region</th>\n",
       "      <th>Security_Type</th>\n",
       "      <th>Status</th>\n",
       "      <th>dtir1</th>\n",
       "    </tr>\n",
       "  </thead>\n",
       "  <tbody>\n",
       "    <tr>\n",
       "      <th>0</th>\n",
       "      <td>24890</td>\n",
       "      <td>2019</td>\n",
       "      <td>cf</td>\n",
       "      <td>Sex Not Available</td>\n",
       "      <td>nopre</td>\n",
       "      <td>type1</td>\n",
       "      <td>p1</td>\n",
       "      <td>l1</td>\n",
       "      <td>nopc</td>\n",
       "      <td>nob/c</td>\n",
       "      <td>...</td>\n",
       "      <td>EXP</td>\n",
       "      <td>758</td>\n",
       "      <td>CIB</td>\n",
       "      <td>25-34</td>\n",
       "      <td>to_inst</td>\n",
       "      <td>98.728814</td>\n",
       "      <td>south</td>\n",
       "      <td>direct</td>\n",
       "      <td>1</td>\n",
       "      <td>45.0</td>\n",
       "    </tr>\n",
       "    <tr>\n",
       "      <th>1</th>\n",
       "      <td>24891</td>\n",
       "      <td>2019</td>\n",
       "      <td>cf</td>\n",
       "      <td>Male</td>\n",
       "      <td>nopre</td>\n",
       "      <td>type2</td>\n",
       "      <td>p1</td>\n",
       "      <td>l1</td>\n",
       "      <td>nopc</td>\n",
       "      <td>b/c</td>\n",
       "      <td>...</td>\n",
       "      <td>EQUI</td>\n",
       "      <td>552</td>\n",
       "      <td>EXP</td>\n",
       "      <td>55-64</td>\n",
       "      <td>to_inst</td>\n",
       "      <td>NaN</td>\n",
       "      <td>North</td>\n",
       "      <td>direct</td>\n",
       "      <td>1</td>\n",
       "      <td>NaN</td>\n",
       "    </tr>\n",
       "    <tr>\n",
       "      <th>2</th>\n",
       "      <td>24892</td>\n",
       "      <td>2019</td>\n",
       "      <td>cf</td>\n",
       "      <td>Male</td>\n",
       "      <td>pre</td>\n",
       "      <td>type1</td>\n",
       "      <td>p1</td>\n",
       "      <td>l1</td>\n",
       "      <td>nopc</td>\n",
       "      <td>nob/c</td>\n",
       "      <td>...</td>\n",
       "      <td>EXP</td>\n",
       "      <td>834</td>\n",
       "      <td>CIB</td>\n",
       "      <td>35-44</td>\n",
       "      <td>to_inst</td>\n",
       "      <td>80.019685</td>\n",
       "      <td>south</td>\n",
       "      <td>direct</td>\n",
       "      <td>0</td>\n",
       "      <td>46.0</td>\n",
       "    </tr>\n",
       "    <tr>\n",
       "      <th>3</th>\n",
       "      <td>24893</td>\n",
       "      <td>2019</td>\n",
       "      <td>cf</td>\n",
       "      <td>Male</td>\n",
       "      <td>nopre</td>\n",
       "      <td>type1</td>\n",
       "      <td>p4</td>\n",
       "      <td>l1</td>\n",
       "      <td>nopc</td>\n",
       "      <td>nob/c</td>\n",
       "      <td>...</td>\n",
       "      <td>EXP</td>\n",
       "      <td>587</td>\n",
       "      <td>CIB</td>\n",
       "      <td>45-54</td>\n",
       "      <td>not_inst</td>\n",
       "      <td>69.376900</td>\n",
       "      <td>North</td>\n",
       "      <td>direct</td>\n",
       "      <td>0</td>\n",
       "      <td>42.0</td>\n",
       "    </tr>\n",
       "    <tr>\n",
       "      <th>4</th>\n",
       "      <td>24894</td>\n",
       "      <td>2019</td>\n",
       "      <td>cf</td>\n",
       "      <td>Joint</td>\n",
       "      <td>pre</td>\n",
       "      <td>type1</td>\n",
       "      <td>p1</td>\n",
       "      <td>l1</td>\n",
       "      <td>nopc</td>\n",
       "      <td>nob/c</td>\n",
       "      <td>...</td>\n",
       "      <td>CRIF</td>\n",
       "      <td>602</td>\n",
       "      <td>EXP</td>\n",
       "      <td>25-34</td>\n",
       "      <td>not_inst</td>\n",
       "      <td>91.886544</td>\n",
       "      <td>North</td>\n",
       "      <td>direct</td>\n",
       "      <td>0</td>\n",
       "      <td>39.0</td>\n",
       "    </tr>\n",
       "  </tbody>\n",
       "</table>\n",
       "<p>5 rows × 34 columns</p>\n",
       "</div>"
      ],
      "text/plain": [
       "      ID  year loan_limit             Gender approv_in_adv loan_type  \\\n",
       "0  24890  2019         cf  Sex Not Available         nopre     type1   \n",
       "1  24891  2019         cf               Male         nopre     type2   \n",
       "2  24892  2019         cf               Male           pre     type1   \n",
       "3  24893  2019         cf               Male         nopre     type1   \n",
       "4  24894  2019         cf              Joint           pre     type1   \n",
       "\n",
       "  loan_purpose Credit_Worthiness open_credit business_or_commercial  ...  \\\n",
       "0           p1                l1        nopc                  nob/c  ...   \n",
       "1           p1                l1        nopc                    b/c  ...   \n",
       "2           p1                l1        nopc                  nob/c  ...   \n",
       "3           p4                l1        nopc                  nob/c  ...   \n",
       "4           p1                l1        nopc                  nob/c  ...   \n",
       "\n",
       "   credit_type  Credit_Score  co-applicant_credit_type    age  \\\n",
       "0          EXP           758                       CIB  25-34   \n",
       "1         EQUI           552                       EXP  55-64   \n",
       "2          EXP           834                       CIB  35-44   \n",
       "3          EXP           587                       CIB  45-54   \n",
       "4         CRIF           602                       EXP  25-34   \n",
       "\n",
       "   submission_of_application        LTV Region Security_Type  Status dtir1  \n",
       "0                    to_inst  98.728814  south        direct       1  45.0  \n",
       "1                    to_inst        NaN  North        direct       1   NaN  \n",
       "2                    to_inst  80.019685  south        direct       0  46.0  \n",
       "3                   not_inst  69.376900  North        direct       0  42.0  \n",
       "4                   not_inst  91.886544  North        direct       0  39.0  \n",
       "\n",
       "[5 rows x 34 columns]"
      ]
     },
     "execution_count": 5,
     "metadata": {},
     "output_type": "execute_result"
    }
   ],
   "source": [
    "df.head()"
   ]
  },
  {
   "cell_type": "code",
   "execution_count": 6,
   "id": "b6bf256c",
   "metadata": {},
   "outputs": [],
   "source": [
    "df = df.drop('ID',axis=1)\n",
    "df = df.drop('Interest_rate_spread',axis=1)\n",
    "df = df.drop('LTV',axis=1)"
   ]
  },
  {
   "cell_type": "code",
   "execution_count": 7,
   "id": "76f8dffd",
   "metadata": {},
   "outputs": [
    {
     "name": "stdout",
     "output_type": "stream",
     "text": [
      "<class 'pandas.core.frame.DataFrame'>\n",
      "RangeIndex: 148670 entries, 0 to 148669\n",
      "Data columns (total 31 columns):\n",
      " #   Column                     Non-Null Count   Dtype  \n",
      "---  ------                     --------------   -----  \n",
      " 0   year                       148670 non-null  int64  \n",
      " 1   loan_limit                 145326 non-null  object \n",
      " 2   Gender                     148670 non-null  object \n",
      " 3   approv_in_adv              147762 non-null  object \n",
      " 4   loan_type                  148670 non-null  object \n",
      " 5   loan_purpose               148536 non-null  object \n",
      " 6   Credit_Worthiness          148670 non-null  object \n",
      " 7   open_credit                148670 non-null  object \n",
      " 8   business_or_commercial     148670 non-null  object \n",
      " 9   loan_amount                148670 non-null  int64  \n",
      " 10  rate_of_interest           112231 non-null  float64\n",
      " 11  Upfront_charges            109028 non-null  float64\n",
      " 12  term                       148629 non-null  float64\n",
      " 13  Neg_ammortization          148549 non-null  object \n",
      " 14  interest_only              148670 non-null  object \n",
      " 15  lump_sum_payment           148670 non-null  object \n",
      " 16  property_value             133572 non-null  float64\n",
      " 17  construction_type          148670 non-null  object \n",
      " 18  occupancy_type             148670 non-null  object \n",
      " 19  Secured_by                 148670 non-null  object \n",
      " 20  total_units                148670 non-null  object \n",
      " 21  income                     139520 non-null  float64\n",
      " 22  credit_type                148670 non-null  object \n",
      " 23  Credit_Score               148670 non-null  int64  \n",
      " 24  co-applicant_credit_type   148670 non-null  object \n",
      " 25  age                        148470 non-null  object \n",
      " 26  submission_of_application  148470 non-null  object \n",
      " 27  Region                     148670 non-null  object \n",
      " 28  Security_Type              148670 non-null  object \n",
      " 29  Status                     148670 non-null  int64  \n",
      " 30  dtir1                      124549 non-null  float64\n",
      "dtypes: float64(6), int64(4), object(21)\n",
      "memory usage: 35.2+ MB\n"
     ]
    }
   ],
   "source": [
    "df.info()"
   ]
  },
  {
   "cell_type": "code",
   "execution_count": 8,
   "id": "3bac667e",
   "metadata": {},
   "outputs": [
    {
     "data": {
      "text/plain": [
       "<Axes: xlabel='Status', ylabel='count'>"
      ]
     },
     "execution_count": 8,
     "metadata": {},
     "output_type": "execute_result"
    },
    {
     "data": {
      "image/png": "[encoded data removed]",
      "text/plain": [
       "<Figure size 640x480 with 1 Axes>"
      ]
     },
     "metadata": {},
     "output_type": "display_data"
    }
   ],
   "source": [
    "sns.countplot(x='Status',data=df)"
   ]
  },
  {
   "cell_type": "code",
   "execution_count": 9,
   "id": "d844bbfd",
   "metadata": {},
   "outputs": [
    {
     "data": {
      "text/plain": [
       "<Axes: xlabel='loan_amount', ylabel='Count'>"
      ]
     },
     "execution_count": 9,
     "metadata": {},
     "output_type": "execute_result"
    },
    {
     "data": {
      "image/png": "[encoded data removed]",
      "text/plain": [
       "<Figure size 1200x400 with 1 Axes>"
      ]
     },
     "metadata": {},
     "output_type": "display_data"
    }
   ],
   "source": [
    "plt.figure(figsize=(12,4))\n",
    "sns.histplot(df['loan_amount'],bins=100)"
   ]
  },
  {
   "cell_type": "code",
   "execution_count": 10,
   "id": "c8bb290a",
   "metadata": {},
   "outputs": [
    {
     "name": "stderr",
     "output_type": "stream",
     "text": [
      "C:\\Users\\rockc\\AppData\\Local\\Temp\\ipykernel_4816\\1134722465.py:1: FutureWarning: The default value of numeric_only in DataFrame.corr is deprecated. In a future version, it will default to False. Select only valid columns or specify the value of numeric_only to silence this warning.\n",
      "  df.corr()\n"
     ]
    },
    {
     "data": {
      "text/html": [
       "<div>\n",
       "<style scoped>\n",
       "    .dataframe tbody tr th:only-of-type {\n",
       "        vertical-align: middle;\n",
       "    }\n",
       "\n",
       "    .dataframe tbody tr th {\n",
       "        vertical-align: top;\n",
       "    }\n",
       "\n",
       "    .dataframe thead th {\n",
       "        text-align: right;\n",
       "    }\n",
       "</style>\n",
       "<table border=\"1\" class=\"dataframe\">\n",
       "  <thead>\n",
       "    <tr style=\"text-align: right;\">\n",
       "      <th></th>\n",
       "      <th>year</th>\n",
       "      <th>loan_amount</th>\n",
       "      <th>rate_of_interest</th>\n",
       "      <th>Upfront_charges</th>\n",
       "      <th>term</th>\n",
       "      <th>property_value</th>\n",
       "      <th>income</th>\n",
       "      <th>Credit_Score</th>\n",
       "      <th>Status</th>\n",
       "      <th>dtir1</th>\n",
       "    </tr>\n",
       "  </thead>\n",
       "  <tbody>\n",
       "    <tr>\n",
       "      <th>year</th>\n",
       "      <td>NaN</td>\n",
       "      <td>NaN</td>\n",
       "      <td>NaN</td>\n",
       "      <td>NaN</td>\n",
       "      <td>NaN</td>\n",
       "      <td>NaN</td>\n",
       "      <td>NaN</td>\n",
       "      <td>NaN</td>\n",
       "      <td>NaN</td>\n",
       "      <td>NaN</td>\n",
       "    </tr>\n",
       "    <tr>\n",
       "      <th>loan_amount</th>\n",
       "      <td>NaN</td>\n",
       "      <td>1.000000</td>\n",
       "      <td>-0.150844</td>\n",
       "      <td>0.065556</td>\n",
       "      <td>0.174474</td>\n",
       "      <td>0.734249</td>\n",
       "      <td>0.456065</td>\n",
       "      <td>0.004438</td>\n",
       "      <td>-0.036825</td>\n",
       "      <td>0.015029</td>\n",
       "    </tr>\n",
       "    <tr>\n",
       "      <th>rate_of_interest</th>\n",
       "      <td>NaN</td>\n",
       "      <td>-0.150844</td>\n",
       "      <td>1.000000</td>\n",
       "      <td>-0.076473</td>\n",
       "      <td>0.209330</td>\n",
       "      <td>-0.122613</td>\n",
       "      <td>-0.041809</td>\n",
       "      <td>-0.001331</td>\n",
       "      <td>0.022957</td>\n",
       "      <td>0.055124</td>\n",
       "    </tr>\n",
       "    <tr>\n",
       "      <th>Upfront_charges</th>\n",
       "      <td>NaN</td>\n",
       "      <td>0.065556</td>\n",
       "      <td>-0.076473</td>\n",
       "      <td>1.000000</td>\n",
       "      <td>-0.054960</td>\n",
       "      <td>0.053043</td>\n",
       "      <td>0.016580</td>\n",
       "      <td>-0.001484</td>\n",
       "      <td>-0.019138</td>\n",
       "      <td>0.000115</td>\n",
       "    </tr>\n",
       "    <tr>\n",
       "      <th>term</th>\n",
       "      <td>NaN</td>\n",
       "      <td>0.174474</td>\n",
       "      <td>0.209330</td>\n",
       "      <td>-0.054960</td>\n",
       "      <td>1.000000</td>\n",
       "      <td>0.045117</td>\n",
       "      <td>-0.053785</td>\n",
       "      <td>-0.003149</td>\n",
       "      <td>-0.000240</td>\n",
       "      <td>0.110572</td>\n",
       "    </tr>\n",
       "    <tr>\n",
       "      <th>property_value</th>\n",
       "      <td>NaN</td>\n",
       "      <td>0.734249</td>\n",
       "      <td>-0.122613</td>\n",
       "      <td>0.053043</td>\n",
       "      <td>0.045117</td>\n",
       "      <td>1.000000</td>\n",
       "      <td>0.414883</td>\n",
       "      <td>0.002430</td>\n",
       "      <td>-0.048864</td>\n",
       "      <td>-0.056288</td>\n",
       "    </tr>\n",
       "    <tr>\n",
       "      <th>income</th>\n",
       "      <td>NaN</td>\n",
       "      <td>0.456065</td>\n",
       "      <td>-0.041809</td>\n",
       "      <td>0.016580</td>\n",
       "      <td>-0.053785</td>\n",
       "      <td>0.414883</td>\n",
       "      <td>1.000000</td>\n",
       "      <td>0.000802</td>\n",
       "      <td>-0.065119</td>\n",
       "      <td>-0.267807</td>\n",
       "    </tr>\n",
       "    <tr>\n",
       "      <th>Credit_Score</th>\n",
       "      <td>NaN</td>\n",
       "      <td>0.004438</td>\n",
       "      <td>-0.001331</td>\n",
       "      <td>-0.001484</td>\n",
       "      <td>-0.003149</td>\n",
       "      <td>0.002430</td>\n",
       "      <td>0.000802</td>\n",
       "      <td>1.000000</td>\n",
       "      <td>0.004004</td>\n",
       "      <td>-0.000313</td>\n",
       "    </tr>\n",
       "    <tr>\n",
       "      <th>Status</th>\n",
       "      <td>NaN</td>\n",
       "      <td>-0.036825</td>\n",
       "      <td>0.022957</td>\n",
       "      <td>-0.019138</td>\n",
       "      <td>-0.000240</td>\n",
       "      <td>-0.048864</td>\n",
       "      <td>-0.065119</td>\n",
       "      <td>0.004004</td>\n",
       "      <td>1.000000</td>\n",
       "      <td>0.078083</td>\n",
       "    </tr>\n",
       "    <tr>\n",
       "      <th>dtir1</th>\n",
       "      <td>NaN</td>\n",
       "      <td>0.015029</td>\n",
       "      <td>0.055124</td>\n",
       "      <td>0.000115</td>\n",
       "      <td>0.110572</td>\n",
       "      <td>-0.056288</td>\n",
       "      <td>-0.267807</td>\n",
       "      <td>-0.000313</td>\n",
       "      <td>0.078083</td>\n",
       "      <td>1.000000</td>\n",
       "    </tr>\n",
       "  </tbody>\n",
       "</table>\n",
       "</div>"
      ],
      "text/plain": [
       "                  year  loan_amount  rate_of_interest  Upfront_charges  \\\n",
       "year               NaN          NaN               NaN              NaN   \n",
       "loan_amount        NaN     1.000000         -0.150844         0.065556   \n",
       "rate_of_interest   NaN    -0.150844          1.000000        -0.076473   \n",
       "Upfront_charges    NaN     0.065556         -0.076473         1.000000   \n",
       "term               NaN     0.174474          0.209330        -0.054960   \n",
       "property_value     NaN     0.734249         -0.122613         0.053043   \n",
       "income             NaN     0.456065         -0.041809         0.016580   \n",
       "Credit_Score       NaN     0.004438         -0.001331        -0.001484   \n",
       "Status             NaN    -0.036825          0.022957        -0.019138   \n",
       "dtir1              NaN     0.015029          0.055124         0.000115   \n",
       "\n",
       "                      term  property_value    income  Credit_Score    Status  \\\n",
       "year                   NaN             NaN       NaN           NaN       NaN   \n",
       "loan_amount       0.174474        0.734249  0.456065      0.004438 -0.036825   \n",
       "rate_of_interest  0.209330       -0.122613 -0.041809     -0.001331  0.022957   \n",
       "Upfront_charges  -0.054960        0.053043  0.016580     -0.001484 -0.019138   \n",
       "term              1.000000        0.045117 -0.053785     -0.003149 -0.000240   \n",
       "property_value    0.045117        1.000000  0.414883      0.002430 -0.048864   \n",
       "income           -0.053785        0.414883  1.000000      0.000802 -0.065119   \n",
       "Credit_Score     -0.003149        0.002430  0.000802      1.000000  0.004004   \n",
       "Status           -0.000240       -0.048864 -0.065119      0.004004  1.000000   \n",
       "dtir1             0.110572       -0.056288 -0.267807     -0.000313  0.078083   \n",
       "\n",
       "                     dtir1  \n",
       "year                   NaN  \n",
       "loan_amount       0.015029  \n",
       "rate_of_interest  0.055124  \n",
       "Upfront_charges   0.000115  \n",
       "term              0.110572  \n",
       "property_value   -0.056288  \n",
       "income           -0.267807  \n",
       "Credit_Score     -0.000313  \n",
       "Status            0.078083  \n",
       "dtir1             1.000000  "
      ]
     },
     "execution_count": 10,
     "metadata": {},
     "output_type": "execute_result"
    }
   ],
   "source": [
    "df.corr()"
   ]
  },
  {
   "cell_type": "code",
   "execution_count": 11,
   "id": "c1d03f5f",
   "metadata": {},
   "outputs": [
    {
     "name": "stderr",
     "output_type": "stream",
     "text": [
      "C:\\Users\\rockc\\AppData\\Local\\Temp\\ipykernel_4816\\3789240931.py:2: FutureWarning: The default value of numeric_only in DataFrame.corr is deprecated. In a future version, it will default to False. Select only valid columns or specify the value of numeric_only to silence this warning.\n",
      "  sns.heatmap(df.corr(),annot=True,cmap='viridis')\n"
     ]
    },
    {
     "data": {
      "text/plain": [
       "<Axes: >"
      ]
     },
     "execution_count": 11,
     "metadata": {},
     "output_type": "execute_result"
    },
    {
     "data": {
      "image/png": "[encoded data removed]",
      "text/plain": [
       "<Figure size 1200x700 with 2 Axes>"
      ]
     },
     "metadata": {},
     "output_type": "display_data"
    }
   ],
   "source": [
    "plt.figure(figsize=(12,7))\n",
    "sns.heatmap(df.corr(),annot=True,cmap='viridis')"
   ]
  },
  {
   "cell_type": "code",
   "execution_count": 12,
   "id": "1b5b3d6f",
   "metadata": {},
   "outputs": [
    {
     "data": {
      "text/plain": [
       "<Axes: xlabel='Status', ylabel='loan_amount'>"
      ]
     },
     "execution_count": 12,
     "metadata": {},
     "output_type": "execute_result"
    },
    {
     "data": {
      "image/png": "[encoded data removed]",
      "text/plain": [
       "<Figure size 640x480 with 1 Axes>"
      ]
     },
     "metadata": {},
     "output_type": "display_data"
    }
   ],
   "source": [
    "sns.boxplot(x='Status',y='loan_amount',data=df)"
   ]
  },
  {
   "cell_type": "code",
   "execution_count": 13,
   "id": "ea314cae",
   "metadata": {},
   "outputs": [
    {
     "data": {
      "text/html": [
       "<div>\n",
       "<style scoped>\n",
       "    .dataframe tbody tr th:only-of-type {\n",
       "        vertical-align: middle;\n",
       "    }\n",
       "\n",
       "    .dataframe tbody tr th {\n",
       "        vertical-align: top;\n",
       "    }\n",
       "\n",
       "    .dataframe thead th {\n",
       "        text-align: right;\n",
       "    }\n",
       "</style>\n",
       "<table border=\"1\" class=\"dataframe\">\n",
       "  <thead>\n",
       "    <tr style=\"text-align: right;\">\n",
       "      <th></th>\n",
       "      <th>count</th>\n",
       "      <th>mean</th>\n",
       "      <th>std</th>\n",
       "      <th>min</th>\n",
       "      <th>25%</th>\n",
       "      <th>50%</th>\n",
       "      <th>75%</th>\n",
       "      <th>max</th>\n",
       "    </tr>\n",
       "    <tr>\n",
       "      <th>Status</th>\n",
       "      <th></th>\n",
       "      <th></th>\n",
       "      <th></th>\n",
       "      <th></th>\n",
       "      <th></th>\n",
       "      <th></th>\n",
       "      <th></th>\n",
       "      <th></th>\n",
       "    </tr>\n",
       "  </thead>\n",
       "  <tbody>\n",
       "    <tr>\n",
       "      <th>0</th>\n",
       "      <td>112031.0</td>\n",
       "      <td>334990.774875</td>\n",
       "      <td>174916.570573</td>\n",
       "      <td>26500.0</td>\n",
       "      <td>206500.0</td>\n",
       "      <td>306500.0</td>\n",
       "      <td>446500.0</td>\n",
       "      <td>3006500.0</td>\n",
       "    </tr>\n",
       "    <tr>\n",
       "      <th>1</th>\n",
       "      <td>36639.0</td>\n",
       "      <td>319275.184912</td>\n",
       "      <td>208576.810054</td>\n",
       "      <td>16500.0</td>\n",
       "      <td>176500.0</td>\n",
       "      <td>276500.0</td>\n",
       "      <td>416500.0</td>\n",
       "      <td>3576500.0</td>\n",
       "    </tr>\n",
       "  </tbody>\n",
       "</table>\n",
       "</div>"
      ],
      "text/plain": [
       "           count           mean            std      min       25%       50%  \\\n",
       "Status                                                                        \n",
       "0       112031.0  334990.774875  174916.570573  26500.0  206500.0  306500.0   \n",
       "1        36639.0  319275.184912  208576.810054  16500.0  176500.0  276500.0   \n",
       "\n",
       "             75%        max  \n",
       "Status                       \n",
       "0       446500.0  3006500.0  \n",
       "1       416500.0  3576500.0  "
      ]
     },
     "execution_count": 13,
     "metadata": {},
     "output_type": "execute_result"
    }
   ],
   "source": [
    "df.groupby('Status')['loan_amount'].describe()"
   ]
  },
  {
   "cell_type": "code",
   "execution_count": 14,
   "id": "c6cccc52",
   "metadata": {},
   "outputs": [
    {
     "name": "stderr",
     "output_type": "stream",
     "text": [
      "C:\\Users\\rockc\\AppData\\Local\\Temp\\ipykernel_4816\\3933494091.py:1: FutureWarning: The default value of numeric_only in DataFrame.corr is deprecated. In a future version, it will default to False. Select only valid columns or specify the value of numeric_only to silence this warning.\n",
      "  df.corr()['Status'].sort_values().drop('Status').plot(kind='bar')\n"
     ]
    },
    {
     "data": {
      "text/plain": [
       "<Axes: >"
      ]
     },
     "execution_count": 14,
     "metadata": {},
     "output_type": "execute_result"
    },
    {
     "data": {
      "image/png": "[encoded data removed]",
      "text/plain": [
       "<Figure size 640x480 with 1 Axes>"
      ]
     },
     "metadata": {},
     "output_type": "display_data"
    }
   ],
   "source": [
    "df.corr()['Status'].sort_values().drop('Status').plot(kind='bar')"
   ]
  },
  {
   "cell_type": "code",
   "execution_count": 15,
   "id": "829b799f",
   "metadata": {},
   "outputs": [],
   "source": [
    "#Data Preprocessing\n",
    "###########################################################################################################################"
   ]
  },
  {
   "cell_type": "code",
   "execution_count": 16,
   "id": "a54fc394",
   "metadata": {},
   "outputs": [
    {
     "data": {
      "text/html": [
       "<div>\n",
       "<style scoped>\n",
       "    .dataframe tbody tr th:only-of-type {\n",
       "        vertical-align: middle;\n",
       "    }\n",
       "\n",
       "    .dataframe tbody tr th {\n",
       "        vertical-align: top;\n",
       "    }\n",
       "\n",
       "    .dataframe thead th {\n",
       "        text-align: right;\n",
       "    }\n",
       "</style>\n",
       "<table border=\"1\" class=\"dataframe\">\n",
       "  <thead>\n",
       "    <tr style=\"text-align: right;\">\n",
       "      <th></th>\n",
       "      <th>year</th>\n",
       "      <th>loan_limit</th>\n",
       "      <th>Gender</th>\n",
       "      <th>approv_in_adv</th>\n",
       "      <th>loan_type</th>\n",
       "      <th>loan_purpose</th>\n",
       "      <th>Credit_Worthiness</th>\n",
       "      <th>open_credit</th>\n",
       "      <th>business_or_commercial</th>\n",
       "      <th>loan_amount</th>\n",
       "      <th>...</th>\n",
       "      <th>income</th>\n",
       "      <th>credit_type</th>\n",
       "      <th>Credit_Score</th>\n",
       "      <th>co-applicant_credit_type</th>\n",
       "      <th>age</th>\n",
       "      <th>submission_of_application</th>\n",
       "      <th>Region</th>\n",
       "      <th>Security_Type</th>\n",
       "      <th>Status</th>\n",
       "      <th>dtir1</th>\n",
       "    </tr>\n",
       "  </thead>\n",
       "  <tbody>\n",
       "    <tr>\n",
       "      <th>0</th>\n",
       "      <td>2019</td>\n",
       "      <td>cf</td>\n",
       "      <td>Sex Not Available</td>\n",
       "      <td>nopre</td>\n",
       "      <td>type1</td>\n",
       "      <td>p1</td>\n",
       "      <td>l1</td>\n",
       "      <td>nopc</td>\n",
       "      <td>nob/c</td>\n",
       "      <td>116500</td>\n",
       "      <td>...</td>\n",
       "      <td>1740.0</td>\n",
       "      <td>EXP</td>\n",
       "      <td>758</td>\n",
       "      <td>CIB</td>\n",
       "      <td>25-34</td>\n",
       "      <td>to_inst</td>\n",
       "      <td>south</td>\n",
       "      <td>direct</td>\n",
       "      <td>1</td>\n",
       "      <td>45.0</td>\n",
       "    </tr>\n",
       "    <tr>\n",
       "      <th>1</th>\n",
       "      <td>2019</td>\n",
       "      <td>cf</td>\n",
       "      <td>Male</td>\n",
       "      <td>nopre</td>\n",
       "      <td>type2</td>\n",
       "      <td>p1</td>\n",
       "      <td>l1</td>\n",
       "      <td>nopc</td>\n",
       "      <td>b/c</td>\n",
       "      <td>206500</td>\n",
       "      <td>...</td>\n",
       "      <td>4980.0</td>\n",
       "      <td>EQUI</td>\n",
       "      <td>552</td>\n",
       "      <td>EXP</td>\n",
       "      <td>55-64</td>\n",
       "      <td>to_inst</td>\n",
       "      <td>North</td>\n",
       "      <td>direct</td>\n",
       "      <td>1</td>\n",
       "      <td>NaN</td>\n",
       "    </tr>\n",
       "    <tr>\n",
       "      <th>2</th>\n",
       "      <td>2019</td>\n",
       "      <td>cf</td>\n",
       "      <td>Male</td>\n",
       "      <td>pre</td>\n",
       "      <td>type1</td>\n",
       "      <td>p1</td>\n",
       "      <td>l1</td>\n",
       "      <td>nopc</td>\n",
       "      <td>nob/c</td>\n",
       "      <td>406500</td>\n",
       "      <td>...</td>\n",
       "      <td>9480.0</td>\n",
       "      <td>EXP</td>\n",
       "      <td>834</td>\n",
       "      <td>CIB</td>\n",
       "      <td>35-44</td>\n",
       "      <td>to_inst</td>\n",
       "      <td>south</td>\n",
       "      <td>direct</td>\n",
       "      <td>0</td>\n",
       "      <td>46.0</td>\n",
       "    </tr>\n",
       "    <tr>\n",
       "      <th>3</th>\n",
       "      <td>2019</td>\n",
       "      <td>cf</td>\n",
       "      <td>Male</td>\n",
       "      <td>nopre</td>\n",
       "      <td>type1</td>\n",
       "      <td>p4</td>\n",
       "      <td>l1</td>\n",
       "      <td>nopc</td>\n",
       "      <td>nob/c</td>\n",
       "      <td>456500</td>\n",
       "      <td>...</td>\n",
       "      <td>11880.0</td>\n",
       "      <td>EXP</td>\n",
       "      <td>587</td>\n",
       "      <td>CIB</td>\n",
       "      <td>45-54</td>\n",
       "      <td>not_inst</td>\n",
       "      <td>North</td>\n",
       "      <td>direct</td>\n",
       "      <td>0</td>\n",
       "      <td>42.0</td>\n",
       "    </tr>\n",
       "    <tr>\n",
       "      <th>4</th>\n",
       "      <td>2019</td>\n",
       "      <td>cf</td>\n",
       "      <td>Joint</td>\n",
       "      <td>pre</td>\n",
       "      <td>type1</td>\n",
       "      <td>p1</td>\n",
       "      <td>l1</td>\n",
       "      <td>nopc</td>\n",
       "      <td>nob/c</td>\n",
       "      <td>696500</td>\n",
       "      <td>...</td>\n",
       "      <td>10440.0</td>\n",
       "      <td>CRIF</td>\n",
       "      <td>602</td>\n",
       "      <td>EXP</td>\n",
       "      <td>25-34</td>\n",
       "      <td>not_inst</td>\n",
       "      <td>North</td>\n",
       "      <td>direct</td>\n",
       "      <td>0</td>\n",
       "      <td>39.0</td>\n",
       "    </tr>\n",
       "  </tbody>\n",
       "</table>\n",
       "<p>5 rows × 31 columns</p>\n",
       "</div>"
      ],
      "text/plain": [
       "   year loan_limit             Gender approv_in_adv loan_type loan_purpose  \\\n",
       "0  2019         cf  Sex Not Available         nopre     type1           p1   \n",
       "1  2019         cf               Male         nopre     type2           p1   \n",
       "2  2019         cf               Male           pre     type1           p1   \n",
       "3  2019         cf               Male         nopre     type1           p4   \n",
       "4  2019         cf              Joint           pre     type1           p1   \n",
       "\n",
       "  Credit_Worthiness open_credit business_or_commercial  loan_amount  ...  \\\n",
       "0                l1        nopc                  nob/c       116500  ...   \n",
       "1                l1        nopc                    b/c       206500  ...   \n",
       "2                l1        nopc                  nob/c       406500  ...   \n",
       "3                l1        nopc                  nob/c       456500  ...   \n",
       "4                l1        nopc                  nob/c       696500  ...   \n",
       "\n",
       "    income  credit_type  Credit_Score co-applicant_credit_type    age  \\\n",
       "0   1740.0          EXP           758                      CIB  25-34   \n",
       "1   4980.0         EQUI           552                      EXP  55-64   \n",
       "2   9480.0          EXP           834                      CIB  35-44   \n",
       "3  11880.0          EXP           587                      CIB  45-54   \n",
       "4  10440.0         CRIF           602                      EXP  25-34   \n",
       "\n",
       "  submission_of_application  Region Security_Type Status dtir1  \n",
       "0                   to_inst   south        direct      1  45.0  \n",
       "1                   to_inst   North        direct      1   NaN  \n",
       "2                   to_inst   south        direct      0  46.0  \n",
       "3                  not_inst   North        direct      0  42.0  \n",
       "4                  not_inst   North        direct      0  39.0  \n",
       "\n",
       "[5 rows x 31 columns]"
      ]
     },
     "execution_count": 16,
     "metadata": {},
     "output_type": "execute_result"
    }
   ],
   "source": [
    "df.head()"
   ]
  },
  {
   "cell_type": "code",
   "execution_count": null,
   "id": "367463c0",
   "metadata": {},
   "outputs": [],
   "source": []
  },
  {
   "cell_type": "code",
   "execution_count": 17,
   "id": "a86d3525",
   "metadata": {},
   "outputs": [
    {
     "data": {
      "text/plain": [
       "148670"
      ]
     },
     "execution_count": 17,
     "metadata": {},
     "output_type": "execute_result"
    }
   ],
   "source": [
    "len(df)"
   ]
  },
  {
   "cell_type": "code",
   "execution_count": 18,
   "id": "7e560c2e",
   "metadata": {},
   "outputs": [
    {
     "data": {
      "text/plain": [
       "year                             0\n",
       "loan_limit                    3344\n",
       "Gender                           0\n",
       "approv_in_adv                  908\n",
       "loan_type                        0\n",
       "loan_purpose                   134\n",
       "Credit_Worthiness                0\n",
       "open_credit                      0\n",
       "business_or_commercial           0\n",
       "loan_amount                      0\n",
       "rate_of_interest             36439\n",
       "Upfront_charges              39642\n",
       "term                            41\n",
       "Neg_ammortization              121\n",
       "interest_only                    0\n",
       "lump_sum_payment                 0\n",
       "property_value               15098\n",
       "construction_type                0\n",
       "occupancy_type                   0\n",
       "Secured_by                       0\n",
       "total_units                      0\n",
       "income                        9150\n",
       "credit_type                      0\n",
       "Credit_Score                     0\n",
       "co-applicant_credit_type         0\n",
       "age                            200\n",
       "submission_of_application      200\n",
       "Region                           0\n",
       "Security_Type                    0\n",
       "Status                           0\n",
       "dtir1                        24121\n",
       "dtype: int64"
      ]
     },
     "execution_count": 18,
     "metadata": {},
     "output_type": "execute_result"
    }
   ],
   "source": [
    "#Number of missing values per column\n",
    "df.isnull().sum()"
   ]
  },
  {
   "cell_type": "code",
   "execution_count": 19,
   "id": "ffd85bd4",
   "metadata": {},
   "outputs": [
    {
     "data": {
      "text/plain": [
       "Upfront_charges              0.266644\n",
       "rate_of_interest             0.245100\n",
       "dtir1                        0.162245\n",
       "property_value               0.101554\n",
       "income                       0.061546\n",
       "loan_limit                   0.022493\n",
       "approv_in_adv                0.006107\n",
       "submission_of_application    0.001345\n",
       "age                          0.001345\n",
       "loan_purpose                 0.000901\n",
       "Neg_ammortization            0.000814\n",
       "term                         0.000276\n",
       "Region                       0.000000\n",
       "total_units                  0.000000\n",
       "Security_Type                0.000000\n",
       "Credit_Score                 0.000000\n",
       "Status                       0.000000\n",
       "credit_type                  0.000000\n",
       "co-applicant_credit_type     0.000000\n",
       "year                         0.000000\n",
       "Secured_by                   0.000000\n",
       "occupancy_type               0.000000\n",
       "construction_type            0.000000\n",
       "interest_only                0.000000\n",
       "loan_amount                  0.000000\n",
       "business_or_commercial       0.000000\n",
       "open_credit                  0.000000\n",
       "Credit_Worthiness            0.000000\n",
       "loan_type                    0.000000\n",
       "Gender                       0.000000\n",
       "lump_sum_payment             0.000000\n",
       "dtype: float64"
      ]
     },
     "execution_count": 19,
     "metadata": {},
     "output_type": "execute_result"
    }
   ],
   "source": [
    "#Percentage of missing values per column\n",
    "(df.isnull().sum()/len(df)).sort_values(ascending=False)"
   ]
  },
  {
   "cell_type": "code",
   "execution_count": 20,
   "id": "70516721",
   "metadata": {},
   "outputs": [
    {
     "name": "stdout",
     "output_type": "stream",
     "text": [
      "<class 'pandas.core.frame.DataFrame'>\n",
      "RangeIndex: 148670 entries, 0 to 148669\n",
      "Data columns (total 31 columns):\n",
      " #   Column                     Non-Null Count   Dtype  \n",
      "---  ------                     --------------   -----  \n",
      " 0   year                       148670 non-null  int64  \n",
      " 1   loan_limit                 145326 non-null  object \n",
      " 2   Gender                     148670 non-null  object \n",
      " 3   approv_in_adv              147762 non-null  object \n",
      " 4   loan_type                  148670 non-null  object \n",
      " 5   loan_purpose               148536 non-null  object \n",
      " 6   Credit_Worthiness          148670 non-null  object \n",
      " 7   open_credit                148670 non-null  object \n",
      " 8   business_or_commercial     148670 non-null  object \n",
      " 9   loan_amount                148670 non-null  int64  \n",
      " 10  rate_of_interest           112231 non-null  float64\n",
      " 11  Upfront_charges            109028 non-null  float64\n",
      " 12  term                       148629 non-null  float64\n",
      " 13  Neg_ammortization          148549 non-null  object \n",
      " 14  interest_only              148670 non-null  object \n",
      " 15  lump_sum_payment           148670 non-null  object \n",
      " 16  property_value             133572 non-null  float64\n",
      " 17  construction_type          148670 non-null  object \n",
      " 18  occupancy_type             148670 non-null  object \n",
      " 19  Secured_by                 148670 non-null  object \n",
      " 20  total_units                148670 non-null  object \n",
      " 21  income                     139520 non-null  float64\n",
      " 22  credit_type                148670 non-null  object \n",
      " 23  Credit_Score               148670 non-null  int64  \n",
      " 24  co-applicant_credit_type   148670 non-null  object \n",
      " 25  age                        148470 non-null  object \n",
      " 26  submission_of_application  148470 non-null  object \n",
      " 27  Region                     148670 non-null  object \n",
      " 28  Security_Type              148670 non-null  object \n",
      " 29  Status                     148670 non-null  int64  \n",
      " 30  dtir1                      124549 non-null  float64\n",
      "dtypes: float64(6), int64(4), object(21)\n",
      "memory usage: 35.2+ MB\n"
     ]
    }
   ],
   "source": [
    "df.info()"
   ]
  },
  {
   "cell_type": "code",
   "execution_count": 21,
   "id": "d1b7721c",
   "metadata": {},
   "outputs": [],
   "source": [
    "#Dummy variable encoding\n",
    "###########################################################################################################################"
   ]
  },
  {
   "cell_type": "code",
   "execution_count": 22,
   "id": "d82f9cf3",
   "metadata": {},
   "outputs": [
    {
     "data": {
      "text/plain": [
       "Index(['loan_limit', 'Gender', 'approv_in_adv', 'loan_type', 'loan_purpose',\n",
       "       'Credit_Worthiness', 'open_credit', 'business_or_commercial',\n",
       "       'Neg_ammortization', 'interest_only', 'lump_sum_payment',\n",
       "       'construction_type', 'occupancy_type', 'Secured_by', 'total_units',\n",
       "       'credit_type', 'co-applicant_credit_type', 'age',\n",
       "       'submission_of_application', 'Region', 'Security_Type'],\n",
       "      dtype='object')"
      ]
     },
     "execution_count": 22,
     "metadata": {},
     "output_type": "execute_result"
    }
   ],
   "source": [
    "#To get a list of all categorical variables\n",
    "df.select_dtypes(['object']).columns"
   ]
  },
  {
   "cell_type": "code",
   "execution_count": 23,
   "id": "11609719",
   "metadata": {},
   "outputs": [],
   "source": [
    "#Note for replacing values in a column with different values\n",
    "#df[column_name] = df['column_name'].replace([list of items to replace],[list of replacements])"
   ]
  },
  {
   "cell_type": "code",
   "execution_count": 24,
   "id": "8c565960",
   "metadata": {},
   "outputs": [
    {
     "data": {
      "text/plain": [
       "cf     135348\n",
       "ncf      9978\n",
       "Name: loan_limit, dtype: int64"
      ]
     },
     "execution_count": 24,
     "metadata": {},
     "output_type": "execute_result"
    }
   ],
   "source": [
    "df['loan_limit'].value_counts()"
   ]
  },
  {
   "cell_type": "code",
   "execution_count": 25,
   "id": "a3eb4c98",
   "metadata": {},
   "outputs": [],
   "source": [
    "loan_limit = pd.get_dummies(df['loan_limit'],drop_first=True)\n",
    "df.drop('loan_limit',axis=1,inplace=True)\n",
    "df = pd.concat([df,loan_limit],axis=1)"
   ]
  },
  {
   "cell_type": "code",
   "execution_count": 26,
   "id": "d395ee30",
   "metadata": {},
   "outputs": [
    {
     "data": {
      "text/plain": [
       "Male                 42346\n",
       "Joint                41399\n",
       "Sex Not Available    37659\n",
       "Female               27266\n",
       "Name: Gender, dtype: int64"
      ]
     },
     "execution_count": 26,
     "metadata": {},
     "output_type": "execute_result"
    }
   ],
   "source": [
    "df['Gender'].value_counts()"
   ]
  },
  {
   "cell_type": "code",
   "execution_count": 27,
   "id": "c18f2ec2",
   "metadata": {},
   "outputs": [],
   "source": [
    "Gender = pd.get_dummies(df['Gender'],drop_first=True)\n",
    "df.drop('Gender',axis=1,inplace=True)\n",
    "df = pd.concat([df,Gender],axis=1)"
   ]
  },
  {
   "cell_type": "code",
   "execution_count": 28,
   "id": "90e592b1",
   "metadata": {},
   "outputs": [
    {
     "data": {
      "text/plain": [
       "nopre    124621\n",
       "pre       23141\n",
       "Name: approv_in_adv, dtype: int64"
      ]
     },
     "execution_count": 28,
     "metadata": {},
     "output_type": "execute_result"
    }
   ],
   "source": [
    "df['approv_in_adv'].value_counts()"
   ]
  },
  {
   "cell_type": "code",
   "execution_count": 29,
   "id": "5d1c15e4",
   "metadata": {},
   "outputs": [],
   "source": [
    "approv_in_adv = pd.get_dummies(df['approv_in_adv'],drop_first=True)\n",
    "df.drop('approv_in_adv',axis=1,inplace=True)\n",
    "df = pd.concat([df,approv_in_adv],axis=1)"
   ]
  },
  {
   "cell_type": "code",
   "execution_count": 30,
   "id": "dfb3afb9",
   "metadata": {},
   "outputs": [
    {
     "data": {
      "text/plain": [
       "type1    113173\n",
       "type2     20762\n",
       "type3     14735\n",
       "Name: loan_type, dtype: int64"
      ]
     },
     "execution_count": 30,
     "metadata": {},
     "output_type": "execute_result"
    }
   ],
   "source": [
    "df['loan_type'].value_counts()"
   ]
  },
  {
   "cell_type": "code",
   "execution_count": 31,
   "id": "616280a3",
   "metadata": {},
   "outputs": [],
   "source": [
    "loan_type = pd.get_dummies(df['loan_type'],drop_first=True)\n",
    "df.drop('loan_type',axis=1,inplace=True)\n",
    "df = pd.concat([df,loan_type],axis=1)"
   ]
  },
  {
   "cell_type": "code",
   "execution_count": 32,
   "id": "89ad6d06",
   "metadata": {},
   "outputs": [
    {
     "data": {
      "text/plain": [
       "p3    55934\n",
       "p4    54799\n",
       "p1    34529\n",
       "p2     3274\n",
       "Name: loan_purpose, dtype: int64"
      ]
     },
     "execution_count": 32,
     "metadata": {},
     "output_type": "execute_result"
    }
   ],
   "source": [
    "df['loan_purpose'].value_counts()"
   ]
  },
  {
   "cell_type": "code",
   "execution_count": 33,
   "id": "4b1c3fc5",
   "metadata": {},
   "outputs": [],
   "source": [
    "loan_purpose = pd.get_dummies(df['loan_purpose'],drop_first=True)\n",
    "df.drop('loan_purpose',axis=1,inplace=True)\n",
    "df = pd.concat([df,loan_purpose],axis=1)"
   ]
  },
  {
   "cell_type": "code",
   "execution_count": 34,
   "id": "e95ec52e",
   "metadata": {},
   "outputs": [
    {
     "data": {
      "text/plain": [
       "l1    142344\n",
       "l2      6326\n",
       "Name: Credit_Worthiness, dtype: int64"
      ]
     },
     "execution_count": 34,
     "metadata": {},
     "output_type": "execute_result"
    }
   ],
   "source": [
    "df['Credit_Worthiness'].value_counts()"
   ]
  },
  {
   "cell_type": "code",
   "execution_count": 35,
   "id": "10ce8b9d",
   "metadata": {},
   "outputs": [],
   "source": [
    "Credit_Worthiness = pd.get_dummies(df['Credit_Worthiness'],drop_first=True)\n",
    "df.drop('Credit_Worthiness',axis=1,inplace=True)\n",
    "df = pd.concat([df,Credit_Worthiness],axis=1)"
   ]
  },
  {
   "cell_type": "code",
   "execution_count": 36,
   "id": "4a81d9bd",
   "metadata": {},
   "outputs": [
    {
     "data": {
      "text/plain": [
       "nopc    148114\n",
       "opc        556\n",
       "Name: open_credit, dtype: int64"
      ]
     },
     "execution_count": 36,
     "metadata": {},
     "output_type": "execute_result"
    }
   ],
   "source": [
    "df['open_credit'].value_counts()"
   ]
  },
  {
   "cell_type": "code",
   "execution_count": 37,
   "id": "cecadca2",
   "metadata": {},
   "outputs": [],
   "source": [
    "open_credit = pd.get_dummies(df['open_credit'],drop_first=True)\n",
    "df.drop('open_credit',axis=1,inplace=True)\n",
    "df = pd.concat([df,open_credit],axis=1)"
   ]
  },
  {
   "cell_type": "code",
   "execution_count": 38,
   "id": "df388246",
   "metadata": {},
   "outputs": [
    {
     "data": {
      "text/plain": [
       "nob/c    127908\n",
       "b/c       20762\n",
       "Name: business_or_commercial, dtype: int64"
      ]
     },
     "execution_count": 38,
     "metadata": {},
     "output_type": "execute_result"
    }
   ],
   "source": [
    "df['business_or_commercial'].value_counts()"
   ]
  },
  {
   "cell_type": "code",
   "execution_count": 39,
   "id": "1a4bdf2d",
   "metadata": {},
   "outputs": [],
   "source": [
    "business_or_commercial = pd.get_dummies(df['business_or_commercial'],drop_first=True)\n",
    "df.drop('business_or_commercial',axis=1,inplace=True)\n",
    "df = pd.concat([df,business_or_commercial],axis=1)"
   ]
  },
  {
   "cell_type": "code",
   "execution_count": 40,
   "id": "3516e4f0",
   "metadata": {},
   "outputs": [
    {
     "data": {
      "text/plain": [
       "not_neg    133420\n",
       "neg_amm     15129\n",
       "Name: Neg_ammortization, dtype: int64"
      ]
     },
     "execution_count": 40,
     "metadata": {},
     "output_type": "execute_result"
    }
   ],
   "source": [
    "df['Neg_ammortization'].value_counts()"
   ]
  },
  {
   "cell_type": "code",
   "execution_count": 41,
   "id": "35c69e08",
   "metadata": {},
   "outputs": [],
   "source": [
    "Neg_ammortization = pd.get_dummies(df['Neg_ammortization'],drop_first=True)\n",
    "df.drop('Neg_ammortization',axis=1,inplace=True)\n",
    "df = pd.concat([df,Neg_ammortization],axis=1)"
   ]
  },
  {
   "cell_type": "code",
   "execution_count": 42,
   "id": "5c4ad877",
   "metadata": {},
   "outputs": [
    {
     "data": {
      "text/plain": [
       "not_int     141560\n",
       "int_only      7110\n",
       "Name: interest_only, dtype: int64"
      ]
     },
     "execution_count": 42,
     "metadata": {},
     "output_type": "execute_result"
    }
   ],
   "source": [
    "df['interest_only'].value_counts()"
   ]
  },
  {
   "cell_type": "code",
   "execution_count": 43,
   "id": "7acb4108",
   "metadata": {},
   "outputs": [],
   "source": [
    "interest_only = pd.get_dummies(df['interest_only'],drop_first=True)\n",
    "df.drop('interest_only',axis=1,inplace=True)\n",
    "df = pd.concat([df,interest_only],axis=1)"
   ]
  },
  {
   "cell_type": "code",
   "execution_count": 44,
   "id": "72928bd8",
   "metadata": {},
   "outputs": [
    {
     "data": {
      "text/plain": [
       "not_lpsm    145286\n",
       "lpsm          3384\n",
       "Name: lump_sum_payment, dtype: int64"
      ]
     },
     "execution_count": 44,
     "metadata": {},
     "output_type": "execute_result"
    }
   ],
   "source": [
    "df['lump_sum_payment'].value_counts()"
   ]
  },
  {
   "cell_type": "code",
   "execution_count": 45,
   "id": "c0540e6e",
   "metadata": {},
   "outputs": [],
   "source": [
    "lump_sum_payment = pd.get_dummies(df['lump_sum_payment'],drop_first=True)\n",
    "df.drop('lump_sum_payment',axis=1,inplace=True)\n",
    "df = pd.concat([df,lump_sum_payment],axis=1)"
   ]
  },
  {
   "cell_type": "code",
   "execution_count": 46,
   "id": "c4d16787",
   "metadata": {},
   "outputs": [
    {
     "data": {
      "text/plain": [
       "sb    148637\n",
       "mh        33\n",
       "Name: construction_type, dtype: int64"
      ]
     },
     "execution_count": 46,
     "metadata": {},
     "output_type": "execute_result"
    }
   ],
   "source": [
    "df['construction_type'].value_counts()"
   ]
  },
  {
   "cell_type": "code",
   "execution_count": 47,
   "id": "2785f633",
   "metadata": {},
   "outputs": [],
   "source": [
    "construction_type = pd.get_dummies(df['construction_type'],drop_first=True)\n",
    "df.drop('construction_type',axis=1,inplace=True)\n",
    "df = pd.concat([df,construction_type],axis=1)"
   ]
  },
  {
   "cell_type": "code",
   "execution_count": 48,
   "id": "50090cb9",
   "metadata": {},
   "outputs": [
    {
     "data": {
      "text/plain": [
       "pr    138201\n",
       "ir      7340\n",
       "sr      3129\n",
       "Name: occupancy_type, dtype: int64"
      ]
     },
     "execution_count": 48,
     "metadata": {},
     "output_type": "execute_result"
    }
   ],
   "source": [
    "df['occupancy_type'].value_counts()"
   ]
  },
  {
   "cell_type": "code",
   "execution_count": 49,
   "id": "c4f46c44",
   "metadata": {},
   "outputs": [],
   "source": [
    "occupancy_type = pd.get_dummies(df['occupancy_type'],drop_first=True)\n",
    "df.drop('occupancy_type',axis=1,inplace=True)\n",
    "df = pd.concat([df,occupancy_type],axis=1)"
   ]
  },
  {
   "cell_type": "code",
   "execution_count": 50,
   "id": "11fc0869",
   "metadata": {},
   "outputs": [
    {
     "data": {
      "text/plain": [
       "home    148637\n",
       "land        33\n",
       "Name: Secured_by, dtype: int64"
      ]
     },
     "execution_count": 50,
     "metadata": {},
     "output_type": "execute_result"
    }
   ],
   "source": [
    "df['Secured_by'].value_counts()"
   ]
  },
  {
   "cell_type": "code",
   "execution_count": 51,
   "id": "5261a0b8",
   "metadata": {},
   "outputs": [],
   "source": [
    "Secured_by = pd.get_dummies(df['Secured_by'],drop_first=True)\n",
    "df.drop('Secured_by',axis=1,inplace=True)\n",
    "df = pd.concat([df,Secured_by],axis=1)"
   ]
  },
  {
   "cell_type": "code",
   "execution_count": 52,
   "id": "01b972d9",
   "metadata": {},
   "outputs": [
    {
     "data": {
      "text/plain": [
       "1U    146480\n",
       "2U      1477\n",
       "3U       393\n",
       "4U       320\n",
       "Name: total_units, dtype: int64"
      ]
     },
     "execution_count": 52,
     "metadata": {},
     "output_type": "execute_result"
    }
   ],
   "source": [
    "df['total_units'].value_counts()"
   ]
  },
  {
   "cell_type": "code",
   "execution_count": 53,
   "id": "54e31642",
   "metadata": {},
   "outputs": [],
   "source": [
    "total_units = pd.get_dummies(df['total_units'],drop_first=True)\n",
    "df.drop('total_units',axis=1,inplace=True)\n",
    "df = pd.concat([df,total_units],axis=1)"
   ]
  },
  {
   "cell_type": "code",
   "execution_count": 54,
   "id": "30d9b334",
   "metadata": {},
   "outputs": [
    {
     "data": {
      "text/plain": [
       "CIB     48152\n",
       "CRIF    43901\n",
       "EXP     41319\n",
       "EQUI    15298\n",
       "Name: credit_type, dtype: int64"
      ]
     },
     "execution_count": 54,
     "metadata": {},
     "output_type": "execute_result"
    }
   ],
   "source": [
    "df['credit_type'].value_counts()"
   ]
  },
  {
   "cell_type": "code",
   "execution_count": 55,
   "id": "ce8e4f0e",
   "metadata": {},
   "outputs": [],
   "source": [
    "credit_type = pd.get_dummies(df['credit_type'],drop_first=True)\n",
    "df.drop('credit_type',axis=1,inplace=True)\n",
    "df = pd.concat([df,credit_type],axis=1)"
   ]
  },
  {
   "cell_type": "code",
   "execution_count": 56,
   "id": "7c49c2c9",
   "metadata": {},
   "outputs": [
    {
     "data": {
      "text/plain": [
       "CIB    74392\n",
       "EXP    74278\n",
       "Name: co-applicant_credit_type, dtype: int64"
      ]
     },
     "execution_count": 56,
     "metadata": {},
     "output_type": "execute_result"
    }
   ],
   "source": [
    "df['co-applicant_credit_type'].value_counts()"
   ]
  },
  {
   "cell_type": "code",
   "execution_count": 57,
   "id": "4287dace",
   "metadata": {},
   "outputs": [],
   "source": [
    "co_applicant_credit_type = pd.get_dummies(df['co-applicant_credit_type'],drop_first=True)\n",
    "df.drop('co-applicant_credit_type',axis=1,inplace=True)\n",
    "df = pd.concat([df,co_applicant_credit_type],axis=1)"
   ]
  },
  {
   "cell_type": "code",
   "execution_count": 58,
   "id": "b33df362",
   "metadata": {},
   "outputs": [
    {
     "data": {
      "text/plain": [
       "45-54    34720\n",
       "35-44    32818\n",
       "55-64    32534\n",
       "65-74    20744\n",
       "25-34    19142\n",
       ">74       7175\n",
       "<25       1337\n",
       "Name: age, dtype: int64"
      ]
     },
     "execution_count": 58,
     "metadata": {},
     "output_type": "execute_result"
    }
   ],
   "source": [
    "df['age'].value_counts()"
   ]
  },
  {
   "cell_type": "code",
   "execution_count": 59,
   "id": "bd05c294",
   "metadata": {},
   "outputs": [],
   "source": [
    "age = pd.get_dummies(df['age'],drop_first=True)\n",
    "df.drop('age',axis=1,inplace=True)\n",
    "df = pd.concat([df,age],axis=1)"
   ]
  },
  {
   "cell_type": "code",
   "execution_count": 60,
   "id": "3b06d988",
   "metadata": {},
   "outputs": [
    {
     "data": {
      "text/plain": [
       "to_inst     95814\n",
       "not_inst    52656\n",
       "Name: submission_of_application, dtype: int64"
      ]
     },
     "execution_count": 60,
     "metadata": {},
     "output_type": "execute_result"
    }
   ],
   "source": [
    "df['submission_of_application'].value_counts()"
   ]
  },
  {
   "cell_type": "code",
   "execution_count": 61,
   "id": "72deed32",
   "metadata": {},
   "outputs": [],
   "source": [
    "submission_of_application = pd.get_dummies(df['submission_of_application'],drop_first=True)\n",
    "df.drop('submission_of_application',axis=1,inplace=True)\n",
    "df = pd.concat([df,submission_of_application],axis=1)"
   ]
  },
  {
   "cell_type": "code",
   "execution_count": 62,
   "id": "61f6aa37",
   "metadata": {},
   "outputs": [
    {
     "data": {
      "text/plain": [
       "North         74722\n",
       "south         64016\n",
       "central        8697\n",
       "North-East     1235\n",
       "Name: Region, dtype: int64"
      ]
     },
     "execution_count": 62,
     "metadata": {},
     "output_type": "execute_result"
    }
   ],
   "source": [
    "df['Region'].value_counts()"
   ]
  },
  {
   "cell_type": "code",
   "execution_count": 63,
   "id": "414aea41",
   "metadata": {},
   "outputs": [],
   "source": [
    "Region = pd.get_dummies(df['Region'],drop_first=True)\n",
    "df.drop('Region',axis=1,inplace=True)\n",
    "df = pd.concat([df,Region],axis=1)"
   ]
  },
  {
   "cell_type": "code",
   "execution_count": 64,
   "id": "6fa5ccf3",
   "metadata": {},
   "outputs": [
    {
     "data": {
      "text/plain": [
       "direct      148637\n",
       "Indriect        33\n",
       "Name: Security_Type, dtype: int64"
      ]
     },
     "execution_count": 64,
     "metadata": {},
     "output_type": "execute_result"
    }
   ],
   "source": [
    "df['Security_Type'].value_counts()"
   ]
  },
  {
   "cell_type": "code",
   "execution_count": 65,
   "id": "d2ad4798",
   "metadata": {},
   "outputs": [],
   "source": [
    "Security_Type = pd.get_dummies(df['Security_Type'],drop_first=True)\n",
    "df.drop('Security_Type',axis=1,inplace=True)\n",
    "df = pd.concat([df,Security_Type],axis=1)"
   ]
  },
  {
   "cell_type": "code",
   "execution_count": 66,
   "id": "9a654b9c",
   "metadata": {},
   "outputs": [],
   "source": [
    "#Imputation scheme\n",
    "###########################################################################################################################"
   ]
  },
  {
   "cell_type": "code",
   "execution_count": 67,
   "id": "047c0a56",
   "metadata": {},
   "outputs": [
    {
     "data": {
      "text/plain": [
       "Upfront_charges      0.266644\n",
       "rate_of_interest     0.245100\n",
       "dtir1                0.162245\n",
       "property_value       0.101554\n",
       "income               0.061546\n",
       "term                 0.000276\n",
       "year                 0.000000\n",
       "35-44                0.000000\n",
       "land                 0.000000\n",
       "2U                   0.000000\n",
       "3U                   0.000000\n",
       "4U                   0.000000\n",
       "CRIF                 0.000000\n",
       "EQUI                 0.000000\n",
       "EXP                  0.000000\n",
       "EXP                  0.000000\n",
       "<25                  0.000000\n",
       "45-54                0.000000\n",
       "55-64                0.000000\n",
       "65-74                0.000000\n",
       "pr                   0.000000\n",
       ">74                  0.000000\n",
       "to_inst              0.000000\n",
       "North-East           0.000000\n",
       "central              0.000000\n",
       "south                0.000000\n",
       "sr                   0.000000\n",
       "not_int              0.000000\n",
       "sb                   0.000000\n",
       "not_lpsm             0.000000\n",
       "Credit_Score         0.000000\n",
       "Status               0.000000\n",
       "ncf                  0.000000\n",
       "Joint                0.000000\n",
       "Male                 0.000000\n",
       "Sex Not Available    0.000000\n",
       "pre                  0.000000\n",
       "type2                0.000000\n",
       "type3                0.000000\n",
       "p2                   0.000000\n",
       "p3                   0.000000\n",
       "p4                   0.000000\n",
       "l2                   0.000000\n",
       "opc                  0.000000\n",
       "nob/c                0.000000\n",
       "not_neg              0.000000\n",
       "loan_amount          0.000000\n",
       "direct               0.000000\n",
       "dtype: float64"
      ]
     },
     "execution_count": 67,
     "metadata": {},
     "output_type": "execute_result"
    }
   ],
   "source": [
    "#Percentage of missing values per column\n",
    "(df.isnull().sum()/len(df)).sort_values(ascending=False)"
   ]
  },
  {
   "cell_type": "code",
   "execution_count": 68,
   "id": "b6b03c64",
   "metadata": {},
   "outputs": [
    {
     "data": {
      "text/plain": [
       "p4                  -0.152549\n",
       "type2               -0.151732\n",
       "rate_of_interest    -0.076473\n",
       "Joint               -0.073651\n",
       "term                -0.054960\n",
       "type3               -0.051998\n",
       "35-44               -0.045714\n",
       "<25                 -0.034124\n",
       "Male                -0.030004\n",
       "pr                  -0.029623\n",
       "EQUI                -0.019277\n",
       "Status              -0.019138\n",
       "sr                  -0.016121\n",
       "EXP                 -0.014737\n",
       "p2                  -0.013753\n",
       "l2                  -0.006602\n",
       "Credit_Score        -0.001484\n",
       "dtir1                0.000115\n",
       "not_int              0.000746\n",
       "EXP                  0.004481\n",
       "CRIF                 0.008355\n",
       "not_lpsm             0.009544\n",
       "central              0.011529\n",
       "North-East           0.011712\n",
       "income               0.016580\n",
       "pre                  0.018524\n",
       "45-54                0.021965\n",
       "not_neg              0.024381\n",
       "2U                   0.026137\n",
       "4U                   0.028977\n",
       ">74                  0.030563\n",
       "3U                   0.034589\n",
       "65-74                0.041352\n",
       "ncf                  0.043156\n",
       "property_value       0.053043\n",
       "south                0.056819\n",
       "55-64                0.062360\n",
       "loan_amount          0.065556\n",
       "Sex Not Available    0.132512\n",
       "nob/c                0.151732\n",
       "p3                   0.242562\n",
       "to_inst              0.336171\n",
       "Upfront_charges      1.000000\n",
       "year                      NaN\n",
       "opc                       NaN\n",
       "sb                        NaN\n",
       "land                      NaN\n",
       "direct                    NaN\n",
       "Name: Upfront_charges, dtype: float64"
      ]
     },
     "execution_count": 68,
     "metadata": {},
     "output_type": "execute_result"
    }
   ],
   "source": [
    "df.corr()['Upfront_charges'].sort_values()"
   ]
  },
  {
   "cell_type": "code",
   "execution_count": 69,
   "id": "1d15bc2d",
   "metadata": {},
   "outputs": [
    {
     "data": {
      "text/plain": [
       "to_inst\n",
       "0    1868.852935\n",
       "1    4105.797773\n",
       "Name: Upfront_charges, dtype: float64"
      ]
     },
     "execution_count": 69,
     "metadata": {},
     "output_type": "execute_result"
    }
   ],
   "source": [
    "to_inst_avg = df.groupby('to_inst').mean()['Upfront_charges']\n",
    "to_inst_avg"
   ]
  },
  {
   "cell_type": "code",
   "execution_count": null,
   "id": "9366a0dd",
   "metadata": {},
   "outputs": [],
   "source": []
  },
  {
   "cell_type": "code",
   "execution_count": 70,
   "id": "74def4e5",
   "metadata": {},
   "outputs": [],
   "source": [
    "def fill_Upfront_charges(to_inst,Upfront_charges):\n",
    "    if np.isnan(Upfront_charges):\n",
    "        return to_inst_avg[to_inst]\n",
    "    else:\n",
    "        return Upfront_charges"
   ]
  },
  {
   "cell_type": "code",
   "execution_count": 71,
   "id": "969282e8",
   "metadata": {},
   "outputs": [],
   "source": [
    "df['Upfront_charges'] = df.apply(lambda x: fill_Upfront_charges(x['to_inst'],x['Upfront_charges']),axis=1)"
   ]
  },
  {
   "cell_type": "code",
   "execution_count": 72,
   "id": "4710c85c",
   "metadata": {},
   "outputs": [
    {
     "data": {
      "text/plain": [
       "p4                  -0.326900\n",
       "type3               -0.260487\n",
       "pr                  -0.221300\n",
       "not_neg             -0.178116\n",
       "loan_amount         -0.150844\n",
       "property_value      -0.122613\n",
       "Upfront_charges     -0.069821\n",
       "type2               -0.051474\n",
       "Joint               -0.050507\n",
       "EXP                 -0.043587\n",
       "income              -0.041809\n",
       "EXP                 -0.028945\n",
       "35-44               -0.026336\n",
       "south               -0.015511\n",
       "Male                -0.008022\n",
       "Credit_Score        -0.001331\n",
       "45-54                0.000788\n",
       "North-East           0.002609\n",
       ">74                  0.004093\n",
       "65-74                0.007697\n",
       "central              0.008597\n",
       "not_int              0.009160\n",
       "Sex Not Available    0.011762\n",
       "CRIF                 0.013033\n",
       "not_lpsm             0.015249\n",
       "<25                  0.020256\n",
       "Status               0.022957\n",
       "EQUI                 0.023255\n",
       "sr                   0.023694\n",
       "55-64                0.026661\n",
       "ncf                  0.029347\n",
       "3U                   0.037996\n",
       "2U                   0.051120\n",
       "nob/c                0.051474\n",
       "4U                   0.053606\n",
       "dtir1                0.055124\n",
       "pre                  0.057598\n",
       "p2                   0.126111\n",
       "to_inst              0.139285\n",
       "l2                   0.153968\n",
       "p3                   0.177834\n",
       "opc                  0.191423\n",
       "term                 0.209330\n",
       "rate_of_interest     1.000000\n",
       "year                      NaN\n",
       "sb                        NaN\n",
       "land                      NaN\n",
       "direct                    NaN\n",
       "Name: rate_of_interest, dtype: float64"
      ]
     },
     "execution_count": 72,
     "metadata": {},
     "output_type": "execute_result"
    }
   ],
   "source": [
    "df.corr()['rate_of_interest'].sort_values()"
   ]
  },
  {
   "cell_type": "code",
   "execution_count": 73,
   "id": "e671405e",
   "metadata": {},
   "outputs": [
    {
     "data": {
      "text/plain": [
       "p4\n",
       "0    4.188048\n",
       "1    3.809253\n",
       "Name: rate_of_interest, dtype: float64"
      ]
     },
     "execution_count": 73,
     "metadata": {},
     "output_type": "execute_result"
    }
   ],
   "source": [
    "p4_avg = df.groupby('p4').mean()['rate_of_interest']\n",
    "p4_avg"
   ]
  },
  {
   "cell_type": "code",
   "execution_count": 74,
   "id": "19e64dac",
   "metadata": {},
   "outputs": [],
   "source": [
    "def fill_rate_of_interest(p4,rate_of_interest):\n",
    "    if np.isnan(rate_of_interest):\n",
    "        return p4_avg[p4]\n",
    "    else:\n",
    "        return rate_of_interest"
   ]
  },
  {
   "cell_type": "code",
   "execution_count": 75,
   "id": "bb351c6d",
   "metadata": {},
   "outputs": [],
   "source": [
    "df['rate_of_interest'] = df.apply(lambda x: fill_rate_of_interest(x['p4'],x['rate_of_interest']),axis=1)"
   ]
  },
  {
   "cell_type": "code",
   "execution_count": 76,
   "id": "4c40c999",
   "metadata": {},
   "outputs": [
    {
     "data": {
      "text/plain": [
       "dtir1               -0.267807\n",
       "pr                  -0.193648\n",
       "to_inst             -0.181495\n",
       "type2               -0.141532\n",
       "p3                  -0.119739\n",
       "65-74               -0.095869\n",
       ">74                 -0.076309\n",
       "type3               -0.073016\n",
       "Status              -0.065119\n",
       "term                -0.053785\n",
       "Sex Not Available   -0.046379\n",
       "rate_of_interest    -0.036406\n",
       "<25                 -0.029575\n",
       "EQUI                -0.024686\n",
       "central             -0.016984\n",
       "North-East          -0.016907\n",
       "Male                -0.014825\n",
       "not_int             -0.013757\n",
       "pre                 -0.013628\n",
       "EXP                 -0.005928\n",
       "55-64               -0.004815\n",
       "land                -0.004775\n",
       "p2                  -0.002689\n",
       "CRIF                -0.000028\n",
       "Upfront_charges      0.000078\n",
       "Credit_Score         0.000802\n",
       "not_neg              0.003657\n",
       "direct               0.004775\n",
       "sb                   0.004775\n",
       "south                0.006306\n",
       "not_lpsm             0.009251\n",
       "l2                   0.016298\n",
       "2U                   0.023120\n",
       "3U                   0.033175\n",
       "4U                   0.040786\n",
       "opc                  0.047405\n",
       "35-44                0.061071\n",
       "45-54                0.086795\n",
       "p4                   0.089576\n",
       "sr                   0.133305\n",
       "nob/c                0.141532\n",
       "ncf                  0.146282\n",
       "EXP                  0.148298\n",
       "Joint                0.155385\n",
       "property_value       0.414883\n",
       "loan_amount          0.456065\n",
       "income               1.000000\n",
       "year                      NaN\n",
       "Name: income, dtype: float64"
      ]
     },
     "execution_count": 76,
     "metadata": {},
     "output_type": "execute_result"
    }
   ],
   "source": [
    "df.corr()['income'].sort_values()"
   ]
  },
  {
   "cell_type": "code",
   "execution_count": 77,
   "id": "c0912c04",
   "metadata": {},
   "outputs": [
    {
     "data": {
      "text/plain": [
       "loan_amount\n",
       "16500        2260.000000\n",
       "26500        1980.000000\n",
       "36500        1946.896552\n",
       "46500        2162.341463\n",
       "56500        3038.426966\n",
       "               ...      \n",
       "2926500     64020.000000\n",
       "2986500     61500.000000\n",
       "3006500     68475.000000\n",
       "3346500     33840.000000\n",
       "3576500    119340.000000\n",
       "Name: income, Length: 211, dtype: float64"
      ]
     },
     "execution_count": 77,
     "metadata": {},
     "output_type": "execute_result"
    }
   ],
   "source": [
    "loan_amount_avg = df.groupby('loan_amount').mean()['income']\n",
    "loan_amount_avg"
   ]
  },
  {
   "cell_type": "code",
   "execution_count": 78,
   "id": "cd90969b",
   "metadata": {},
   "outputs": [],
   "source": [
    "def fill_income(loan_amount,income):\n",
    "    if np.isnan(income):\n",
    "        return loan_amount_avg[loan_amount]\n",
    "    else:\n",
    "        return income"
   ]
  },
  {
   "cell_type": "code",
   "execution_count": 79,
   "id": "0ca955b3",
   "metadata": {},
   "outputs": [],
   "source": [
    "df['income'] = df.apply(lambda x: fill_income(x['loan_amount'],x['income']),axis=1)"
   ]
  },
  {
   "cell_type": "code",
   "execution_count": 80,
   "id": "f3f6f819",
   "metadata": {},
   "outputs": [
    {
     "data": {
      "text/plain": [
       "income              -0.267627\n",
       "nob/c               -0.175462\n",
       "p4                  -0.098259\n",
       "property_value      -0.056288\n",
       "EXP                 -0.047449\n",
       "Joint               -0.046791\n",
       "45-54               -0.033332\n",
       "p2                  -0.026441\n",
       "55-64               -0.024483\n",
       "sr                  -0.023049\n",
       "35-44               -0.020156\n",
       "not_neg             -0.019590\n",
       "opc                 -0.010943\n",
       "not_lpsm            -0.007283\n",
       "EQUI                -0.002179\n",
       "land                -0.001913\n",
       "4U                  -0.001248\n",
       "Sex Not Available   -0.000500\n",
       "Credit_Score        -0.000313\n",
       "ncf                  0.000866\n",
       "Upfront_charges      0.001771\n",
       "direct               0.001913\n",
       "sb                   0.001913\n",
       "EXP                  0.004393\n",
       "CRIF                 0.006178\n",
       "Male                 0.006487\n",
       "not_int              0.006508\n",
       "south                0.007058\n",
       "3U                   0.008162\n",
       "to_inst              0.009886\n",
       "<25                  0.012580\n",
       "North-East           0.014045\n",
       "pre                  0.014122\n",
       "l2                   0.014789\n",
       "loan_amount          0.015029\n",
       "2U                   0.018833\n",
       "pr                   0.018934\n",
       "central              0.034877\n",
       ">74                  0.035982\n",
       "rate_of_interest     0.048121\n",
       "p3                   0.049761\n",
       "65-74                0.049937\n",
       "Status               0.078083\n",
       "type3                0.086913\n",
       "term                 0.110572\n",
       "type2                0.175462\n",
       "dtir1                1.000000\n",
       "year                      NaN\n",
       "Name: dtir1, dtype: float64"
      ]
     },
     "execution_count": 80,
     "metadata": {},
     "output_type": "execute_result"
    }
   ],
   "source": [
    "df.corr()['dtir1'].sort_values()"
   ]
  },
  {
   "cell_type": "code",
   "execution_count": 81,
   "id": "c5dfdb8c",
   "metadata": {},
   "outputs": [
    {
     "data": {
      "text/plain": [
       "income\n",
       "0.0         12.531609\n",
       "60.0        23.600000\n",
       "120.0       22.222222\n",
       "180.0       29.000000\n",
       "240.0       26.933333\n",
       "              ...    \n",
       "329460.0    19.000000\n",
       "335880.0    13.000000\n",
       "374400.0    11.000000\n",
       "377220.0     5.000000\n",
       "578580.0     7.000000\n",
       "Name: dtir1, Length: 1121, dtype: float64"
      ]
     },
     "execution_count": 81,
     "metadata": {},
     "output_type": "execute_result"
    }
   ],
   "source": [
    "income_avg = df.groupby('income').mean()['dtir1']\n",
    "income_avg"
   ]
  },
  {
   "cell_type": "code",
   "execution_count": 82,
   "id": "08960bee",
   "metadata": {},
   "outputs": [],
   "source": [
    "def fill_dtir1(income,dtir1):\n",
    "    if np.isnan(dtir1):\n",
    "        return income_avg[income]\n",
    "    else:\n",
    "        return dtir1"
   ]
  },
  {
   "cell_type": "code",
   "execution_count": 83,
   "id": "42a972ee",
   "metadata": {},
   "outputs": [],
   "source": [
    "df['dtir1'] = df.apply(lambda x: fill_dtir1(x['income'],x['dtir1']),axis=1)"
   ]
  },
  {
   "cell_type": "code",
   "execution_count": 84,
   "id": "cc008d57",
   "metadata": {},
   "outputs": [
    {
     "data": {
      "text/plain": [
       "to_inst             -0.303910\n",
       "type2               -0.215923\n",
       "rate_of_interest    -0.113366\n",
       "Sex Not Available   -0.084092\n",
       "type3               -0.080033\n",
       "not_int             -0.055344\n",
       "pre                 -0.052674\n",
       "<25                 -0.051557\n",
       "Status              -0.048864\n",
       "dtir1               -0.045692\n",
       "p3                  -0.035214\n",
       "central             -0.031472\n",
       "Male                -0.029112\n",
       "65-74               -0.028112\n",
       "EQUI                -0.026816\n",
       "EXP                 -0.025250\n",
       "sr                  -0.025083\n",
       "North-East          -0.013479\n",
       "pr                  -0.010215\n",
       "land                -0.009802\n",
       ">74                 -0.000586\n",
       "p2                   0.000544\n",
       "Credit_Score         0.002430\n",
       "55-64                0.003496\n",
       "CRIF                 0.004072\n",
       "not_lpsm             0.004965\n",
       "direct               0.009802\n",
       "sb                   0.009802\n",
       "35-44                0.020742\n",
       "not_neg              0.026551\n",
       "l2                   0.028046\n",
       "Upfront_charges      0.028738\n",
       "south                0.032018\n",
       "term                 0.045117\n",
       "45-54                0.054237\n",
       "3U                   0.056267\n",
       "4U                   0.060652\n",
       "2U                   0.067244\n",
       "EXP                  0.136562\n",
       "opc                  0.136767\n",
       "p4                   0.143050\n",
       "Joint                0.157271\n",
       "ncf                  0.202569\n",
       "nob/c                0.215923\n",
       "income               0.421398\n",
       "loan_amount          0.734249\n",
       "property_value       1.000000\n",
       "year                      NaN\n",
       "Name: property_value, dtype: float64"
      ]
     },
     "execution_count": 84,
     "metadata": {},
     "output_type": "execute_result"
    }
   ],
   "source": [
    "df.corr()['property_value'].sort_values()"
   ]
  },
  {
   "cell_type": "code",
   "execution_count": 85,
   "id": "b92b286f",
   "metadata": {},
   "outputs": [
    {
     "data": {
      "text/plain": [
       "loan_amount\n",
       "16500      5.300000e+04\n",
       "26500      8.147826e+04\n",
       "36500      1.010612e+05\n",
       "46500      1.008723e+05\n",
       "56500      2.068937e+05\n",
       "               ...     \n",
       "2926500    4.878000e+06\n",
       "2986500    5.508000e+06\n",
       "3006500    4.841333e+06\n",
       "3346500             NaN\n",
       "3576500    5.208000e+06\n",
       "Name: property_value, Length: 211, dtype: float64"
      ]
     },
     "execution_count": 85,
     "metadata": {},
     "output_type": "execute_result"
    }
   ],
   "source": [
    "loan_amount_avg = df.groupby('loan_amount').mean()['property_value']\n",
    "loan_amount_avg"
   ]
  },
  {
   "cell_type": "code",
   "execution_count": 86,
   "id": "9798a575",
   "metadata": {},
   "outputs": [],
   "source": [
    "def fill_property_value(loan_amount,property_value):\n",
    "    if np.isnan(property_value):\n",
    "        return loan_amount_avg[loan_amount]\n",
    "    else:\n",
    "        return property_value"
   ]
  },
  {
   "cell_type": "code",
   "execution_count": 87,
   "id": "667c9671",
   "metadata": {},
   "outputs": [],
   "source": [
    "df['property_value'] = df.apply(lambda x: fill_property_value(x['loan_amount'],x['property_value']),axis=1)"
   ]
  },
  {
   "cell_type": "code",
   "execution_count": 88,
   "id": "f94ce7a0",
   "metadata": {},
   "outputs": [],
   "source": [
    "df = df.dropna(axis=0)"
   ]
  },
  {
   "cell_type": "code",
   "execution_count": 89,
   "id": "4f0d0cb2",
   "metadata": {},
   "outputs": [
    {
     "data": {
      "text/plain": [
       "year                 0\n",
       "loan_amount          0\n",
       "rate_of_interest     0\n",
       "Upfront_charges      0\n",
       "term                 0\n",
       "property_value       0\n",
       "income               0\n",
       "Credit_Score         0\n",
       "Status               0\n",
       "dtir1                0\n",
       "ncf                  0\n",
       "Joint                0\n",
       "Male                 0\n",
       "Sex Not Available    0\n",
       "pre                  0\n",
       "type2                0\n",
       "type3                0\n",
       "p2                   0\n",
       "p3                   0\n",
       "p4                   0\n",
       "l2                   0\n",
       "opc                  0\n",
       "nob/c                0\n",
       "not_neg              0\n",
       "not_int              0\n",
       "not_lpsm             0\n",
       "sb                   0\n",
       "pr                   0\n",
       "sr                   0\n",
       "land                 0\n",
       "2U                   0\n",
       "3U                   0\n",
       "4U                   0\n",
       "CRIF                 0\n",
       "EQUI                 0\n",
       "EXP                  0\n",
       "EXP                  0\n",
       "35-44                0\n",
       "45-54                0\n",
       "55-64                0\n",
       "65-74                0\n",
       "<25                  0\n",
       ">74                  0\n",
       "to_inst              0\n",
       "North-East           0\n",
       "central              0\n",
       "south                0\n",
       "direct               0\n",
       "dtype: int64"
      ]
     },
     "execution_count": 89,
     "metadata": {},
     "output_type": "execute_result"
    }
   ],
   "source": [
    "#Number of missing values per column\n",
    "df.isnull().sum()"
   ]
  },
  {
   "cell_type": "code",
   "execution_count": 90,
   "id": "3212ee98",
   "metadata": {},
   "outputs": [],
   "source": [
    "#Save preprocessed df file as df_clean.csv\n",
    "df.to_csv('df_clean')"
   ]
  },
  {
   "cell_type": "code",
   "execution_count": 91,
   "id": "02c6ca83",
   "metadata": {},
   "outputs": [],
   "source": [
    "#Train_test_split & scaling\n",
    "############################################################################################################################"
   ]
  },
  {
   "cell_type": "code",
   "execution_count": 92,
   "id": "253db907",
   "metadata": {},
   "outputs": [],
   "source": [
    "from sklearn.model_selection import train_test_split"
   ]
  },
  {
   "cell_type": "code",
   "execution_count": 93,
   "id": "6539cc92",
   "metadata": {},
   "outputs": [
    {
     "name": "stdout",
     "output_type": "stream",
     "text": [
      "<class 'pandas.core.frame.DataFrame'>\n",
      "Int64Index: 146964 entries, 0 to 148669\n",
      "Data columns (total 48 columns):\n",
      " #   Column             Non-Null Count   Dtype  \n",
      "---  ------             --------------   -----  \n",
      " 0   year               146964 non-null  int64  \n",
      " 1   loan_amount        146964 non-null  int64  \n",
      " 2   rate_of_interest   146964 non-null  float64\n",
      " 3   Upfront_charges    146964 non-null  float64\n",
      " 4   term               146964 non-null  float64\n",
      " 5   property_value     146964 non-null  float64\n",
      " 6   income             146964 non-null  float64\n",
      " 7   Credit_Score       146964 non-null  int64  \n",
      " 8   Status             146964 non-null  int64  \n",
      " 9   dtir1              146964 non-null  float64\n",
      " 10  ncf                146964 non-null  uint8  \n",
      " 11  Joint              146964 non-null  uint8  \n",
      " 12  Male               146964 non-null  uint8  \n",
      " 13  Sex Not Available  146964 non-null  uint8  \n",
      " 14  pre                146964 non-null  uint8  \n",
      " 15  type2              146964 non-null  uint8  \n",
      " 16  type3              146964 non-null  uint8  \n",
      " 17  p2                 146964 non-null  uint8  \n",
      " 18  p3                 146964 non-null  uint8  \n",
      " 19  p4                 146964 non-null  uint8  \n",
      " 20  l2                 146964 non-null  uint8  \n",
      " 21  opc                146964 non-null  uint8  \n",
      " 22  nob/c              146964 non-null  uint8  \n",
      " 23  not_neg            146964 non-null  uint8  \n",
      " 24  not_int            146964 non-null  uint8  \n",
      " 25  not_lpsm           146964 non-null  uint8  \n",
      " 26  sb                 146964 non-null  uint8  \n",
      " 27  pr                 146964 non-null  uint8  \n",
      " 28  sr                 146964 non-null  uint8  \n",
      " 29  land               146964 non-null  uint8  \n",
      " 30  2U                 146964 non-null  uint8  \n",
      " 31  3U                 146964 non-null  uint8  \n",
      " 32  4U                 146964 non-null  uint8  \n",
      " 33  CRIF               146964 non-null  uint8  \n",
      " 34  EQUI               146964 non-null  uint8  \n",
      " 35  EXP                146964 non-null  uint8  \n",
      " 36  EXP                146964 non-null  uint8  \n",
      " 37  35-44              146964 non-null  uint8  \n",
      " 38  45-54              146964 non-null  uint8  \n",
      " 39  55-64              146964 non-null  uint8  \n",
      " 40  65-74              146964 non-null  uint8  \n",
      " 41  <25                146964 non-null  uint8  \n",
      " 42  >74                146964 non-null  uint8  \n",
      " 43  to_inst            146964 non-null  uint8  \n",
      " 44  North-East         146964 non-null  uint8  \n",
      " 45  central            146964 non-null  uint8  \n",
      " 46  south              146964 non-null  uint8  \n",
      " 47  direct             146964 non-null  uint8  \n",
      "dtypes: float64(6), int64(4), uint8(38)\n",
      "memory usage: 17.7 MB\n"
     ]
    }
   ],
   "source": [
    "df.info()"
   ]
  },
  {
   "cell_type": "code",
   "execution_count": 94,
   "id": "aea8a44e",
   "metadata": {},
   "outputs": [],
   "source": [
    "X = df.drop('Status',axis=1).values\n",
    "y = df['Status'].values"
   ]
  },
  {
   "cell_type": "code",
   "execution_count": 95,
   "id": "2b1e5763",
   "metadata": {},
   "outputs": [],
   "source": [
    "#If you want to take a sample of the full dataset\n",
    "#df_samp = df.sample(frac=0.1)"
   ]
  },
  {
   "cell_type": "code",
   "execution_count": 96,
   "id": "3abd0c5a",
   "metadata": {},
   "outputs": [],
   "source": [
    "X_train, X_test, y_train, y_test = train_test_split(X, y, test_size=0.2)"
   ]
  },
  {
   "cell_type": "code",
   "execution_count": 97,
   "id": "2ed5b7db",
   "metadata": {},
   "outputs": [],
   "source": [
    "from sklearn.preprocessing import MinMaxScaler"
   ]
  },
  {
   "cell_type": "code",
   "execution_count": 98,
   "id": "8a025c49",
   "metadata": {},
   "outputs": [],
   "source": [
    "scaler = MinMaxScaler()"
   ]
  },
  {
   "cell_type": "code",
   "execution_count": 99,
   "id": "8663d77a",
   "metadata": {},
   "outputs": [],
   "source": [
    "X_train = scaler.fit_transform(X_train)\n",
    "X_test = scaler.transform(X_test)"
   ]
  },
  {
   "cell_type": "code",
   "execution_count": 100,
   "id": "7c4eb7f8",
   "metadata": {},
   "outputs": [],
   "source": [
    "#Creating the Model\n",
    "############################################################################################################################"
   ]
  },
  {
   "cell_type": "code",
   "execution_count": 101,
   "id": "d7aa4f4f",
   "metadata": {},
   "outputs": [],
   "source": [
    "import tensorflow as tf\n",
    "from tensorflow.keras.models import Sequential\n",
    "from tensorflow.keras.layers import Dense,Dropout\n",
    "from tensorflow.keras.callbacks import EarlyStopping"
   ]
  },
  {
   "cell_type": "code",
   "execution_count": 102,
   "id": "94ca074e",
   "metadata": {},
   "outputs": [
    {
     "data": {
      "text/plain": [
       "(117571, 47)"
      ]
     },
     "execution_count": 102,
     "metadata": {},
     "output_type": "execute_result"
    }
   ],
   "source": [
    "X_train.shape"
   ]
  },
  {
   "cell_type": "code",
   "execution_count": 103,
   "id": "4e16fd9b",
   "metadata": {},
   "outputs": [],
   "source": [
    "model = Sequential()\n",
    "\n",
    "model.add(Dense(47,activation='relu'))\n",
    "model.add(Dropout(0.2))\n",
    "\n",
    "model.add(Dense(23,activation='relu'))\n",
    "model.add(Dropout(0.2))\n",
    "\n",
    "model.add(Dense(12,activation='relu'))\n",
    "model.add(Dropout(0.2))\n",
    "\n",
    "model.add(Dense(1,activation='sigmoid'))\n",
    "#Sigmoid for binary predictions\n",
    "\n",
    "model.compile(loss='binary_crossentropy',optimizer='adam')"
   ]
  },
  {
   "cell_type": "code",
   "execution_count": 104,
   "id": "93d8a881",
   "metadata": {},
   "outputs": [],
   "source": [
    "early_stop = EarlyStopping(monitor='val_loss',mode='min',verbose=1,patience=25)"
   ]
  },
  {
   "cell_type": "code",
   "execution_count": 105,
   "id": "4601fcd2",
   "metadata": {},
   "outputs": [
    {
     "name": "stdout",
     "output_type": "stream",
     "text": [
      "Epoch 1/600\n",
      "460/460 [==============================] - 3s 4ms/step - loss: 0.4392 - val_loss: 0.3628\n",
      "Epoch 2/600\n",
      "460/460 [==============================] - 2s 4ms/step - loss: 0.3742 - val_loss: 0.3567\n",
      "Epoch 3/600\n",
      "460/460 [==============================] - 2s 4ms/step - loss: 0.3642 - val_loss: 0.3524\n",
      "Epoch 4/600\n",
      "460/460 [==============================] - 2s 4ms/step - loss: 0.3585 - val_loss: 0.3484\n",
      "Epoch 5/600\n",
      "460/460 [==============================] - 2s 4ms/step - loss: 0.3531 - val_loss: 0.3466\n",
      "Epoch 6/600\n",
      "460/460 [==============================] - 2s 4ms/step - loss: 0.3474 - val_loss: 0.3389\n",
      "Epoch 7/600\n",
      "460/460 [==============================] - 2s 4ms/step - loss: 0.3419 - val_loss: 0.3306\n",
      "Epoch 8/600\n",
      "460/460 [==============================] - 2s 4ms/step - loss: 0.3338 - val_loss: 0.3179\n",
      "Epoch 9/600\n",
      "460/460 [==============================] - 2s 4ms/step - loss: 0.3043 - val_loss: 0.2493\n",
      "Epoch 10/600\n",
      "460/460 [==============================] - 2s 4ms/step - loss: 0.2344 - val_loss: 0.1763\n",
      "Epoch 11/600\n",
      "460/460 [==============================] - 2s 4ms/step - loss: 0.1747 - val_loss: 0.1236\n",
      "Epoch 12/600\n",
      "460/460 [==============================] - 2s 4ms/step - loss: 0.1431 - val_loss: 0.1046\n",
      "Epoch 13/600\n",
      "460/460 [==============================] - 2s 4ms/step - loss: 0.1219 - val_loss: 0.0894\n",
      "Epoch 14/600\n",
      "460/460 [==============================] - 2s 4ms/step - loss: 0.1123 - val_loss: 0.0843\n",
      "Epoch 15/600\n",
      "460/460 [==============================] - 2s 4ms/step - loss: 0.1089 - val_loss: 0.0580\n",
      "Epoch 16/600\n",
      "460/460 [==============================] - 2s 4ms/step - loss: 0.1000 - val_loss: 0.0615\n",
      "Epoch 17/600\n",
      "460/460 [==============================] - 2s 4ms/step - loss: 0.0894 - val_loss: 0.0605\n",
      "Epoch 18/600\n",
      "460/460 [==============================] - 2s 4ms/step - loss: 0.0907 - val_loss: 0.0485\n",
      "Epoch 19/600\n",
      "460/460 [==============================] - 2s 4ms/step - loss: 0.0936 - val_loss: 0.0912\n",
      "Epoch 20/600\n",
      "460/460 [==============================] - 2s 4ms/step - loss: 0.0854 - val_loss: 0.0442\n",
      "Epoch 21/600\n",
      "460/460 [==============================] - 2s 4ms/step - loss: 0.0858 - val_loss: 0.0683\n",
      "Epoch 22/600\n",
      "460/460 [==============================] - 2s 4ms/step - loss: 0.0876 - val_loss: 0.0595\n",
      "Epoch 23/600\n",
      "460/460 [==============================] - 2s 4ms/step - loss: 0.0802 - val_loss: 0.0581\n",
      "Epoch 24/600\n",
      "460/460 [==============================] - 2s 4ms/step - loss: 0.0844 - val_loss: 0.0629\n",
      "Epoch 25/600\n",
      "460/460 [==============================] - 2s 4ms/step - loss: 0.0798 - val_loss: 0.0524\n",
      "Epoch 26/600\n",
      "460/460 [==============================] - 2s 4ms/step - loss: 0.0800 - val_loss: 0.0528\n",
      "Epoch 27/600\n",
      "460/460 [==============================] - 2s 4ms/step - loss: 0.0810 - val_loss: 0.0536\n",
      "Epoch 28/600\n",
      "460/460 [==============================] - 2s 4ms/step - loss: 0.0811 - val_loss: 0.0739\n",
      "Epoch 29/600\n",
      "460/460 [==============================] - 2s 4ms/step - loss: 0.0825 - val_loss: 0.0688\n",
      "Epoch 30/600\n",
      "460/460 [==============================] - 2s 4ms/step - loss: 0.0813 - val_loss: 0.0666\n",
      "Epoch 31/600\n",
      "460/460 [==============================] - 2s 4ms/step - loss: 0.0842 - val_loss: 0.0750\n",
      "Epoch 32/600\n",
      "460/460 [==============================] - 2s 4ms/step - loss: 0.0818 - val_loss: 0.0706\n",
      "Epoch 33/600\n",
      "460/460 [==============================] - 2s 4ms/step - loss: 0.0810 - val_loss: 0.0663\n",
      "Epoch 34/600\n",
      "460/460 [==============================] - 2s 4ms/step - loss: 0.0848 - val_loss: 0.0574\n",
      "Epoch 35/600\n",
      "460/460 [==============================] - 2s 4ms/step - loss: 0.0767 - val_loss: 0.0648\n",
      "Epoch 36/600\n",
      "460/460 [==============================] - 2s 4ms/step - loss: 0.0753 - val_loss: 0.0391\n",
      "Epoch 37/600\n",
      "460/460 [==============================] - 2s 4ms/step - loss: 0.0765 - val_loss: 0.0550\n",
      "Epoch 38/600\n",
      "460/460 [==============================] - 2s 4ms/step - loss: 0.0738 - val_loss: 0.0533\n",
      "Epoch 39/600\n",
      "460/460 [==============================] - 2s 4ms/step - loss: 0.0692 - val_loss: 0.0642\n",
      "Epoch 40/600\n",
      "460/460 [==============================] - 2s 4ms/step - loss: 0.0702 - val_loss: 0.0479\n",
      "Epoch 41/600\n",
      "460/460 [==============================] - 2s 4ms/step - loss: 0.0701 - val_loss: 0.0397\n",
      "Epoch 42/600\n",
      "460/460 [==============================] - 2s 5ms/step - loss: 0.0714 - val_loss: 0.0538\n",
      "Epoch 43/600\n",
      "460/460 [==============================] - 2s 4ms/step - loss: 0.0786 - val_loss: 0.0510\n",
      "Epoch 44/600\n",
      "460/460 [==============================] - 2s 4ms/step - loss: 0.0740 - val_loss: 0.0641\n",
      "Epoch 45/600\n",
      "460/460 [==============================] - 2s 4ms/step - loss: 0.0680 - val_loss: 0.0406\n",
      "Epoch 46/600\n",
      "460/460 [==============================] - 2s 4ms/step - loss: 0.0698 - val_loss: 0.0400\n",
      "Epoch 47/600\n",
      "460/460 [==============================] - 2s 4ms/step - loss: 0.0640 - val_loss: 0.0334\n",
      "Epoch 48/600\n",
      "460/460 [==============================] - 2s 4ms/step - loss: 0.0680 - val_loss: 0.0527\n",
      "Epoch 49/600\n",
      "460/460 [==============================] - 2s 4ms/step - loss: 0.0710 - val_loss: 0.0456\n",
      "Epoch 50/600\n",
      "460/460 [==============================] - 2s 4ms/step - loss: 0.0635 - val_loss: 0.0376\n",
      "Epoch 51/600\n",
      "460/460 [==============================] - 2s 4ms/step - loss: 0.0641 - val_loss: 0.0335\n",
      "Epoch 52/600\n",
      "460/460 [==============================] - 2s 4ms/step - loss: 0.0716 - val_loss: 0.0441\n",
      "Epoch 53/600\n",
      "460/460 [==============================] - 2s 4ms/step - loss: 0.0728 - val_loss: 0.0514\n",
      "Epoch 54/600\n",
      "460/460 [==============================] - 2s 4ms/step - loss: 0.0730 - val_loss: 0.0502\n",
      "Epoch 55/600\n",
      "460/460 [==============================] - 2s 4ms/step - loss: 0.0736 - val_loss: 0.0817\n",
      "Epoch 56/600\n",
      "460/460 [==============================] - 2s 4ms/step - loss: 0.0689 - val_loss: 0.0371\n",
      "Epoch 57/600\n",
      "460/460 [==============================] - 2s 4ms/step - loss: 0.0644 - val_loss: 0.0793\n",
      "Epoch 58/600\n",
      "460/460 [==============================] - 2s 4ms/step - loss: 0.0613 - val_loss: 0.0548\n",
      "Epoch 59/600\n",
      "460/460 [==============================] - 2s 4ms/step - loss: 0.0746 - val_loss: 0.0451\n",
      "Epoch 60/600\n",
      "460/460 [==============================] - 2s 4ms/step - loss: 0.0607 - val_loss: 0.0477\n",
      "Epoch 61/600\n",
      "460/460 [==============================] - 2s 4ms/step - loss: 0.0583 - val_loss: 0.0653\n",
      "Epoch 62/600\n",
      "460/460 [==============================] - 2s 4ms/step - loss: 0.0662 - val_loss: 0.0455\n",
      "Epoch 63/600\n",
      "460/460 [==============================] - 2s 4ms/step - loss: 0.0609 - val_loss: 0.0530\n",
      "Epoch 64/600\n",
      "460/460 [==============================] - 2s 4ms/step - loss: 0.0681 - val_loss: 0.0347\n",
      "Epoch 65/600\n",
      "460/460 [==============================] - 2s 4ms/step - loss: 0.0677 - val_loss: 0.0355\n",
      "Epoch 66/600\n",
      "460/460 [==============================] - 2s 4ms/step - loss: 0.0696 - val_loss: 0.1039\n",
      "Epoch 67/600\n",
      "460/460 [==============================] - 2s 4ms/step - loss: 0.0621 - val_loss: 0.0587\n",
      "Epoch 68/600\n",
      "460/460 [==============================] - 2s 5ms/step - loss: 0.0668 - val_loss: 0.0339\n",
      "Epoch 69/600\n",
      "460/460 [==============================] - 2s 4ms/step - loss: 0.0614 - val_loss: 0.0485\n",
      "Epoch 70/600\n",
      "460/460 [==============================] - 2s 4ms/step - loss: 0.0577 - val_loss: 0.0370\n",
      "Epoch 71/600\n",
      "460/460 [==============================] - 2s 4ms/step - loss: 0.0653 - val_loss: 0.0674\n",
      "Epoch 72/600\n",
      "460/460 [==============================] - 2s 4ms/step - loss: 0.0611 - val_loss: 0.0440\n",
      "Epoch 72: early stopping\n"
     ]
    },
    {
     "data": {
      "text/plain": [
       "<keras.src.callbacks.History at 0x260674f4130>"
      ]
     },
     "execution_count": 105,
     "metadata": {},
     "output_type": "execute_result"
    }
   ],
   "source": [
    "model.fit(x=X_train,y=y_train,epochs=600,validation_data=(X_test,y_test),callbacks=[early_stop],batch_size=256)"
   ]
  },
  {
   "cell_type": "code",
   "execution_count": 106,
   "id": "6e58fa98",
   "metadata": {},
   "outputs": [],
   "source": [
    "#Model Evaluation\n",
    "###########################################################################################################################"
   ]
  },
  {
   "cell_type": "code",
   "execution_count": 107,
   "id": "6ce45872",
   "metadata": {},
   "outputs": [],
   "source": [
    "#To save a model\n",
    "#from tensorflow.keras.models import load_model\n",
    "#model.save('my_model.h5')"
   ]
  },
  {
   "cell_type": "code",
   "execution_count": 108,
   "id": "03f51d96",
   "metadata": {},
   "outputs": [
    {
     "data": {
      "text/plain": [
       "<Axes: >"
      ]
     },
     "execution_count": 108,
     "metadata": {},
     "output_type": "execute_result"
    },
    {
     "data": {
      "image/png": "[encoded data removed]",
      "text/plain": [
       "<Figure size 640x480 with 1 Axes>"
      ]
     },
     "metadata": {},
     "output_type": "display_data"
    }
   ],
   "source": [
    "losses = pd.DataFrame(model.history.history)\n",
    "losses.plot()"
   ]
  },
  {
   "cell_type": "code",
   "execution_count": 109,
   "id": "033d0a29",
   "metadata": {},
   "outputs": [],
   "source": [
    "from sklearn.metrics import classification_report,confusion_matrix"
   ]
  },
  {
   "cell_type": "code",
   "execution_count": 110,
   "id": "c89e02bc",
   "metadata": {},
   "outputs": [
    {
     "name": "stdout",
     "output_type": "stream",
     "text": [
      "919/919 [==============================] - 1s 2ms/step\n"
     ]
    }
   ],
   "source": [
    "#Get predictions\n",
    "predictions = model.predict(X_test)\n",
    "default = predictions>0.5\n",
    "no_default = predictions<=0.5\n",
    "predictions[default] = 1\n",
    "predictions[no_default] = 0\n",
    "del default\n",
    "del no_default"
   ]
  },
  {
   "cell_type": "code",
   "execution_count": 111,
   "id": "9ee5eb42",
   "metadata": {},
   "outputs": [
    {
     "name": "stdout",
     "output_type": "stream",
     "text": [
      "[[21522   471]\n",
      " [    1  7399]]\n",
      "\n",
      "\n",
      "              precision    recall  f1-score   support\n",
      "\n",
      "           0       1.00      0.98      0.99     21993\n",
      "           1       0.94      1.00      0.97      7400\n",
      "\n",
      "    accuracy                           0.98     29393\n",
      "   macro avg       0.97      0.99      0.98     29393\n",
      "weighted avg       0.98      0.98      0.98     29393\n",
      "\n"
     ]
    }
   ],
   "source": [
    "print(confusion_matrix(y_test,predictions))\n",
    "print('\\n')\n",
    "print(classification_report(y_test,predictions))\n",
    "#Here we got 98% accuracy"
   ]
  },
  {
   "cell_type": "code",
   "execution_count": 112,
   "id": "b4e44520",
   "metadata": {},
   "outputs": [],
   "source": [
    "#Tensorboard visualizations\n",
    "############################################################################################################################"
   ]
  },
  {
   "cell_type": "code",
   "execution_count": 113,
   "id": "01ce5608",
   "metadata": {},
   "outputs": [],
   "source": [
    "from tensorflow.keras.callbacks import TensorBoard"
   ]
  },
  {
   "cell_type": "code",
   "execution_count": 114,
   "id": "384fc59c",
   "metadata": {},
   "outputs": [
    {
     "data": {
      "text/plain": [
       "'C:\\\\Users\\\\rockc\\\\OneDrive\\\\Documents\\\\Python for Data Science and Machine Learning Bootcamp\\\\Py_DS_ML_Bootcamp-master\\\\22-Deep Learning'"
      ]
     },
     "execution_count": 114,
     "metadata": {},
     "output_type": "execute_result"
    }
   ],
   "source": [
    "pwd\n",
    "#print working directory"
   ]
  },
  {
   "cell_type": "code",
   "execution_count": 115,
   "id": "f0f461c7",
   "metadata": {},
   "outputs": [],
   "source": [
    "log_directory = 'logs\\\\fit'"
   ]
  },
  {
   "cell_type": "code",
   "execution_count": 116,
   "id": "26458869",
   "metadata": {},
   "outputs": [],
   "source": [
    "board = TensorBoard(log_dir=log_directory,histogram_freq=1,\n",
    "                   write_graph=True,\n",
    "                   write_images=True,\n",
    "                   update_freq='epoch',\n",
    "                   profile_batch=2,\n",
    "                   embeddings_freq=1)"
   ]
  },
  {
   "cell_type": "code",
   "execution_count": 117,
   "id": "3568dade",
   "metadata": {},
   "outputs": [],
   "source": [
    "#Now we redefine and refit the model\n",
    "model = Sequential()\n",
    "\n",
    "model.add(Dense(47,activation='relu'))\n",
    "model.add(Dropout(0.2))\n",
    "\n",
    "model.add(Dense(23,activation='relu'))\n",
    "model.add(Dropout(0.2))\n",
    "\n",
    "model.add(Dense(12,activation='relu'))\n",
    "model.add(Dropout(0.2))\n",
    "\n",
    "model.add(Dense(1,activation='sigmoid'))\n",
    "#Sigmoid for binary predictions\n",
    "\n",
    "model.compile(loss='binary_crossentropy',optimizer='adam')"
   ]
  },
  {
   "cell_type": "code",
   "execution_count": 118,
   "id": "e4625dc2",
   "metadata": {},
   "outputs": [
    {
     "name": "stdout",
     "output_type": "stream",
     "text": [
      "Epoch 1/600\n",
      "460/460 [==============================] - 4s 6ms/step - loss: 0.4442 - val_loss: 0.3628\n",
      "Epoch 2/600\n",
      "460/460 [==============================] - 2s 5ms/step - loss: 0.3724 - val_loss: 0.3562\n",
      "Epoch 3/600\n",
      "460/460 [==============================] - 2s 5ms/step - loss: 0.3635 - val_loss: 0.3545\n",
      "Epoch 4/600\n",
      "460/460 [==============================] - 2s 4ms/step - loss: 0.3599 - val_loss: 0.3512\n",
      "Epoch 5/600\n",
      "460/460 [==============================] - 2s 5ms/step - loss: 0.3560 - val_loss: 0.3482\n",
      "Epoch 6/600\n",
      "460/460 [==============================] - 2s 5ms/step - loss: 0.3520 - val_loss: 0.3453\n",
      "Epoch 7/600\n",
      "460/460 [==============================] - 3s 6ms/step - loss: 0.3482 - val_loss: 0.3424\n",
      "Epoch 8/600\n",
      "460/460 [==============================] - 3s 6ms/step - loss: 0.3429 - val_loss: 0.3353\n",
      "Epoch 9/600\n",
      "460/460 [==============================] - 2s 5ms/step - loss: 0.3325 - val_loss: 0.3145\n",
      "Epoch 10/600\n",
      "460/460 [==============================] - 2s 5ms/step - loss: 0.2901 - val_loss: 0.2277\n",
      "Epoch 11/600\n",
      "460/460 [==============================] - 2s 5ms/step - loss: 0.2191 - val_loss: 0.1692\n",
      "Epoch 12/600\n",
      "460/460 [==============================] - 2s 5ms/step - loss: 0.1696 - val_loss: 0.1350\n",
      "Epoch 13/600\n",
      "460/460 [==============================] - 3s 6ms/step - loss: 0.1395 - val_loss: 0.1124\n",
      "Epoch 14/600\n",
      "460/460 [==============================] - 3s 6ms/step - loss: 0.1230 - val_loss: 0.0823\n",
      "Epoch 15/600\n",
      "460/460 [==============================] - 3s 6ms/step - loss: 0.1102 - val_loss: 0.0686\n",
      "Epoch 16/600\n",
      "460/460 [==============================] - 2s 5ms/step - loss: 0.1069 - val_loss: 0.0600\n",
      "Epoch 17/600\n",
      "460/460 [==============================] - 2s 5ms/step - loss: 0.1016 - val_loss: 0.1200\n",
      "Epoch 18/600\n",
      "460/460 [==============================] - 2s 5ms/step - loss: 0.0970 - val_loss: 0.0769\n",
      "Epoch 19/600\n",
      "460/460 [==============================] - 2s 5ms/step - loss: 0.0979 - val_loss: 0.0670\n",
      "Epoch 20/600\n",
      "460/460 [==============================] - 2s 5ms/step - loss: 0.0924 - val_loss: 0.0893\n",
      "Epoch 21/600\n",
      "460/460 [==============================] - 3s 6ms/step - loss: 0.0911 - val_loss: 0.0856\n",
      "Epoch 22/600\n",
      "460/460 [==============================] - 2s 5ms/step - loss: 0.0915 - val_loss: 0.0789\n",
      "Epoch 23/600\n",
      "460/460 [==============================] - 2s 5ms/step - loss: 0.0869 - val_loss: 0.0574\n",
      "Epoch 24/600\n",
      "460/460 [==============================] - 2s 5ms/step - loss: 0.0902 - val_loss: 0.0933\n",
      "Epoch 25/600\n",
      "460/460 [==============================] - 2s 5ms/step - loss: 0.0831 - val_loss: 0.0560\n",
      "Epoch 26/600\n",
      "460/460 [==============================] - 3s 5ms/step - loss: 0.0864 - val_loss: 0.0896\n",
      "Epoch 27/600\n",
      "460/460 [==============================] - 3s 6ms/step - loss: 0.0830 - val_loss: 0.0733\n",
      "Epoch 28/600\n",
      "460/460 [==============================] - 3s 6ms/step - loss: 0.0901 - val_loss: 0.0405\n",
      "Epoch 29/600\n",
      "460/460 [==============================] - 2s 5ms/step - loss: 0.0852 - val_loss: 0.0520\n",
      "Epoch 30/600\n",
      "460/460 [==============================] - 2s 5ms/step - loss: 0.0848 - val_loss: 0.0654\n",
      "Epoch 31/600\n",
      "460/460 [==============================] - 2s 5ms/step - loss: 0.0818 - val_loss: 0.0636\n",
      "Epoch 32/600\n",
      "460/460 [==============================] - 2s 5ms/step - loss: 0.0792 - val_loss: 0.0456\n",
      "Epoch 33/600\n",
      "460/460 [==============================] - 3s 5ms/step - loss: 0.0733 - val_loss: 0.0524\n",
      "Epoch 34/600\n",
      "460/460 [==============================] - 3s 5ms/step - loss: 0.0766 - val_loss: 0.0659\n",
      "Epoch 35/600\n",
      "460/460 [==============================] - 2s 5ms/step - loss: 0.0803 - val_loss: 0.0494\n",
      "Epoch 36/600\n",
      "460/460 [==============================] - 2s 5ms/step - loss: 0.0784 - val_loss: 0.0477\n",
      "Epoch 37/600\n",
      "460/460 [==============================] - 2s 5ms/step - loss: 0.0784 - val_loss: 0.0505\n",
      "Epoch 38/600\n",
      "460/460 [==============================] - 2s 5ms/step - loss: 0.0861 - val_loss: 0.0536\n",
      "Epoch 39/600\n",
      "460/460 [==============================] - 2s 5ms/step - loss: 0.0818 - val_loss: 0.0427\n",
      "Epoch 40/600\n",
      "460/460 [==============================] - 3s 5ms/step - loss: 0.0775 - val_loss: 0.0481\n",
      "Epoch 41/600\n",
      "460/460 [==============================] - 3s 5ms/step - loss: 0.0831 - val_loss: 0.0728\n",
      "Epoch 42/600\n",
      "460/460 [==============================] - 2s 5ms/step - loss: 0.0759 - val_loss: 0.0583\n",
      "Epoch 43/600\n",
      "460/460 [==============================] - 2s 5ms/step - loss: 0.0726 - val_loss: 0.0592\n",
      "Epoch 44/600\n",
      "460/460 [==============================] - 2s 5ms/step - loss: 0.0710 - val_loss: 0.1271\n",
      "Epoch 45/600\n",
      "460/460 [==============================] - 2s 5ms/step - loss: 0.0775 - val_loss: 0.0609\n",
      "Epoch 46/600\n",
      "460/460 [==============================] - 2s 5ms/step - loss: 0.0718 - val_loss: 0.0552\n",
      "Epoch 47/600\n",
      "460/460 [==============================] - 3s 6ms/step - loss: 0.0677 - val_loss: 0.0738\n",
      "Epoch 48/600\n",
      "460/460 [==============================] - 3s 6ms/step - loss: 0.0766 - val_loss: 0.0441\n",
      "Epoch 49/600\n",
      "460/460 [==============================] - 2s 5ms/step - loss: 0.0664 - val_loss: 0.0504\n",
      "Epoch 50/600\n",
      "460/460 [==============================] - 2s 5ms/step - loss: 0.0718 - val_loss: 0.0454\n",
      "Epoch 51/600\n",
      "460/460 [==============================] - 2s 5ms/step - loss: 0.0691 - val_loss: 0.0403\n",
      "Epoch 52/600\n",
      "460/460 [==============================] - 2s 5ms/step - loss: 0.0786 - val_loss: 0.0367\n",
      "Epoch 53/600\n",
      "460/460 [==============================] - 2s 5ms/step - loss: 0.0681 - val_loss: 0.0379\n",
      "Epoch 54/600\n",
      "460/460 [==============================] - 3s 6ms/step - loss: 0.0667 - val_loss: 0.0617\n",
      "Epoch 55/600\n",
      "460/460 [==============================] - 3s 6ms/step - loss: 0.0705 - val_loss: 0.0907\n",
      "Epoch 56/600\n",
      "460/460 [==============================] - 3s 6ms/step - loss: 0.0757 - val_loss: 0.0467\n",
      "Epoch 57/600\n",
      "460/460 [==============================] - 2s 5ms/step - loss: 0.0704 - val_loss: 0.0413\n",
      "Epoch 58/600\n",
      "460/460 [==============================] - 2s 5ms/step - loss: 0.0749 - val_loss: 0.0564\n",
      "Epoch 59/600\n",
      "460/460 [==============================] - 2s 5ms/step - loss: 0.0612 - val_loss: 0.0375\n",
      "Epoch 60/600\n",
      "460/460 [==============================] - 2s 5ms/step - loss: 0.0594 - val_loss: 0.0662\n",
      "Epoch 61/600\n",
      "460/460 [==============================] - 3s 6ms/step - loss: 0.0681 - val_loss: 0.0457\n",
      "Epoch 62/600\n",
      "460/460 [==============================] - 3s 6ms/step - loss: 0.0593 - val_loss: 0.0414\n",
      "Epoch 63/600\n",
      "460/460 [==============================] - 2s 5ms/step - loss: 0.0641 - val_loss: 0.0374\n",
      "Epoch 64/600\n",
      "460/460 [==============================] - 2s 5ms/step - loss: 0.0569 - val_loss: 0.0446\n",
      "Epoch 65/600\n",
      "460/460 [==============================] - 2s 5ms/step - loss: 0.0625 - val_loss: 0.0392\n",
      "Epoch 66/600\n",
      "460/460 [==============================] - 2s 5ms/step - loss: 0.0602 - val_loss: 0.0470\n",
      "Epoch 67/600\n",
      "460/460 [==============================] - 2s 5ms/step - loss: 0.0651 - val_loss: 0.0579\n",
      "Epoch 68/600\n",
      "460/460 [==============================] - 3s 6ms/step - loss: 0.0641 - val_loss: 0.0371\n",
      "Epoch 69/600\n",
      "460/460 [==============================] - 3s 5ms/step - loss: 0.0644 - val_loss: 0.0326\n",
      "Epoch 70/600\n",
      "460/460 [==============================] - 2s 5ms/step - loss: 0.0639 - val_loss: 0.0557\n",
      "Epoch 71/600\n",
      "460/460 [==============================] - 2s 5ms/step - loss: 0.0608 - val_loss: 0.0412\n",
      "Epoch 72/600\n",
      "460/460 [==============================] - 2s 5ms/step - loss: 0.0651 - val_loss: 0.0490\n",
      "Epoch 73/600\n",
      "460/460 [==============================] - 2s 5ms/step - loss: 0.0697 - val_loss: 0.0447\n",
      "Epoch 74/600\n",
      "460/460 [==============================] - 3s 6ms/step - loss: 0.0618 - val_loss: 0.0472\n",
      "Epoch 75/600\n",
      "460/460 [==============================] - 3s 6ms/step - loss: 0.0591 - val_loss: 0.0437\n",
      "Epoch 76/600\n",
      "460/460 [==============================] - 2s 5ms/step - loss: 0.0617 - val_loss: 0.0311\n",
      "Epoch 77/600\n",
      "460/460 [==============================] - 2s 5ms/step - loss: 0.0672 - val_loss: 0.0487\n",
      "Epoch 78/600\n",
      "460/460 [==============================] - 2s 5ms/step - loss: 0.0721 - val_loss: 0.0428\n",
      "Epoch 79/600\n",
      "460/460 [==============================] - 2s 5ms/step - loss: 0.0666 - val_loss: 0.0489\n",
      "Epoch 80/600\n",
      "460/460 [==============================] - 3s 6ms/step - loss: 0.0631 - val_loss: 0.0465\n",
      "Epoch 81/600\n"
     ]
    },
    {
     "name": "stdout",
     "output_type": "stream",
     "text": [
      "460/460 [==============================] - 3s 6ms/step - loss: 0.0615 - val_loss: 0.0763\n",
      "Epoch 82/600\n",
      "460/460 [==============================] - 3s 6ms/step - loss: 0.0585 - val_loss: 0.0338\n",
      "Epoch 83/600\n",
      "460/460 [==============================] - 2s 5ms/step - loss: 0.0655 - val_loss: 0.0586\n",
      "Epoch 84/600\n",
      "460/460 [==============================] - 2s 5ms/step - loss: 0.0617 - val_loss: 0.0602\n",
      "Epoch 85/600\n",
      "460/460 [==============================] - 2s 5ms/step - loss: 0.0639 - val_loss: 0.0436\n",
      "Epoch 86/600\n",
      "460/460 [==============================] - 2s 5ms/step - loss: 0.0597 - val_loss: 0.0435\n",
      "Epoch 87/600\n",
      "460/460 [==============================] - 3s 6ms/step - loss: 0.0706 - val_loss: 0.0482\n",
      "Epoch 88/600\n",
      "460/460 [==============================] - 3s 6ms/step - loss: 0.0677 - val_loss: 0.0744\n",
      "Epoch 89/600\n",
      "460/460 [==============================] - 3s 6ms/step - loss: 0.0673 - val_loss: 0.0424\n",
      "Epoch 90/600\n",
      "460/460 [==============================] - 2s 5ms/step - loss: 0.0638 - val_loss: 0.0375\n",
      "Epoch 91/600\n",
      "460/460 [==============================] - 2s 5ms/step - loss: 0.0658 - val_loss: 0.0545\n",
      "Epoch 92/600\n",
      "460/460 [==============================] - 2s 5ms/step - loss: 0.0681 - val_loss: 0.0380\n",
      "Epoch 93/600\n",
      "460/460 [==============================] - 3s 5ms/step - loss: 0.0605 - val_loss: 0.0336\n",
      "Epoch 94/600\n",
      "460/460 [==============================] - 3s 6ms/step - loss: 0.0609 - val_loss: 0.0295\n",
      "Epoch 95/600\n",
      "460/460 [==============================] - 3s 6ms/step - loss: 0.0585 - val_loss: 0.0475\n",
      "Epoch 96/600\n",
      "460/460 [==============================] - 2s 5ms/step - loss: 0.0559 - val_loss: 0.0435\n",
      "Epoch 97/600\n",
      "460/460 [==============================] - 2s 5ms/step - loss: 0.0584 - val_loss: 0.0379\n",
      "Epoch 98/600\n",
      "460/460 [==============================] - 2s 5ms/step - loss: 0.0568 - val_loss: 0.0429\n",
      "Epoch 99/600\n",
      "460/460 [==============================] - 2s 5ms/step - loss: 0.0607 - val_loss: 0.0524\n",
      "Epoch 100/600\n",
      "460/460 [==============================] - 3s 7ms/step - loss: 0.0637 - val_loss: 0.0330\n",
      "Epoch 101/600\n",
      "460/460 [==============================] - 3s 7ms/step - loss: 0.0559 - val_loss: 0.0322\n",
      "Epoch 102/600\n",
      "460/460 [==============================] - 2s 5ms/step - loss: 0.0562 - val_loss: 0.0388\n",
      "Epoch 103/600\n",
      "460/460 [==============================] - 2s 5ms/step - loss: 0.0587 - val_loss: 0.0272\n",
      "Epoch 104/600\n",
      "460/460 [==============================] - 2s 5ms/step - loss: 0.0530 - val_loss: 0.0286\n",
      "Epoch 105/600\n",
      "460/460 [==============================] - 3s 6ms/step - loss: 0.0517 - val_loss: 0.0442\n",
      "Epoch 106/600\n",
      "460/460 [==============================] - 3s 7ms/step - loss: 0.0625 - val_loss: 0.0385\n",
      "Epoch 107/600\n",
      "460/460 [==============================] - 3s 7ms/step - loss: 0.0602 - val_loss: 0.0350\n",
      "Epoch 108/600\n",
      "460/460 [==============================] - 3s 6ms/step - loss: 0.0655 - val_loss: 0.0551\n",
      "Epoch 109/600\n",
      "460/460 [==============================] - 3s 5ms/step - loss: 0.0608 - val_loss: 0.0560\n",
      "Epoch 110/600\n",
      "460/460 [==============================] - 2s 5ms/step - loss: 0.0537 - val_loss: 0.0424\n",
      "Epoch 111/600\n",
      "460/460 [==============================] - 3s 6ms/step - loss: 0.0614 - val_loss: 0.0450\n",
      "Epoch 112/600\n",
      "460/460 [==============================] - 3s 7ms/step - loss: 0.0562 - val_loss: 0.0400\n",
      "Epoch 113/600\n",
      "460/460 [==============================] - 3s 7ms/step - loss: 0.0540 - val_loss: 0.0277\n",
      "Epoch 114/600\n",
      "460/460 [==============================] - 3s 6ms/step - loss: 0.0562 - val_loss: 0.0560\n",
      "Epoch 115/600\n",
      "460/460 [==============================] - 3s 6ms/step - loss: 0.0560 - val_loss: 0.0373\n",
      "Epoch 116/600\n",
      "460/460 [==============================] - 3s 7ms/step - loss: 0.0551 - val_loss: 0.0306\n",
      "Epoch 117/600\n",
      "460/460 [==============================] - 3s 7ms/step - loss: 0.0595 - val_loss: 0.0274\n",
      "Epoch 118/600\n",
      "460/460 [==============================] - 3s 7ms/step - loss: 0.0589 - val_loss: 0.0348\n",
      "Epoch 119/600\n",
      "460/460 [==============================] - 3s 6ms/step - loss: 0.0617 - val_loss: 0.0355\n",
      "Epoch 120/600\n",
      "460/460 [==============================] - 3s 6ms/step - loss: 0.0589 - val_loss: 0.0326\n",
      "Epoch 121/600\n",
      "460/460 [==============================] - 3s 6ms/step - loss: 0.0560 - val_loss: 0.0471\n",
      "Epoch 122/600\n",
      "460/460 [==============================] - 3s 7ms/step - loss: 0.0538 - val_loss: 0.0309\n",
      "Epoch 123/600\n",
      "460/460 [==============================] - 3s 7ms/step - loss: 0.0581 - val_loss: 0.0274\n",
      "Epoch 124/600\n",
      "460/460 [==============================] - 3s 7ms/step - loss: 0.0584 - val_loss: 0.0295\n",
      "Epoch 125/600\n",
      "460/460 [==============================] - 3s 6ms/step - loss: 0.0555 - val_loss: 0.0283\n",
      "Epoch 126/600\n",
      "460/460 [==============================] - 3s 6ms/step - loss: 0.0601 - val_loss: 0.0430\n",
      "Epoch 127/600\n",
      "460/460 [==============================] - 3s 7ms/step - loss: 0.0570 - val_loss: 0.0294\n",
      "Epoch 128/600\n",
      "460/460 [==============================] - 3s 7ms/step - loss: 0.0545 - val_loss: 0.0326\n",
      "Epoch 128: early stopping\n"
     ]
    },
    {
     "data": {
      "text/plain": [
       "<keras.src.callbacks.History at 0x26069b709a0>"
      ]
     },
     "execution_count": 118,
     "metadata": {},
     "output_type": "execute_result"
    }
   ],
   "source": [
    "#Note the reference to board under callbacks\n",
    "model.fit(x=X_train,y=y_train,epochs=600,validation_data=(X_test,y_test),callbacks=[early_stop,board],batch_size=256)"
   ]
  },
  {
   "cell_type": "code",
   "execution_count": 120,
   "id": "3b49d84d",
   "metadata": {},
   "outputs": [
    {
     "name": "stdout",
     "output_type": "stream",
     "text": [
      "logs\\fit\n"
     ]
    }
   ],
   "source": [
    "print(log_directory)"
   ]
  },
  {
   "cell_type": "code",
   "execution_count": 121,
   "id": "cff36c8d",
   "metadata": {},
   "outputs": [
    {
     "data": {
      "text/plain": [
       "'C:\\\\Users\\\\rockc\\\\OneDrive\\\\Documents\\\\Python for Data Science and Machine Learning Bootcamp\\\\Py_DS_ML_Bootcamp-master\\\\22-Deep Learning'"
      ]
     },
     "execution_count": 121,
     "metadata": {},
     "output_type": "execute_result"
    }
   ],
   "source": [
    "pwd"
   ]
  },
  {
   "cell_type": "code",
   "execution_count": 122,
   "id": "80127312",
   "metadata": {},
   "outputs": [],
   "source": [
    "#Note we now run Tensorboard through the command line"
   ]
  },
  {
   "cell_type": "code",
   "execution_count": 124,
   "id": "e1b24258",
   "metadata": {},
   "outputs": [],
   "source": [
    "#Use cd on the command line to change directory to the file path reported back by pwd or your current .py file location\n",
    "\n",
    "#run this code in command line\n",
    "tensorboard --logdir logs\\fit"
   ]
  },
  {
   "cell_type": "code",
   "execution_count": null,
   "id": "c8b1d40d",
   "metadata": {},
   "outputs": [],
   "source": []
  }
 ],
 "metadata": {
  "kernelspec": {
   "display_name": "Python 3 (ipykernel)",
   "language": "python",
   "name": "python3"
  },
  "language_info": {
   "codemirror_mode": {
    "name": "ipython",
    "version": 3
   },
   "file_extension": ".py",
   "mimetype": "text/x-python",
   "name": "python",
   "nbconvert_exporter": "python",
   "pygments_lexer": "ipython3",
   "version": "3.10.9"
  }
 },
 "nbformat": 4,
 "nbformat_minor": 5
}
